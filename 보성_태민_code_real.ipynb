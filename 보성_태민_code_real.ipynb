{
 "cells": [
  {
   "cell_type": "markdown",
   "id": "017e9265",
   "metadata": {},
   "source": [
    "# 영업 성공 여부 분류 경진대회"
   ]
  },
  {
   "cell_type": "markdown",
   "id": "acdab431",
   "metadata": {},
   "source": [
    "## 1. 데이터 확인"
   ]
  },
  {
   "cell_type": "markdown",
   "id": "2b8341e8",
   "metadata": {},
   "source": [
    "### 필수 라이브러리"
   ]
  },
  {
   "cell_type": "code",
   "execution_count": 1,
   "id": "a315cc58",
   "metadata": {},
   "outputs": [],
   "source": [
    "import pandas as pd\n",
    "import numpy as np\n",
    "from sklearn.metrics import (\n",
    "    accuracy_score,\n",
    "    confusion_matrix,\n",
    "    f1_score,\n",
    "    precision_score,\n",
    "    recall_score,\n",
    ")\n",
    "from sklearn.model_selection import train_test_split\n",
    "\n",
    "from sklearn.tree import DecisionTreeClassifier\n",
    "import seaborn as sns\n",
    "import matplotlib.pyplot as plt\n",
    "from sklearn.preprocessing import LabelEncoder\n",
    "%matplotlib inline\n",
    "pd.set_option('display.max_columns', None)\n",
    "pd.set_option('display.max_rows', None)\n",
    "import warnings\n",
    "warnings.filterwarnings(\"ignore\")"
   ]
  },
  {
   "cell_type": "markdown",
   "id": "412f98cc",
   "metadata": {},
   "source": [
    "### 데이터 셋 읽어오기"
   ]
  },
  {
   "cell_type": "code",
   "execution_count": 2,
   "id": "7ada941e",
   "metadata": {},
   "outputs": [],
   "source": [
    "df_train = pd.read_csv(\"train.csv\") # 학습용 데이터\n",
    "df_test = pd.read_csv(\"submission.csv\") # 테스트 데이터(제출파일의 데이터)"
   ]
  },
  {
   "cell_type": "code",
   "execution_count": 3,
   "id": "4b10b283",
   "metadata": {},
   "outputs": [],
   "source": [
    "customer_type_index = df_train[df_train['customer_type'].isnull()].index\n",
    "customer_job_index = df_train[df_train['customer_job'].isnull()].index\n",
    "test_customer_type_index = df_test[df_test['customer_type'].isnull()].index\n",
    "test_customer_job_index = df_test[df_test['customer_job'].isnull()].index\n",
    "business_sub_index = df_train[df_train['business_subarea'].isnull()].index\n",
    "test_business_sub_index = df_test[df_test['business_subarea'].isnull()].index"
   ]
  },
  {
   "cell_type": "code",
   "execution_count": 4,
   "id": "4726cc72",
   "metadata": {},
   "outputs": [],
   "source": [
    "business_index = df_train[df_train['business_area'].isnull()].index\n",
    "test_business_index = df_test[df_test['business_area'].isnull()].index"
   ]
  },
  {
   "cell_type": "markdown",
   "id": "c1738eeb",
   "metadata": {},
   "source": [
    "### 1. historical_existing_cnt"
   ]
  },
  {
   "cell_type": "code",
   "execution_count": 5,
   "id": "96595877",
   "metadata": {},
   "outputs": [],
   "source": [
    "# df_train['historical_existing_cnt'].fillna(df_train.groupby('is_converted')['historical_existing_cnt'].transform(lambda x: x.mode()[0]),inplace=True)\n",
    "# df_test['historical_existing_cnt'].fillna(df_test.groupby('is_converted')['historical_existing_cnt'].transform(lambda x: x.mode()[0]),inplace=True)"
   ]
  },
  {
   "cell_type": "code",
   "execution_count": 6,
   "id": "d34adcbf",
   "metadata": {
    "scrolled": false
   },
   "outputs": [],
   "source": [
    "# df_train['ver_win_rate_x'].fillna(df_train.groupby('is_converted')['ver_win_rate_x'].transform(lambda x: x.mode()[0]),inplace=True)\n",
    "# df_test['ver_win_rate_x'].fillna(df_test.groupby('is_converted')['ver_win_rate_x'].transform(lambda x: x.mode()[0]),inplace=True)"
   ]
  },
  {
   "cell_type": "code",
   "execution_count": 7,
   "id": "efaab818",
   "metadata": {},
   "outputs": [],
   "source": [
    "def Q_index(col):\n",
    "    Q1 = df_train[col].quantile(0.25)\n",
    "    Q3 = df_train[col].quantile(0.75)\n",
    "    IQR = Q3 - Q1\n",
    "    lower_outlier = Q1 - 1.5 * IQR\n",
    "    upper_outlier = Q3 + 1.5 * IQR\n",
    "    print(lower_outlier, upper_outlier)\n",
    "    outlier = df_train[(df_train[col] < lower_outlier) | (df_train[col] > upper_outlier)].index\n",
    "    test_outlier = df_test[(df_test[col] < lower_outlier) | (df_test[col] > upper_outlier)].index\n",
    "    return outlier, test_outlier"
   ]
  },
  {
   "cell_type": "code",
   "execution_count": 8,
   "id": "76da941f",
   "metadata": {},
   "outputs": [
    {
     "data": {
      "text/plain": [
       "(0.0, 50.0)"
      ]
     },
     "execution_count": 8,
     "metadata": {},
     "output_type": "execute_result"
    },
    {
     "data": {
      "image/png": "[encoded data removed]",
      "text/plain": [
       "<Figure size 640x480 with 1 Axes>"
      ]
     },
     "metadata": {},
     "output_type": "display_data"
    }
   ],
   "source": [
    "sns.boxplot(y=df_train['historical_existing_cnt'])\n",
    "plt.ylim(0,50)"
   ]
  },
  {
   "cell_type": "code",
   "execution_count": 9,
   "id": "f2d75a99",
   "metadata": {},
   "outputs": [
    {
     "name": "stdout",
     "output_type": "stream",
     "text": [
      "4.0\n",
      "4.0\n"
     ]
    }
   ],
   "source": [
    "print(df_train['historical_existing_cnt'].median())\n",
    "print(df_test['historical_existing_cnt'].median())"
   ]
  },
  {
   "cell_type": "code",
   "execution_count": 10,
   "id": "f1fbc231",
   "metadata": {},
   "outputs": [
    {
     "name": "stdout",
     "output_type": "stream",
     "text": [
      "-26.0 46.0\n"
     ]
    }
   ],
   "source": [
    "outlier, test_outlier = Q_index('historical_existing_cnt')\n",
    "\n",
    "df_train['historical_existing_cnt'][outlier] = df_train['historical_existing_cnt'].median()\n",
    "df_test['historical_existing_cnt'][test_outlier] = df_test['historical_existing_cnt'].median()"
   ]
  },
  {
   "cell_type": "code",
   "execution_count": 11,
   "id": "453941d3",
   "metadata": {},
   "outputs": [
    {
     "data": {
      "text/plain": [
       "<Axes: xlabel='historical_existing_cnt'>"
      ]
     },
     "execution_count": 11,
     "metadata": {},
     "output_type": "execute_result"
    },
    {
     "data": {
      "image/png": "[encoded data removed]",
      "text/plain": [
       "<Figure size 640x480 with 1 Axes>"
      ]
     },
     "metadata": {},
     "output_type": "display_data"
    }
   ],
   "source": [
    "sns.distplot(df_train['historical_existing_cnt'], kde = False, bins = 20)"
   ]
  },
  {
   "cell_type": "code",
   "execution_count": 12,
   "id": "5a9e0e84",
   "metadata": {
    "scrolled": false
   },
   "outputs": [
    {
     "data": {
      "text/plain": [
       "<Axes: ylabel='historical_existing_cnt'>"
      ]
     },
     "execution_count": 12,
     "metadata": {},
     "output_type": "execute_result"
    },
    {
     "data": {
      "image/png": "[encoded data removed]",
      "text/plain": [
       "<Figure size 640x480 with 1 Axes>"
      ]
     },
     "metadata": {},
     "output_type": "display_data"
    }
   ],
   "source": [
    "sns.boxplot(y=df_train['historical_existing_cnt'])"
   ]
  },
  {
   "cell_type": "code",
   "execution_count": 13,
   "id": "ed37a5d5",
   "metadata": {},
   "outputs": [
    {
     "name": "stdout",
     "output_type": "stream",
     "text": [
      "count    13756.000000\n",
      "mean         6.650552\n",
      "std          7.956247\n",
      "min          0.000000\n",
      "25%          1.000000\n",
      "50%          4.000000\n",
      "75%         10.000000\n",
      "max         46.000000\n",
      "Name: historical_existing_cnt, dtype: float64\n",
      "count    1275.000000\n",
      "mean        7.279216\n",
      "std         8.600801\n",
      "min         0.000000\n",
      "25%         0.000000\n",
      "50%         4.000000\n",
      "75%        16.000000\n",
      "max        45.000000\n",
      "Name: historical_existing_cnt, dtype: float64\n",
      "historical_existing_cnt\n",
      "4.0     4633\n",
      "0.0     1973\n",
      "1.0     1967\n",
      "19.0    1441\n",
      "16.0    1132\n",
      "3.0      695\n",
      "2.0      594\n",
      "11.0     217\n",
      "6.0      141\n",
      "5.0      138\n",
      "45.0      82\n",
      "7.0       69\n",
      "10.0      60\n",
      "9.0       51\n",
      "13.0      49\n",
      "12.0      48\n",
      "8.0       43\n",
      "17.0      42\n",
      "15.0      34\n",
      "31.0      31\n",
      "14.0      30\n",
      "38.0      25\n",
      "41.0      22\n",
      "22.0      20\n",
      "21.0      19\n",
      "23.0      19\n",
      "27.0      16\n",
      "24.0      14\n",
      "36.0      13\n",
      "37.0      13\n",
      "40.0      13\n",
      "42.0      11\n",
      "29.0      11\n",
      "30.0      11\n",
      "18.0      10\n",
      "32.0      10\n",
      "46.0       9\n",
      "20.0       9\n",
      "28.0       8\n",
      "44.0       8\n",
      "26.0       8\n",
      "25.0       6\n",
      "35.0       4\n",
      "39.0       3\n",
      "34.0       2\n",
      "43.0       1\n",
      "33.0       1\n",
      "Name: count, dtype: int64\n",
      "historical_existing_cnt\n",
      "0.0     345\n",
      "4.0     189\n",
      "19.0    142\n",
      "1.0     121\n",
      "16.0    121\n",
      "3.0      94\n",
      "2.0      53\n",
      "11.0     22\n",
      "10.0     18\n",
      "32.0     17\n",
      "5.0      16\n",
      "6.0      15\n",
      "13.0     15\n",
      "26.0     13\n",
      "9.0      11\n",
      "8.0      10\n",
      "17.0     10\n",
      "7.0      10\n",
      "12.0      8\n",
      "18.0      6\n",
      "25.0      5\n",
      "24.0      5\n",
      "14.0      3\n",
      "40.0      3\n",
      "27.0      3\n",
      "28.0      2\n",
      "15.0      2\n",
      "42.0      2\n",
      "29.0      2\n",
      "30.0      1\n",
      "34.0      1\n",
      "35.0      1\n",
      "21.0      1\n",
      "39.0      1\n",
      "33.0      1\n",
      "20.0      1\n",
      "22.0      1\n",
      "45.0      1\n",
      "31.0      1\n",
      "41.0      1\n",
      "23.0      1\n",
      "Name: count, dtype: int64\n"
     ]
    }
   ],
   "source": [
    "print(df_train['historical_existing_cnt'].describe())\n",
    "print(df_test['historical_existing_cnt'].describe())\n",
    "print(df_train['historical_existing_cnt'].value_counts())\n",
    "print(df_test['historical_existing_cnt'].value_counts())"
   ]
  },
  {
   "cell_type": "code",
   "execution_count": 14,
   "id": "c5ea6d45",
   "metadata": {},
   "outputs": [
    {
     "data": {
      "image/png": "[encoded data removed]",
      "text/plain": [
       "<Figure size 640x480 with 1 Axes>"
      ]
     },
     "metadata": {},
     "output_type": "display_data"
    }
   ],
   "source": [
    "sns.histplot(x='historical_existing_cnt', data=df_train, element='step')\n",
    "plt.xlim(0,50)\n",
    "plt.ylim(0,3000)\n",
    "plt.show()"
   ]
  },
  {
   "cell_type": "code",
   "execution_count": 15,
   "id": "29e076f1",
   "metadata": {},
   "outputs": [
    {
     "data": {
      "image/png": "[encoded data removed]",
      "text/plain": [
       "<Figure size 640x480 with 1 Axes>"
      ]
     },
     "metadata": {},
     "output_type": "display_data"
    }
   ],
   "source": [
    "sns.histplot(x='historical_existing_cnt', data=df_test, element='step')\n",
    "plt.xlim(0,50)\n",
    "plt.ylim(0,500)\n",
    "plt.show()"
   ]
  },
  {
   "cell_type": "markdown",
   "id": "91254fcd",
   "metadata": {},
   "source": [
    "### 2. id_strategic_ver    it_strategic_ver  idit_strategic_ver"
   ]
  },
  {
   "cell_type": "code",
   "execution_count": 16,
   "id": "e6b33d92",
   "metadata": {},
   "outputs": [],
   "source": [
    "df_train['id_strategic_ver'] = df_train['business_unit'].apply(lambda x : 1 if x == 'ID' else 0)\n",
    "df_test['id_strategic_ver'] = df_test['business_unit'].apply(lambda x : 1 if x == 'ID' else 0)"
   ]
  },
  {
   "cell_type": "code",
   "execution_count": 17,
   "id": "186ddea3",
   "metadata": {},
   "outputs": [],
   "source": [
    "df_train['it_strategic_ver'] = df_train['business_unit'].apply(lambda x : 1 if x == 'IT' else 0)\n",
    "df_test['it_strategic_ver'] = df_test['business_unit'].apply(lambda x : 1 if x == 'IT' else 0)"
   ]
  },
  {
   "cell_type": "code",
   "execution_count": 18,
   "id": "40b5fea5",
   "metadata": {},
   "outputs": [],
   "source": [
    "index = df_train[(df_train['id_strategic_ver'] == 1) | (df_train['it_strategic_ver'] == 1)].index\n",
    "index_1 = df_test[(df_test['id_strategic_ver'] == 1) | (df_test['it_strategic_ver'] == 1)].index"
   ]
  },
  {
   "cell_type": "code",
   "execution_count": 19,
   "id": "a4db0f0e",
   "metadata": {},
   "outputs": [],
   "source": [
    "df_train['idit_strategic_ver'][index] = 1\n",
    "df_train['idit_strategic_ver'].fillna(0, inplace = True)"
   ]
  },
  {
   "cell_type": "code",
   "execution_count": 20,
   "id": "6263575b",
   "metadata": {},
   "outputs": [],
   "source": [
    "df_test['idit_strategic_ver'][index_1] = 1\n",
    "df_test['idit_strategic_ver'].fillna(0, inplace = True)"
   ]
  },
  {
   "cell_type": "markdown",
   "id": "af526c13",
   "metadata": {},
   "source": [
    "## 2. 데이터 전처리"
   ]
  },
  {
   "cell_type": "markdown",
   "id": "9d15c154",
   "metadata": {},
   "source": [
    "#### customer_country와 customer_country.1은 똑같아서 지움"
   ]
  },
  {
   "cell_type": "code",
   "execution_count": 21,
   "id": "1f56c554",
   "metadata": {},
   "outputs": [],
   "source": [
    "df_train.drop('customer_country.1',axis = 1, inplace = True)\n",
    "df_test.drop('customer_country.1',axis = 1, inplace = True)"
   ]
  },
  {
   "cell_type": "markdown",
   "id": "6c27dc0c",
   "metadata": {},
   "source": [
    "\n",
    "- customer_country.1 이랑 완전히 똑같아서 버림\n",
    "- split_char : / , // , 제거후 동일한 컬럼으로 합치기"
   ]
  },
  {
   "cell_type": "code",
   "execution_count": 22,
   "id": "6e779199",
   "metadata": {},
   "outputs": [],
   "source": [
    "def split_char(series : pd.Series) ->pd.Series:\n",
    "    series = series.str.split('//').str[-1]\n",
    "    series = series.str.split('/').str[-1]\n",
    "    series = series.str.strip()\n",
    "    return series"
   ]
  },
  {
   "cell_type": "markdown",
   "id": "da1856fb",
   "metadata": {},
   "source": [
    "#### label_lower 함수\n",
    "- 대소문자 합치기"
   ]
  },
  {
   "cell_type": "code",
   "execution_count": 23,
   "id": "448bf50f",
   "metadata": {},
   "outputs": [],
   "source": [
    "import re"
   ]
  },
  {
   "cell_type": "code",
   "execution_count": 24,
   "id": "f2668ae0",
   "metadata": {},
   "outputs": [],
   "source": [
    "def label_lower(doc: str) -> str:\n",
    "    if isinstance(doc, str):\n",
    "        doc = re.sub(r'[^ A-Za-z]', '', doc)\n",
    "    else :\n",
    "        return doc\n",
    "    return doc.lower()"
   ]
  },
  {
   "cell_type": "code",
   "execution_count": 25,
   "id": "1d169b36",
   "metadata": {},
   "outputs": [],
   "source": [
    "def label_lower_series(series: pd.Series) -> pd.Series:\n",
    "    return series.apply(label_lower)"
   ]
  },
  {
   "cell_type": "markdown",
   "id": "ccfdd756",
   "metadata": {},
   "source": [
    "### 3. customer_country 나라로만 묶어주기"
   ]
  },
  {
   "cell_type": "code",
   "execution_count": 26,
   "id": "85d994d6",
   "metadata": {},
   "outputs": [],
   "source": [
    "df_train['customer_country'] = split_char(df_train['customer_country'])"
   ]
  },
  {
   "cell_type": "code",
   "execution_count": 27,
   "id": "f2677536",
   "metadata": {},
   "outputs": [],
   "source": [
    "df_train['customer_country'].fillna('', inplace = True)\n",
    "us_index = df_train[df_train['customer_country'].str.contains('United States')].index\n",
    "df_train['customer_country'][us_index] = 'United States'\n",
    "\n",
    "us_index = df_train[df_train['customer_country'].str.contains('US')].index\n",
    "df_train['customer_country'][us_index] = 'United States'\n",
    "\n",
    "us_index = df_train[df_train['customer_country'].str.contains('USA')].index\n",
    "df_train['customer_country'][us_index] = 'United States'"
   ]
  },
  {
   "cell_type": "code",
   "execution_count": 28,
   "id": "5d77bf32",
   "metadata": {},
   "outputs": [],
   "source": [
    "df_test['customer_country'] = split_char(df_test['customer_country'])"
   ]
  },
  {
   "cell_type": "markdown",
   "id": "4562757a",
   "metadata": {},
   "source": [
    "#### \n",
    "- remove_counts는 value_counts()의 개수가 3개 미만인 데이터는 nan으로 바꿔준다."
   ]
  },
  {
   "cell_type": "code",
   "execution_count": 29,
   "id": "3fb8173f",
   "metadata": {},
   "outputs": [],
   "source": [
    "def remove_counts(series: pd.Series) ->pd.Series:\n",
    "    if isinstance(series, object):\n",
    "        value_counts = series.value_counts()\n",
    "        less_than_2 = value_counts[value_counts < 3].index\n",
    "        series.loc[series.isin(less_than_2)] = np.nan\n",
    "    return series"
   ]
  },
  {
   "cell_type": "code",
   "execution_count": 30,
   "id": "3539fb04",
   "metadata": {},
   "outputs": [],
   "source": [
    "df_train['customer_country'] = remove_counts(df_train['customer_country'])"
   ]
  },
  {
   "cell_type": "markdown",
   "id": "e9060d77",
   "metadata": {},
   "source": [
    "### 4. customer_type"
   ]
  },
  {
   "cell_type": "code",
   "execution_count": 31,
   "id": "d23d2e1b",
   "metadata": {},
   "outputs": [],
   "source": [
    "df_train['customer_type'] = label_lower_series(df_train['customer_type'])"
   ]
  },
  {
   "cell_type": "code",
   "execution_count": 32,
   "id": "47dfea5b",
   "metadata": {},
   "outputs": [],
   "source": [
    "df_train['customer_type'].replace('other', 'others', inplace = True)"
   ]
  },
  {
   "cell_type": "code",
   "execution_count": 33,
   "id": "5927517d",
   "metadata": {},
   "outputs": [],
   "source": [
    "df_train['customer_type'] = df_train['customer_type'].str.replace(\" \", \"\")"
   ]
  },
  {
   "cell_type": "code",
   "execution_count": 34,
   "id": "f5285c3f",
   "metadata": {},
   "outputs": [],
   "source": [
    "df_test['customer_type'] = label_lower_series(df_test['customer_type'])"
   ]
  },
  {
   "cell_type": "code",
   "execution_count": 35,
   "id": "d4b79586",
   "metadata": {},
   "outputs": [],
   "source": [
    "df_test['customer_type'] = df_test['customer_type'].str.replace(' ','')"
   ]
  },
  {
   "cell_type": "markdown",
   "id": "89f2ef49",
   "metadata": {},
   "source": [
    "### 5. customer_job\n",
    "- 이건 버리는게 나을듯"
   ]
  },
  {
   "cell_type": "markdown",
   "id": "7707fd35",
   "metadata": {},
   "source": [
    "### 6. product_category"
   ]
  },
  {
   "cell_type": "code",
   "execution_count": 36,
   "id": "1ef0218b",
   "metadata": {},
   "outputs": [],
   "source": [
    "def contain_index(contain_str, series:pd.Series):\n",
    "    index = []\n",
    "    if isinstance(series, object):\n",
    "        index = series[series.str.contains(contain_str)].index\n",
    "    return index"
   ]
  },
  {
   "cell_type": "code",
   "execution_count": 37,
   "id": "5273e562",
   "metadata": {
    "collapsed": true
   },
   "outputs": [
    {
     "data": {
      "text/plain": [
       "product_category\n",
       "interactive digital board                                                                               6154\n",
       "vrf                                                                                                     5640\n",
       "multi-split                                                                                             3674\n",
       "video wall signage                                                                                      2029\n",
       "etc.                                                                                                    2018\n",
       "led signage                                                                                             1895\n",
       "interactive signage                                                                                     1862\n",
       "single-split                                                                                            1569\n",
       "rac                                                                                                     1447\n",
       "oled signage                                                                                            1350\n",
       "hotel tv                                                                                                1112\n",
       "chiller                                                                                                 1051\n",
       "standard signage                                                                                         996\n",
       "medical display                                                                                          962\n",
       "lg one:quick series                                                                                      768\n",
       "monitor                                                                                                  762\n",
       "one:quick series                                                                                         668\n",
       "heating                                                                                                  655\n",
       "high brightness signage                                                                                  477\n",
       "ventilation                                                                                              420\n",
       "teto ou cassete inverter                                                                                 308\n",
       "control                                                                                                  263\n",
       "multi inverter                                                                                           257\n",
       "ar condicionado residencial                                                                              224\n",
       "high brightness                                                                                          219\n",
       "software solution                                                                                        191\n",
       "accessories                                                                                              179\n",
       "special signage                                                                                          172\n",
       "hospital tv                                                                                              153\n",
       "webos                                                                                                    144\n",
       "pc                                                                                                       114\n",
       "pro:centric                                                                                              112\n",
       "video wall                                                                                                90\n",
       "projector                                                                                                 83\n",
       "all lg vrf systems                                                                                        80\n",
       "commercial display                                                                                        74\n",
       "residential air conditioner                                                                               61\n",
       "ur640s                                                                                                    60\n",
       "outros                                                                                                    55\n",
       "signage care solution                                                                                     54\n",
       "multi v 5 air                                                                                             51\n",
       "smart tv signage                                                                                          50\n",
       "technical support                                                                                         50\n",
       "ur640                                                                                                     48\n",
       "cloud device                                                                                              46\n",
       "medical displays                                                                                          42\n",
       "laptop                                                                                                    41\n",
       "a thermodynamic water heater                                                                              37\n",
       "uhd signage                                                                                               34\n",
       "monitor signage,monior/monitor tv                                                                         34\n",
       "idb                                                                                                       31\n",
       "virtual production                                                                                        30\n",
       "ogrzewanie (pompy ciepła)                                                                                 29\n",
       "commercial tv                                                                                             28\n",
       "videowall_rmk                                                                                             25\n",
       "digital signage                                                                                           22\n",
       "43us660h0sd.awz                                                                                           22\n",
       "ledallinone                                                                                               21\n",
       "solar,ess                                                                                                 21\n",
       "services                                                                                                  20\n",
       "commercial tv,tv                                                                                          19\n",
       "monitor & pc                                                                                              19\n",
       "aire acondicionado residencial                                                                            18\n",
       "onequick series                                                                                           16\n",
       "others                                                                                                    16\n",
       "led 顯示屏                                                                                                   15\n",
       "education createboard                                                                                     14\n",
       "28mq780                                                                                                   14\n",
       "32lq621cbsb.awz                                                                                           14\n",
       "other                                                                                                     13\n",
       "monior/monitor tv,tv                                                                                      13\n",
       "multi v water 5                                                                                           13\n",
       "isıtma                                                                                                    12\n",
       "tv                                                                                                        12\n",
       "standalone                                                                                                10\n",
       "lainnya                                                                                                   10\n",
       "id                                                                                                        10\n",
       "calefacción                                                                                               10\n",
       "otros                                                                                                     10\n",
       "solar,system ac                                                                                           10\n",
       "sales inquiry                                                                                              9\n",
       "fhd series                                                                                                 9\n",
       "lg one:quick                                                                                               9\n",
       "washing machine,dryer                                                                                      8\n",
       "solar,aircare                                                                                              8\n",
       "互動式顯示屏                                                                                                     8\n",
       "تكييف وتبريد                                                                                               7\n",
       "tv signage                                                                                                 7\n",
       "chiller,aircare                                                                                            7\n",
       "system ac,aircare                                                                                          7\n",
       "allinone_rmk                                                                                               7\n",
       "led                                                                                                        7\n",
       "multi v5 vrf                                                                                               7\n",
       "signage                                                                                                    6\n",
       "điều hòa trung tâm multi                                                                                   6\n",
       "solar,chiller                                                                                              6\n",
       "vrf,multi-split,single-split                                                                               6\n",
       "monitor signage,commercial tv                                                                              6\n",
       "leadallin                                                                                                  6\n",
       "oled 顯示屏                                                                                                   6\n",
       "soğutucu                                                                                                   6\n",
       "robots                                                                                                     6\n",
       "htv                                                                                                        6\n",
       "vrf,multi-split,single-split,chiller                                                                       6\n",
       "vrf,multi-split                                                                                            5\n",
       "computer monitors                                                                                          5\n",
       "vrf,single-split                                                                                           5\n",
       "system ac,chiller                                                                                          5\n",
       "single split                                                                                               5\n",
       "מזגנים למקום מגורים                                                                                        5\n",
       "標準顯示屏                                                                                                      5\n",
       "monitor signage,commercial tv,monior/monitor tv                                                            4\n",
       "monitor signage,commercial tv,solar,ess,monior/monitor tv,pc,projector,robot,system ac,ems,rac,chill       4\n",
       "commercial tv,projector                                                                                    4\n",
       "corpouh5f                                                                                                  4\n",
       "commercial tv,monior/monitor tv                                                                            4\n",
       "error                                                                                                      4\n",
       "تكييفات                                                                                                    4\n",
       "standard                                                                                                   4\n",
       "مبرد (تشيلر)                                                                                               4\n",
       "نظام التدفق المتغيرvrf                                                                                     4\n",
       "vb.                                                                                                        4\n",
       "multi-split (plusieurs pièces)                                                                             4\n",
       "lg customer care program                                                                                   4\n",
       "aquecimento                                                                                                4\n",
       "laec015                                                                                                    4\n",
       "commercial tv,audio/video                                                                                  4\n",
       "monitor signage,tv                                                                                         3\n",
       "medical monitors                                                                                           3\n",
       "vrf,multi-split,single-split,chiller,heating                                                               3\n",
       "ultra stretch signage                                                                                      3\n",
       "autre                                                                                                      3\n",
       "solar                                                                                                      3\n",
       "corpuh5f-                                                                                                  3\n",
       "monitor signage,pc                                                                                         3\n",
       "digital signage or commercial tvs                                                                          3\n",
       "monior/monitor tv,pc                                                                                       3\n",
       "特別顯示屏                                                                                                      3\n",
       "חימום                                                                                                      3\n",
       "vrf,chiller                                                                                                3\n",
       "ฯลฯ                                                                                                        3\n",
       "system air conditioner                                                                                     3\n",
       "hoteleria_us670h                                                                                           2\n",
       "55uq801c0sb.bwz                                                                                            2\n",
       "chiller,water care                                                                                         2\n",
       "klimatyzacja multi-split                                                                                   2\n",
       "43uq751c0sf.bwz                                                                                            2\n",
       "scroll compressor                                                                                          2\n",
       "50uq801c0sb.bwz                                                                                            2\n",
       "vrf,multi-split,single-split,heating                                                                       2\n",
       "on or several reversible ac                                                                                2\n",
       "55us660h0sd.bwz                                                                                            2\n",
       "transparent oled                                                                                           2\n",
       "monitor signage,commercial tv,monior/monitor tv,projector,tv                                               2\n",
       "commercial tv,water care                                                                                   2\n",
       "one quick:flex                                                                                             2\n",
       "vrf,multi-split,single-split,chiller,etc.                                                                  2\n",
       "tv,commercial tv                                                                                           2\n",
       "signage care solutions                                                                                     2\n",
       "system ac,chiller,aircare                                                                                  2\n",
       "tv,refrigerator,washing machine                                                                            2\n",
       "climatiseur résidentiel                                                                                    2\n",
       "kimatyzacja vrf                                                                                            2\n",
       "เครื่องปรับอากาศเผื่อที่อยู่อาศัย                                                                          2\n",
       "monitor signage,audio/video                                                                                2\n",
       "window facing display                                                                                      2\n",
       "lg home bliss air solution                                                                                 2\n",
       "ahu                                                                                                        2\n",
       "split tunggal                                                                                              2\n",
       "ultra stretch series                                                                                       2\n",
       "system ac,rac                                                                                              2\n",
       "monitor signage,commercial tv,solar,ess,monior/monitor tv,pc                                               2\n",
       "bu50nst                                                                                                    2\n",
       "energy storage system                                                                                      2\n",
       "ac rumah                                                                                                   2\n",
       "commercial tv,robot                                                                                        2\n",
       "multi v                                                                                                    2\n",
       "tv,audio/video                                                                                             2\n",
       "solar,projector                                                                                            2\n",
       "multi split                                                                                                2\n",
       "酒店電視                                                                                                       2\n",
       "solar,monior/monitor tv                                                                                    2\n",
       "system ac,refrigerator                                                                                     2\n",
       "solar,refrigerator                                                                                         2\n",
       "monitor signage,system ac                                                                                  2\n",
       "system air conditioner,solar                                                                               2\n",
       "solar,tv                                                                                                   2\n",
       "aio                                                                                                        2\n",
       "điều hòa cục bộ                                                                                            2\n",
       "điều hòa gia dụng                                                                                          2\n",
       "55vm5e-a                                                                                                   1\n",
       "laec15                                                                                                     1\n",
       "醫院電視                                                                                                       1\n",
       "ctv                                                                                                        1\n",
       "軟體                                                                                                         1\n",
       "55vm5j-h                                                                                                   1\n",
       "hospitality                                                                                                1\n",
       "49vl5f                                                                                                     1\n",
       "monitorindustrial_rmk                                                                                      1\n",
       "lg magnit                                                                                                  1\n",
       "retaildigital                                                                                              1\n",
       "one:quick                                                                                                  1\n",
       "led cinema                                                                                                 1\n",
       "86uh5f                                                                                                     1\n",
       "55tc3d                                                                                                     1\n",
       "43us660h (na)                                                                                              1\n",
       "pro centric hotel                                                                                          1\n",
       "comercial tv                                                                                               1\n",
       "video wall + aio                                                                                           1\n",
       "高亮度顯示屏                                                                                                     1\n",
       "led 70m2                                                                                                   1\n",
       "single cac                                                                                                 1\n",
       "vrf - multi v s                                                                                            1\n",
       "procentric                                                                                                 1\n",
       "monitor signage,monior/monitor tv,vacuum cleaner,tv,home beauty,commercial tv,pc,refrigerator,styler       1\n",
       "refrigerator,built-in/cooking                                                                              1\n",
       "ems,audio/video                                                                                            1\n",
       "projector,ems,mobile,audio/video                                                                           1\n",
       "smart tv                                                                                                   1\n",
       "tv 55\"                                                                                                     1\n",
       "surgical monitor                                                                                           1\n",
       "gsca046                                                                                                    1\n",
       "gscd100                                                                                                    1\n",
       "32 pol                                                                                                     1\n",
       "systèmes de débit à réfrigérant variable (drv)                                                             1\n",
       "tv 43 pol                                                                                                  1\n",
       "43 pol                                                                                                     1\n",
       "commercial tv,solar,ess,monior/monitor tv,pc,projector,robot,system ac,ems,rac,chiller,refrigerator,       1\n",
       "tv,refrigerator                                                                                            1\n",
       "a definir                                                                                                  1\n",
       "điều hòa trung tâm chiller                                                                                 1\n",
       "lsca039                                                                                                    1\n",
       "essential series                                                                                           1\n",
       "parts                                                                                                      1\n",
       "vrf,heating                                                                                                1\n",
       "điều hòa trung tâm vrf                                                                                     1\n",
       "inne                                                                                                       1\n",
       "98uh5e                                                                                                     1\n",
       "khác                                                                                                       1\n",
       "lg salang air solution for dream homes                                                                     1\n",
       "rac single cac                                                                                             1\n",
       "آخر                                                                                                        1\n",
       "multi-split,single-split                                                                                   1\n",
       "vrf,multi-split,etc.                                                                                       1\n",
       "vrf,multi-split,heating                                                                                    1\n",
       "vrf,single-split,chiller                                                                                   1\n",
       "commercial tv,solar,ess,projector,system ac,tv,washing machine,home beauty,audio/video                     1\n",
       "solar,robot                                                                                                1\n",
       "pantalla led outdoor                                                                                       1\n",
       "monitor signage,commercial tv,monior/monitor tv,pc,projector,tv,audio/video                                1\n",
       "not specified                                                                                              1\n",
       "lg led bloc                                                                                                1\n",
       "solar,energy storage system                                                                                1\n",
       "system ac,solar                                                                                            1\n",
       "solar,system ac,water care                                                                                 1\n",
       "55svh7f-a                                                                                                  1\n",
       "tr3                                                                                                        1\n",
       "uh                                                                                                         1\n",
       "laec015-gn.awz                                                                                             1\n",
       "49vl5g-m                                                                                                   1\n",
       "chiller,dryer                                                                                              1\n",
       "monitor signage,monior/monitor tv,system ac,vacuum cleaner,tv,home beauty,commercial tv,mobile,audio       1\n",
       "videwall                                                                                                   1\n",
       "solar,vacuum cleaner                                                                                       1\n",
       "solar,monior/monitor tv,pc,tv,refrigerator,washing machine,dryer,home beauty                               1\n",
       "monitor signage,solar,robot,water care                                                                     1\n",
       "mobile,audio/video                                                                                         1\n",
       "system ac,refrigerator,washing machine,dryer                                                               1\n",
       "solar,system ac,aircare                                                                                    1\n",
       "projector,system ac,water care                                                                             1\n",
       "monior/monitor tv,tv,commercial tv,pc,refrigerator,solar,rac,washing machine,mobile,ess,audio/video        1\n",
       "ess,chiller                                                                                                1\n",
       "monitor signage,monior/monitor tv,pc,tv                                                                    1\n",
       "solar,water care                                                                                           1\n",
       "monitor signage,commercial tv,monior/monitor tv,tv                                                         1\n",
       "monitor signage,commercial tv,audio/video                                                                  1\n",
       "solar,built-in/cooking                                                                                     1\n",
       "monitor signage,monior/monitor tv,commercial tv                                                            1\n",
       "robot,system ac                                                                                            1\n",
       "medical- surgical                                                                                          1\n",
       "radiology displays                                                                                         1\n",
       "high inch 86 / 98 or 110                                                                                   1\n",
       "dryer,chiller                                                                                              1\n",
       "solar,dryer                                                                                                1\n",
       "chiller/enfriadoras                                                                                        1\n",
       "refrigerator                                                                                               1\n",
       "led aio 136                                                                                                1\n",
       "110 + video wall                                                                                           1\n",
       "videowall signage                                                                                          1\n",
       "one:quick flex                                                                                             1\n",
       "collaboration displays                                                                                     1\n",
       "meeting & screen sharedirect view leddirect view led                                                       1\n",
       "one quick works                                                                                            1\n",
       "pendingin                                                                                                  1\n",
       "lg paradise air solution                                                                                   1\n",
       "פיצול מרובה                                                                                                1\n",
       "אחר                                                                                                        1\n",
       "vrf,multi-split,chiller                                                                                    1\n",
       "system ac,solar,washing machine                                                                            1\n",
       "solar,ess,ems                                                                                              1\n",
       "tv,mobile                                                                                                  1\n",
       "aircare,water care                                                                                         1\n",
       "monior/monitor tv,chiller                                                                                  1\n",
       "system ac,tv                                                                                               1\n",
       "monitor signage,commercial tv,solar,ess                                                                    1\n",
       "monior/monitor tv,system ac,tv,refrigerator,washing machine,dryer,built-in/cooking                         1\n",
       "monitor signage,solar                                                                                      1\n",
       "pc,washing machine                                                                                         1\n",
       "monitor signage,solar,monior/monitor tv,pc,projector,robot,system ac,tv,refrigerator,washing machine       1\n",
       "system ac,tv,refrigerator,washing machine,built-in/cooking,audio/video                                     1\n",
       "system air conditioner,energy storage system                                                               1\n",
       "50us660h0sd.bwz                                                                                            1\n",
       "tv 60\"                                                                                                     1\n",
       "medical monitor                                                                                            1\n",
       "aircare,mobile                                                                                             1\n",
       "solar,ess,system ac                                                                                        1\n",
       "tv,pc                                                                                                      1\n",
       "monitor signage,commercial tv,solar,pc,projector,system ac,ems,rac,chiller,refrigerator,washing mach       1\n",
       "chiller,refrigerator                                                                                       1\n",
       "monitor signage,commercial tv,solar,projector,robot,chiller,refrigerator,built-in/cooking,water care       1\n",
       "commercial tv,solar                                                                                        1\n",
       "monior/monitor tv,projector,audio/video                                                                    1\n",
       "unitario                                                                                                   1\n",
       "refrigerator,chiller                                                                                       1\n",
       "chiller,tv                                                                                                 1\n",
       "projector,ems                                                                                              1\n",
       "cac                                                                                                        1\n",
       "single package                                                                                             1\n",
       "monitor signage,mobile                                                                                     1\n",
       "robot,vacuum cleaner                                                                                       1\n",
       "monitor signage,commercial tv,monior/monitor tv,audio/video                                                1\n",
       "aircare,built-in/cooking                                                                                   1\n",
       "49uh / 49xf                                                                                                1\n",
       "43uq751c0sb.bwz                                                                                            1\n",
       "32 / 43 pol                                                                                                1\n",
       "monior/monitor tv,audio/video                                                                              1\n",
       "system ac,home beauty                                                                                      1\n",
       "information display,monitor                                                                                1\n",
       "taa lcd lfd displays                                                                                       1\n",
       "rac/cac                                                                                                    1\n",
       "حلول التدفئة                                                                                               1\n",
       "aio | one quick                                                                                            1\n",
       "monior/monitor tv,refrigerator                                                                             1\n",
       "monior/monitor tv,system ac,tv,pc,refrigerator,water care,solar,washing machine,mobile,chiller,built       1\n",
       "projector,audio/video                                                                                      1\n",
       "monitor signage,commercial tv,monior/monitor tv,pc,tv,home beauty,audio/video                              1\n",
       "49vl5g-m.awzm                                                                                              1\n",
       "pc,robot,system ac,chiller,tv,refrigerator,washing machine,vacuum cleaner,styler,dryer,mobile,audio/       1\n",
       "refrigerator,washing machine,built-in/cooking                                                              1\n",
       "monitor signage,monior/monitor tv,tv,audio/video                                                           1\n",
       "tv,refrigerator,washing machine,vacuum cleaner,audio/video                                                 1\n",
       "pc,tv                                                                                                      1\n",
       "system ac                                                                                                  1\n",
       "sac                                                                                                        1\n",
       "gscd046                                                                                                    1\n",
       "43uh5f-h.awzm                                                                                              1\n",
       "monior/monitor tv,refrigerator,audio/video                                                                 1\n",
       "Name: count, dtype: int64"
      ]
     },
     "execution_count": 37,
     "metadata": {},
     "output_type": "execute_result"
    }
   ],
   "source": [
    "df_train['product_category'].value_counts()"
   ]
  },
  {
   "cell_type": "code",
   "execution_count": 38,
   "id": "744ca18b",
   "metadata": {},
   "outputs": [],
   "source": [
    "monitor_index = contain_index('monitor', df_train[df_train['product_category'].notnull()]['product_category'])\n",
    "\n",
    "df_train['product_category'][monitor_index] = 'monitor'"
   ]
  },
  {
   "cell_type": "code",
   "execution_count": 39,
   "id": "b3476caa",
   "metadata": {},
   "outputs": [],
   "source": [
    "signage_index = contain_index('signage', df_train[df_train['product_category'].notnull()]['product_category'])\n",
    "df_train['product_category'][signage_index] = 'signage'"
   ]
  },
  {
   "cell_type": "code",
   "execution_count": 40,
   "id": "fc614abb",
   "metadata": {},
   "outputs": [],
   "source": [
    "df_train['product_category'].replace('commercial display', 'tv', inplace = True)\n",
    "\n",
    "tv_index = contain_index('tv', df_train[df_train['product_category'].notnull()]['product_category'])\n",
    "df_train['product_category'][tv_index] = 'tv'"
   ]
  },
  {
   "cell_type": "code",
   "execution_count": 41,
   "id": "d7f87757",
   "metadata": {},
   "outputs": [],
   "source": [
    "#신규추가\n",
    "tv_index = contain_index('ur640', df_train[df_train['product_category'].notnull()]['product_category'])\n",
    "df_train['product_category'][tv_index] = 'tv'"
   ]
  },
  {
   "cell_type": "code",
   "execution_count": 42,
   "id": "0eecd77f",
   "metadata": {},
   "outputs": [],
   "source": [
    "vrf_index = contain_index('vrf',df_train[df_train['product_category'].notnull()]['product_category'])\n",
    "df_train['product_category'][vrf_index] = 'vrf'"
   ]
  },
  {
   "cell_type": "code",
   "execution_count": 43,
   "id": "0e705f48",
   "metadata": {},
   "outputs": [],
   "source": [
    "multi_split_index = contain_index('multi',df_train[df_train['product_category'].notnull()]['product_category'])\n",
    "df_train['product_category'][multi_split_index] = 'multi-split'"
   ]
  },
  {
   "cell_type": "code",
   "execution_count": 44,
   "id": "3986a3a6",
   "metadata": {},
   "outputs": [],
   "source": [
    "#신규추가\n",
    "single_split_index = contain_index('single',df_train[df_train['product_category'].notnull()]['product_category'])\n",
    "df_train['product_category'][single_split_index] = 'single-split'"
   ]
  },
  {
   "cell_type": "code",
   "execution_count": 45,
   "id": "ffe996e1",
   "metadata": {},
   "outputs": [],
   "source": [
    "medical_index = contain_index('medical', df_train[df_train['product_category'].notnull()]['product_category'])\n",
    "df_train['product_category'][medical_index] = 'medical display'"
   ]
  },
  {
   "cell_type": "code",
   "execution_count": 46,
   "id": "81d94209",
   "metadata": {},
   "outputs": [],
   "source": [
    "#신규추가\n",
    "df_train['product_category'].replace('other', 'others', inplace = True)\n",
    "df_train['product_category'].replace('etc.', 'others', inplace = True)"
   ]
  },
  {
   "cell_type": "code",
   "execution_count": 47,
   "id": "368d36e9",
   "metadata": {},
   "outputs": [],
   "source": [
    "#신규추가\n",
    "quick_index = contain_index('quick', df_train[df_train['product_category'].notnull()]['product_category'])\n",
    "df_train['product_category'][quick_index] = 'one:quick series'"
   ]
  },
  {
   "cell_type": "code",
   "execution_count": 48,
   "id": "cc38fe2f",
   "metadata": {},
   "outputs": [],
   "source": [
    "#신규추가\n",
    "solar_index = contain_index('solar', df_train[df_train['product_category'].notnull()]['product_category'])\n",
    "df_train['product_category'][solar_index] = 'solar'a"
   ]
  },
  {
   "cell_type": "code",
   "execution_count": 49,
   "id": "456155d3",
   "metadata": {},
   "outputs": [],
   "source": [
    "#신규추가\n",
    "video_index = contain_index('video', df_train[df_train['product_category'].notnull()]['product_category'])\n",
    "df_train['product_category'][video_index] = 'video wall'"
   ]
  },
  {
   "cell_type": "code",
   "execution_count": 50,
   "id": "607507fa",
   "metadata": {},
   "outputs": [],
   "source": [
    "#신규추가\n",
    "ac_index = contain_index('air', df_train[df_train['product_category'].notnull()]['product_category'])\n",
    "df_train['product_category'][ac_index] = 'air conditioner'"
   ]
  },
  {
   "cell_type": "code",
   "execution_count": 51,
   "id": "46c72cb1",
   "metadata": {},
   "outputs": [],
   "source": [
    "#신규추가\n",
    "df_train['product_category'].replace('system ac,chiller', 'chiller', inplace = True)"
   ]
  },
  {
   "cell_type": "code",
   "execution_count": 52,
   "id": "310249be",
   "metadata": {},
   "outputs": [],
   "source": [
    "#신규추가\n",
    "df_train['product_category'].replace('led 顯示屏', 'led', inplace = True)"
   ]
  },
  {
   "cell_type": "code",
   "execution_count": 53,
   "id": "09fb1045",
   "metadata": {},
   "outputs": [],
   "source": [
    "#신규추가\n",
    "df_train['product_category'].replace('leadallin', 'ledallinone', inplace = True)"
   ]
  },
  {
   "cell_type": "code",
   "execution_count": 54,
   "id": "84c19a43",
   "metadata": {},
   "outputs": [],
   "source": [
    "df_train['product_category'] = remove_counts(df_train['product_category'])"
   ]
  },
  {
   "cell_type": "code",
   "execution_count": 1,
   "id": "fb7aab67",
   "metadata": {},
   "outputs": [
    {
     "ename": "NameError",
     "evalue": "name 'df_train' is not defined",
     "output_type": "error",
     "traceback": [
      "\u001b[0;31m---------------------------------------------------------------------------\u001b[0m",
      "\u001b[0;31mNameError\u001b[0m                                 Traceback (most recent call last)",
      "Cell \u001b[0;32mIn[1], line 3\u001b[0m\n\u001b[1;32m      1\u001b[0m \u001b[38;5;66;03m#신규추가\u001b[39;00m\n\u001b[1;32m      2\u001b[0m \u001b[38;5;66;03m#외계어 정리\u001b[39;00m\n\u001b[0;32m----> 3\u001b[0m \u001b[43mdf_train\u001b[49m[\u001b[38;5;124m'\u001b[39m\u001b[38;5;124mproduct_category\u001b[39m\u001b[38;5;124m'\u001b[39m]\u001b[38;5;241m.\u001b[39mreplace(\u001b[38;5;124m'\u001b[39m\u001b[38;5;124mتكييف وتبريد\u001b[39m\u001b[38;5;124m'\u001b[39m, \u001b[38;5;124m'\u001b[39m\u001b[38;5;124mair conditioner\u001b[39m\u001b[38;5;124m'\u001b[39m, inplace \u001b[38;5;241m=\u001b[39m \u001b[38;5;28;01mTrue\u001b[39;00m)  \u001b[38;5;66;03m#컨디셔닝 및 냉각\u001b[39;00m\n\u001b[1;32m      4\u001b[0m df_train[\u001b[38;5;124m'\u001b[39m\u001b[38;5;124mproduct_category\u001b[39m\u001b[38;5;124m'\u001b[39m]\u001b[38;5;241m.\u001b[39mreplace(\u001b[38;5;124m'\u001b[39m\u001b[38;5;124mמזגנים למקום מגורים\u001b[39m\u001b[38;5;124m'\u001b[39m, \u001b[38;5;124m'\u001b[39m\u001b[38;5;124mair conditioner\u001b[39m\u001b[38;5;124m'\u001b[39m, inplace \u001b[38;5;241m=\u001b[39m \u001b[38;5;28;01mTrue\u001b[39;00m)   \u001b[38;5;66;03m#주거용 에어컨\u001b[39;00m\n\u001b[1;32m      5\u001b[0m df_train[\u001b[38;5;124m'\u001b[39m\u001b[38;5;124mproduct_category\u001b[39m\u001b[38;5;124m'\u001b[39m]\u001b[38;5;241m.\u001b[39mreplace(\u001b[38;5;124m'\u001b[39m\u001b[38;5;124mمبرد (تشيلر)\u001b[39m\u001b[38;5;124m'\u001b[39m, \u001b[38;5;124m'\u001b[39m\u001b[38;5;124mchiller\u001b[39m\u001b[38;5;124m'\u001b[39m, inplace \u001b[38;5;241m=\u001b[39m \u001b[38;5;28;01mTrue\u001b[39;00m)   \u001b[38;5;66;03m#냉각기\u001b[39;00m\n",
      "\u001b[0;31mNameError\u001b[0m: name 'df_train' is not defined"
     ]
    }
   ],
   "source": [
    "#신규추가\n",
    "#외계어 정리\n",
    "df_train['product_category'].replace('تكييف وتبريد', 'air conditioner', inplace = True)  #컨디셔닝 및 냉각\n",
    "df_train['product_category'].replace('מזגנים למקום מגורים', 'air conditioner', inplace = True)   #주거용 에어컨\n",
    "df_train['product_category'].replace('مبرد (تشيلر)', 'chiller', inplace = True)   #냉각기\n",
    "df_train['product_category'].replace('تكييفات', 'air conditioner', inplace = True)  #에어컨\n",
    "df_train['product_category'].replace('חימום', 'heating', inplace = True)  #난방\n",
    "df_train['product_category'].replace('ogrzewanie (pompy ciepła)', 'heating', inplace = True) #난방\n",
    "df_train['product_category'].replace('aire acondicionado residencial', 'air conditioner', inplace = True) #에이컨 스페인어\n",
    "df_train['product_category'].replace('ar condicionado residencial', 'air conditioner', inplace = True) #에이컨 스페인어\n",
    "df_train['product_category'].replace('teto ou cassete inverter', 'ceiling or inverter cassette', inplace = True) #천장 또는 인버터 카세트 포르투갈어\n",
    "df_train['product_category'].replace('isıtma', 'heating', inplace = True) #난방 터키어\n",
    "df_train['product_category'].replace('calefacción', 'heating', inplace = True) #난방 스페인어\n",
    "df_train['product_category'].replace('lainnya', 'others', inplace = True) #다른 인도네시아어\n",
    "df_train['product_category'].replace('otros', 'others', inplace = True) #다른 스페인어\n",
    "df_train['product_category'].replace('互動式顯示屏', 'interactive display', inplace = True) #대화형 디스플레이\n",
    "df_train['product_category'].replace('oled 顯示屏', 'oled display', inplace = True) #oled 디스플레이\n",
    "df_train['product_category'].replace('soğutucu', 'chiller', inplace = True)   #냉각기 터키어\n",
    "df_train['product_category'].replace('標準顯示屏', 'Standard display', inplace = True) #표준디스플레이 (LCD)\n",
    "df_train['product_category'].replace('aquecimento', 'heating', inplace = True)   #난방 포르투갈어\n",
    "df_train['product_category'].replace('特別顯示屏', 'Special display', inplace = True) #Special 디스플레이\n",
    "df_train['product_category'].replace('autre', 'others', inplace = True) #다른 프랑스어\n",
    "df_train['product_category'].replace('ฯลฯ', 'others', inplace = True) #다른 태국어\n",
    "\n",
    "\n",
    "#실제 제품코드 (이거는진짜 시x발놈이다)\n",
    "df_train['product_category'].replace('43us660h0sd.awz', 'tv', inplace = True)\n",
    "df_train['product_category'].replace('28mq780', 'tv', inplace = True)\n",
    "df_train['product_category'].replace('32lq621cbsb.awz', 'tv', inplace = True)\n",
    "df_train['product_category'].replace('corpouh5f', 'signage', inplace = True)\n",
    "df_train['product_category'].replace('laec015', 'ledallinone', inplace = True)\n",
    "df_train['product_category'].replace('corpuh5f-', 'signage', inplace = True)\n",
    "df_train['product_category'].replace('idb', 'interactive digital board', inplace = True)"
   ]
  },
  {
   "cell_type": "code",
   "execution_count": 2,
   "id": "c6378942",
   "metadata": {
    "scrolled": false
   },
   "outputs": [
    {
     "ename": "NameError",
     "evalue": "name 'df_train' is not defined",
     "output_type": "error",
     "traceback": [
      "\u001b[0;31m---------------------------------------------------------------------------\u001b[0m",
      "\u001b[0;31mNameError\u001b[0m                                 Traceback (most recent call last)",
      "Cell \u001b[0;32mIn[2], line 1\u001b[0m\n\u001b[0;32m----> 1\u001b[0m \u001b[43mdf_train\u001b[49m[\u001b[38;5;124m'\u001b[39m\u001b[38;5;124mproduct_category\u001b[39m\u001b[38;5;124m'\u001b[39m]\u001b[38;5;241m.\u001b[39mvalue_counts()\n",
      "\u001b[0;31mNameError\u001b[0m: name 'df_train' is not defined"
     ]
    }
   ],
   "source": [
    "df_train['product_category'].value_counts()"
   ]
  },
  {
   "cell_type": "code",
   "execution_count": 46,
   "id": "e2296df2",
   "metadata": {},
   "outputs": [],
   "source": [
    "df_test['product_category'].replace('other','others', inplace = True)"
   ]
  },
  {
   "cell_type": "code",
   "execution_count": 47,
   "id": "d0c5f248",
   "metadata": {},
   "outputs": [],
   "source": [
    "signage_index = contain_index('signage', df_test[df_test['product_category'].notnull()]['product_category'])\n",
    "\n",
    "df_test['product_category'][signage_index] = 'signage'"
   ]
  },
  {
   "cell_type": "code",
   "execution_count": 48,
   "id": "3dcf6bcd",
   "metadata": {},
   "outputs": [],
   "source": [
    "monitor_index = contain_index('monitor', df_test[df_test['product_category'].notnull()]['product_category'])\n",
    "\n",
    "df_test['product_category'][monitor_index] = 'monitor'"
   ]
  },
  {
   "cell_type": "code",
   "execution_count": 49,
   "id": "caba5fca",
   "metadata": {},
   "outputs": [],
   "source": [
    "df_test['product_category'].replace('commercial display', 'tv', inplace = True)\n",
    "\n",
    "tv_index = contain_index('tv', df_test[df_test['product_category'].notnull()]['product_category'])\n",
    "\n",
    "df_test['product_category'][tv_index] = 'tv'"
   ]
  },
  {
   "cell_type": "code",
   "execution_count": 50,
   "id": "f0beed2a",
   "metadata": {},
   "outputs": [],
   "source": [
    "vrf_index = contain_index('vrf',df_test[df_test['product_category'].notnull()]['product_category'])\n",
    "df_test['product_category'][vrf_index] = 'vrf'"
   ]
  },
  {
   "cell_type": "code",
   "execution_count": 51,
   "id": "0f73ced3",
   "metadata": {},
   "outputs": [],
   "source": [
    "multi_split_index = contain_index('multi',df_test[df_test['product_category'].notnull()]['product_category'])\n",
    "df_test['product_category'][multi_split_index] = 'multi-split'"
   ]
  },
  {
   "cell_type": "code",
   "execution_count": 52,
   "id": "7a40f1fd",
   "metadata": {},
   "outputs": [],
   "source": [
    "medical_index = contain_index('medical', df_test[df_test['product_category'].notnull()]['product_category'])\n",
    "df_test['product_category'][medical_index] = 'medical display'"
   ]
  },
  {
   "cell_type": "code",
   "execution_count": 53,
   "id": "841fa6c8",
   "metadata": {},
   "outputs": [
    {
     "data": {
      "text/plain": [
       "product_category\n",
       "signage                      1128\n",
       "vrf                           726\n",
       "multi-split                   544\n",
       "etc.                          202\n",
       "single-split                  179\n",
       "tv                            144\n",
       "chiller                        99\n",
       "interactive digital board      74\n",
       "heating                        67\n",
       "monitor                        58\n",
       "medical display                32\n",
       "ventilation                    31\n",
       "one:quick series               22\n",
       "cloud device                   18\n",
       "webos                          14\n",
       "control                        13\n",
       "laptop                         13\n",
       "projector                      12\n",
       "software solution              11\n",
       "pro:centric                    10\n",
       "accessories                     6\n",
       "others                          5\n",
       "ess                             4\n",
       "notebook                        1\n",
       "Name: count, dtype: int64"
      ]
     },
     "execution_count": 53,
     "metadata": {},
     "output_type": "execute_result"
    }
   ],
   "source": [
    "df_test['product_category'].value_counts()"
   ]
  },
  {
   "cell_type": "markdown",
   "id": "1878d20d",
   "metadata": {},
   "source": [
    "### 7. business area\n",
    "- 바꿀 수 없음"
   ]
  },
  {
   "cell_type": "markdown",
   "id": "7eb9e82a",
   "metadata": {},
   "source": [
    "### 8. bant_submit \n",
    "- 수정안해도 될거같음"
   ]
  },
  {
   "cell_type": "markdown",
   "id": "4e0c9066",
   "metadata": {},
   "source": [
    "### 9. customer_idx\n",
    "- 수정안해도 될거같음"
   ]
  },
  {
   "cell_type": "markdown",
   "id": "798cd04b",
   "metadata": {},
   "source": [
    "### 10. inquiry_type"
   ]
  },
  {
   "cell_type": "code",
   "execution_count": 54,
   "id": "35774912",
   "metadata": {
    "scrolled": true
   },
   "outputs": [
    {
     "data": {
      "text/plain": [
       "inquiry_type\n",
       "Quotation or purchase consultation                                                                                     23274\n",
       "Quotation or Purchase Consultation                                                                                     18766\n",
       "Sales Inquiry                                                                                                           9977\n",
       "Product Information                                                                                                     1237\n",
       "Other                                                                                                                    929\n",
       "Usage or technical consultation                                                                                          668\n",
       "Trainings                                                                                                                434\n",
       "Technical Consultation                                                                                                   429\n",
       "Services                                                                                                                 415\n",
       "Usage or Technical Consultation                                                                                          352\n",
       "Request for Partnership                                                                                                  297\n",
       "Request for quotation or purchase                                                                                        230\n",
       "Request a Demo                                                                                                           184\n",
       "usage or technical consultation                                                                                          160\n",
       "ETC.                                                                                                                     158\n",
       "Others                                                                                                                   128\n",
       "Technical Support                                                                                                        110\n",
       "sales                                                                                                                    100\n",
       "other_                                                                                                                   100\n",
       "quotation_or_purchase_consultation                                                                                        95\n",
       "Request for Distributorship                                                                                               75\n",
       "Etc.                                                                                                                      63\n",
       "Request for technical consulting                                                                                          37\n",
       "other                                                                                                                     22\n",
       "Customer Suggestions                                                                                                      12\n",
       "Purchase or Quotation                                                                                                     10\n",
       "usage_or_technical_consultation                                                                                           10\n",
       "IDB                                                                                                                       10\n",
       "technical                                                                                                                  8\n",
       "Purchase                                                                                                                   5\n",
       "Event Inquiry                                                                                                              5\n",
       "OEM/ODM Request                                                                                                            5\n",
       "Sales inquiry                                                                                                              4\n",
       "technical_consultation                                                                                                     4\n",
       "Quotation or Purchase consultation                                                                                         3\n",
       "Media Inquiry                                                                                                              2\n",
       "Probeam precio                                                                                                             2\n",
       "Video Wall                                                                                                                 2\n",
       "Toi muon tim hieu thong tin ky thuat, gia ca cua sp de su dung                                                             2\n",
       "tôi cần tham khảo giá và giải pháp từ LG                                                                                   2\n",
       "Vui lòng báo giá giúp mình sản phẩm đo thân nhiệt Xin cảm ơn                                                               2\n",
       "LED Signage                                                                                                                1\n",
       "Standalone                                                                                                                 1\n",
       "for school                                                                                                                 1\n",
       "Not specified                                                                                                              1\n",
       "Intégrateur historique du George V                                                                                         1\n",
       "Solicito apoyo para realizar cotizacion de los dispositivos que ofrecen en la solución One Quick:                          1\n",
       "Pantallas Interactivas para Clinicas                                                                                       1\n",
       "Hotel TV products                                                                                                          1\n",
       "VRF                                                                                                                        1\n",
       "Preciso de um monitor médico para radiografia convencional e tomogrtafia.                                                  1\n",
       "others                                                                                                                     1\n",
       "window facing product                                                                                                      1\n",
       "Digital platform                                                                                                           1\n",
       "(Select ID_Needs)                                                                                                          1\n",
       "One Quick:Flex                                                                                                             1\n",
       "AIO                                                                                                                        1\n",
       "Needs                                                                                                                      1\n",
       "Hospital TV                                                                                                                1\n",
       "i want to know the details about it                                                                                        1\n",
       "EDUCATIONAL EQUIPMENTS                                                                                                     1\n",
       "TV interactive                                                                                                             1\n",
       "Hola me pueden cotizar 19 pantallas interactivas de 100 pulgadas entregadas en Guayaquil -Ecuador.                         1\n",
       "teach                                                                                                                      1\n",
       "Display Textbook and photos                                                                                                1\n",
       "High inch 86 / 98 or 110                                                                                                   1\n",
       "quotation_                                                                                                                 1\n",
       "display product                                                                                                            1\n",
       "first Info and pricing                                                                                                     1\n",
       "estoy buscando para Ecuador este producto LG MAGNIT micro LED, para un cliente de 138 pulgadas, con envió marítimo.        1\n",
       "Evento_SdelEstero                                                                                                          1\n",
       "Name: count, dtype: int64"
      ]
     },
     "execution_count": 54,
     "metadata": {},
     "output_type": "execute_result"
    }
   ],
   "source": [
    "df_train['inquiry_type'].value_counts()"
   ]
  },
  {
   "cell_type": "code",
   "execution_count": 55,
   "id": "d195ab74",
   "metadata": {},
   "outputs": [],
   "source": [
    "df_train['inquiry_type'] = label_lower_series(df_train['inquiry_type'])"
   ]
  },
  {
   "cell_type": "code",
   "execution_count": 56,
   "id": "7c7e3524",
   "metadata": {},
   "outputs": [],
   "source": [
    "df_train['inquiry_type'].replace('other', 'others', inplace = True)\n",
    "df_train['inquiry_type'].replace('etc', 'others', inplace = True)"
   ]
  },
  {
   "cell_type": "code",
   "execution_count": 57,
   "id": "9a1bde77",
   "metadata": {},
   "outputs": [],
   "source": [
    "sales_index = contain_index('sales', df_train[df_train['inquiry_type'].notnull()]['inquiry_type'])\n",
    "df_train['inquiry_type'][sales_index] = 'sales inquiry'"
   ]
  },
  {
   "cell_type": "code",
   "execution_count": 59,
   "id": "71b11b29",
   "metadata": {},
   "outputs": [],
   "source": [
    "qp_index = contain_index('quotation or purchase', df_train[df_train['inquiry_type'].notnull()]['inquiry_type'])\n",
    "df_train['inquiry_type'][qp_index] = 'quotation or purchase'"
   ]
  },
  {
   "cell_type": "code",
   "execution_count": 60,
   "id": "08324e5c",
   "metadata": {},
   "outputs": [],
   "source": [
    "qp2_index = contain_index('quotationorpurchase', df_train[df_train['inquiry_type'].notnull()]['inquiry_type'])\n",
    "df_train['inquiry_type'][qp2_index] = 'quotation or purchase'"
   ]
  },
  {
   "cell_type": "code",
   "execution_count": 61,
   "id": "dcd1b23b",
   "metadata": {},
   "outputs": [],
   "source": [
    "qp3_index = contain_index('purchase or quotation', df_train[df_train['inquiry_type'].notnull()]['inquiry_type'])\n",
    "df_train['inquiry_type'][qp3_index] = 'quotation or purchase'"
   ]
  },
  {
   "cell_type": "code",
   "execution_count": 62,
   "id": "28848d24",
   "metadata": {},
   "outputs": [],
   "source": [
    "qp4_index = contain_index('quotation', df_train[df_train['inquiry_type'].notnull()]['inquiry_type'])\n",
    "df_train['inquiry_type'][qp4_index] = 'quotation or purchase'"
   ]
  },
  {
   "cell_type": "code",
   "execution_count": 63,
   "id": "cfcd932c",
   "metadata": {},
   "outputs": [],
   "source": [
    "qp5_index = contain_index('purchase', df_train[df_train['inquiry_type'].notnull()]['inquiry_type'])\n",
    "df_train['inquiry_type'][qp5_index] = 'quotation or purchase'"
   ]
  },
  {
   "cell_type": "code",
   "execution_count": 64,
   "id": "7924cd88",
   "metadata": {},
   "outputs": [],
   "source": [
    "technical_index = contain_index('technical', df_train[df_train['inquiry_type'].notnull()]['inquiry_type'])\n",
    "df_train['inquiry_type'][technical_index] = 'technical consultation'"
   ]
  },
  {
   "cell_type": "code",
   "execution_count": 65,
   "id": "48bd80ae",
   "metadata": {},
   "outputs": [],
   "source": [
    "df_train['inquiry_type'] = remove_counts(df_train['inquiry_type'])"
   ]
  },
  {
   "cell_type": "code",
   "execution_count": 69,
   "id": "8b7bb98e",
   "metadata": {},
   "outputs": [
    {
     "name": "stdout",
     "output_type": "stream",
     "text": [
      "<class 'pandas.core.series.Series'>\n",
      "Index: 981 entries, 439 to 59296\n",
      "Series name: inquiry_type\n",
      "Non-Null Count  Dtype \n",
      "--------------  ----- \n",
      "0 non-null      object\n",
      "dtypes: object(1)\n",
      "memory usage: 15.3+ KB\n"
     ]
    }
   ],
   "source": [
    "df_train['inquiry_type'][df_train['inquiry_type'].isnull()].info()"
   ]
  },
  {
   "cell_type": "markdown",
   "id": "b7bc40b7",
   "metadata": {},
   "source": [
    "NaN값이 981개"
   ]
  },
  {
   "cell_type": "code",
   "execution_count": 67,
   "id": "c9534f1b",
   "metadata": {
    "scrolled": false
   },
   "outputs": [
    {
     "data": {
      "text/plain": [
       "inquiry_type\n",
       "quotation or purchase          42384\n",
       "sales inquiry                  10081\n",
       "technical consultation          1778\n",
       "others                          1401\n",
       "product information             1237\n",
       "trainings                        434\n",
       "services                         415\n",
       "request for partnership          297\n",
       "request a demo                   184\n",
       "request for distributorship       75\n",
       "customer suggestions              12\n",
       "idb                               10\n",
       "event inquiry                      5\n",
       "oemodm request                     5\n",
       "Name: count, dtype: int64"
      ]
     },
     "execution_count": 67,
     "metadata": {},
     "output_type": "execute_result"
    }
   ],
   "source": [
    "df_train['inquiry_type'].value_counts()"
   ]
  },
  {
   "cell_type": "markdown",
   "id": "f4033660",
   "metadata": {},
   "source": [
    "이제 Nan값이 엄청많아졌는데 얘를 others로 해버려?\n",
    "1. NaN을 여기서 others 채운다.\n",
    "2. 그대로 들고가서 레이블인코딩 이후 보간(interplote)이나 평균으로 채운다."
   ]
  },
  {
   "cell_type": "code",
   "execution_count": 76,
   "id": "83e5396c",
   "metadata": {
    "scrolled": true
   },
   "outputs": [
    {
     "data": {
      "text/plain": [
       "inquiry_type\n",
       "Quotation or Purchase Consultation    3465\n",
       "Technical Consultation                 135\n",
       "Others                                 110\n",
       "Product Information                     68\n",
       "Request for Partnership                 63\n",
       "Usage or Technical Consultation         52\n",
       "Services                                34\n",
       "Trainings                               21\n",
       "Request a Demo                           9\n",
       "Other                                    9\n",
       "Customer Suggestions                     4\n",
       "OEM/ODM Request                          3\n",
       "other_                                   3\n",
       "Media Inquiry                            2\n",
       "Request for Distributorship              1\n",
       "Name: count, dtype: int64"
      ]
     },
     "execution_count": 76,
     "metadata": {},
     "output_type": "execute_result"
    }
   ],
   "source": [
    "df_test['inquiry_type'].value_counts()"
   ]
  },
  {
   "cell_type": "code",
   "execution_count": 77,
   "id": "0f45fb46",
   "metadata": {},
   "outputs": [],
   "source": [
    "df_test['inquiry_type'] = label_lower_series(df_test['inquiry_type'])"
   ]
  },
  {
   "cell_type": "code",
   "execution_count": 79,
   "id": "d156c9dd",
   "metadata": {},
   "outputs": [
    {
     "name": "stdout",
     "output_type": "stream",
     "text": [
      "<class 'pandas.core.series.Series'>\n",
      "Index: 1292 entries, 0 to 5269\n",
      "Series name: inquiry_type\n",
      "Non-Null Count  Dtype \n",
      "--------------  ----- \n",
      "0 non-null      object\n",
      "dtypes: object(1)\n",
      "memory usage: 20.2+ KB\n"
     ]
    }
   ],
   "source": [
    "df_test['inquiry_type'][df_test['inquiry_type'].isnull()].info()"
   ]
  },
  {
   "cell_type": "markdown",
   "id": "e5c4d2c1",
   "metadata": {},
   "source": [
    "NaN값이 1292개"
   ]
  },
  {
   "cell_type": "code",
   "execution_count": 80,
   "id": "8af30808",
   "metadata": {},
   "outputs": [
    {
     "data": {
      "text/plain": [
       "inquiry_type\n",
       "quotation or purchase consultation    3465\n",
       "technical consultation                 135\n",
       "others                                 110\n",
       "product information                     68\n",
       "request for partnership                 63\n",
       "usage or technical consultation         52\n",
       "services                                34\n",
       "trainings                               21\n",
       "other                                   12\n",
       "request a demo                           9\n",
       "customer suggestions                     4\n",
       "oemodm request                           3\n",
       "media inquiry                            2\n",
       "request for distributorship              1\n",
       "Name: count, dtype: int64"
      ]
     },
     "execution_count": 80,
     "metadata": {},
     "output_type": "execute_result"
    }
   ],
   "source": [
    "df_test['inquiry_type'].value_counts()"
   ]
  },
  {
   "cell_type": "code",
   "execution_count": 81,
   "id": "e034915b",
   "metadata": {},
   "outputs": [],
   "source": [
    "df_test['inquiry_type'].replace('other', 'others', inplace = True)\n",
    "df_test['inquiry_type'].replace('usage or technical consultation', 'technical consultation', inplace = True)"
   ]
  },
  {
   "cell_type": "code",
   "execution_count": 82,
   "id": "310115aa",
   "metadata": {},
   "outputs": [
    {
     "data": {
      "text/plain": [
       "inquiry_type\n",
       "quotation or purchase consultation    3465\n",
       "technical consultation                 187\n",
       "others                                 122\n",
       "product information                     68\n",
       "request for partnership                 63\n",
       "services                                34\n",
       "trainings                               21\n",
       "request a demo                           9\n",
       "customer suggestions                     4\n",
       "oemodm request                           3\n",
       "media inquiry                            2\n",
       "request for distributorship              1\n",
       "Name: count, dtype: int64"
      ]
     },
     "execution_count": 82,
     "metadata": {},
     "output_type": "execute_result"
    }
   ],
   "source": [
    "df_test['inquiry_type'].value_counts()"
   ]
  },
  {
   "cell_type": "markdown",
   "id": "563301c0",
   "metadata": {},
   "source": [
    "# 레이블인코딩"
   ]
  },
  {
   "cell_type": "code",
   "execution_count": 54,
   "id": "0b42b1a1",
   "metadata": {},
   "outputs": [],
   "source": [
    "# def label_encoding(series: pd.Series) -> pd.Series:\n",
    "#     \"\"\"범주형 데이터를 시리즈 형태로 받아 숫자형 데이터로 변환합니다.\"\"\"\n",
    "\n",
    "#     my_dict = {}\n",
    "\n",
    "#     # 모든 요소를 문자열로 변환\n",
    "#     series = series.asddtype(str)\n",
    "\n",
    "#     for idx, value in enumerate(sorted(series.unique())):\n",
    "#         my_dict[value] = idx\n",
    "#     series = series.map(my_dict)\n",
    "\n",
    "#     return series"
   ]
  },
  {
   "cell_type": "code",
   "execution_count": 55,
   "id": "881a4612",
   "metadata": {},
   "outputs": [],
   "source": [
    "# 레이블 인코딩할 칼럼들\n",
    "label_columns = [\n",
    "    \"customer_country\",\n",
    "    \"business_subarea\",\n",
    "    \"business_area\",\n",
    "    \"business_unit\",\n",
    "    \"customer_type\",\n",
    "    \"enterprise\",\n",
    "    \"customer_job\",\n",
    "    \"inquiry_type\",\n",
    "    \"product_category\",\n",
    "    \"product_subcategory\",\n",
    "    \"product_modelname\",\n",
    "    \"customer_position\",\n",
    "    \"response_corporate\",\n",
    "    \"expected_timeline\",\n",
    "]"
   ]
  },
  {
   "cell_type": "code",
   "execution_count": 56,
   "id": "b2545662",
   "metadata": {},
   "outputs": [],
   "source": [
    "# df_train[label_columns] = df_train[label_columns].str.lower()\n",
    "# df_test[label_columns] = df_test[label_columns].str.lower()\n",
    "for col in label_columns:\n",
    "    df_train[col] = label_lower_series(df_train[col])\n",
    "    df_test[col] = label_lower_series(df_test[col])"
   ]
  },
  {
   "cell_type": "code",
   "execution_count": 57,
   "id": "74c61059",
   "metadata": {},
   "outputs": [],
   "source": [
    "df_all = pd.concat([df_train[label_columns], df_test[label_columns]])\n",
    "\n",
    "for col in label_columns:\n",
    "    encoder = LabelEncoder()\n",
    "    encoder.fit(df_all[col])\n",
    "    df_all[col] = encoder.transform(df_all[col])\n",
    "\n",
    "# for col in label_columns:\n",
    "#     df_all[col] = label_encoding(df_all[col])"
   ]
  },
  {
   "cell_type": "markdown",
   "id": "3a477f93",
   "metadata": {},
   "source": [
    "다시 학습 데이터와 제출 데이터를 분리합니다."
   ]
  },
  {
   "cell_type": "code",
   "execution_count": 58,
   "id": "ff10c5fb",
   "metadata": {},
   "outputs": [],
   "source": [
    "for col in label_columns:\n",
    "    df_train[col] = df_all.iloc[: len(df_train)][col]\n",
    "    df_test[col] = df_all.iloc[len(df_train) :][col]"
   ]
  },
  {
   "cell_type": "code",
   "execution_count": 59,
   "id": "0d64b98a",
   "metadata": {},
   "outputs": [
    {
     "ename": "TypeError",
     "evalue": "numpy boolean subtract, the `-` operator, is not supported, use the bitwise_xor, the `^` operator, or the logical_xor function instead.",
     "output_type": "error",
     "traceback": [
      "\u001b[0;31m---------------------------------------------------------------------------\u001b[0m",
      "\u001b[0;31mTypeError\u001b[0m                                 Traceback (most recent call last)",
      "Cell \u001b[0;32mIn[59], line 6\u001b[0m\n\u001b[1;32m      4\u001b[0m row \u001b[38;5;241m=\u001b[39m i \u001b[38;5;241m/\u001b[39m\u001b[38;5;241m/\u001b[39m \u001b[38;5;241m6\u001b[39m\n\u001b[1;32m      5\u001b[0m col \u001b[38;5;241m=\u001b[39m i \u001b[38;5;241m%\u001b[39m \u001b[38;5;241m6\u001b[39m\n\u001b[0;32m----> 6\u001b[0m \u001b[43msns\u001b[49m\u001b[38;5;241;43m.\u001b[39;49m\u001b[43mboxplot\u001b[49m\u001b[43m(\u001b[49m\u001b[43mdata\u001b[49m\u001b[43m \u001b[49m\u001b[38;5;241;43m=\u001b[39;49m\u001b[43m \u001b[49m\u001b[43mdf_train\u001b[49m\u001b[43m,\u001b[49m\u001b[43m \u001b[49m\u001b[43my\u001b[49m\u001b[43m \u001b[49m\u001b[38;5;241;43m=\u001b[39;49m\u001b[43m \u001b[49m\u001b[43mcol_name\u001b[49m\u001b[43m,\u001b[49m\u001b[43m \u001b[49m\u001b[43max\u001b[49m\u001b[43m \u001b[49m\u001b[38;5;241;43m=\u001b[39;49m\u001b[43m \u001b[49m\u001b[43maxs\u001b[49m\u001b[43m[\u001b[49m\u001b[43mrow\u001b[49m\u001b[43m]\u001b[49m\u001b[43m[\u001b[49m\u001b[43mcol\u001b[49m\u001b[43m]\u001b[49m\u001b[43m)\u001b[49m\n",
      "File \u001b[0;32m~/.local/lib/python3.10/site-packages/seaborn/_decorators.py:46\u001b[0m, in \u001b[0;36m_deprecate_positional_args.<locals>.inner_f\u001b[0;34m(*args, **kwargs)\u001b[0m\n\u001b[1;32m     36\u001b[0m     warnings\u001b[38;5;241m.\u001b[39mwarn(\n\u001b[1;32m     37\u001b[0m         \u001b[38;5;124m\"\u001b[39m\u001b[38;5;124mPass the following variable\u001b[39m\u001b[38;5;132;01m{}\u001b[39;00m\u001b[38;5;124m as \u001b[39m\u001b[38;5;132;01m{}\u001b[39;00m\u001b[38;5;124mkeyword arg\u001b[39m\u001b[38;5;132;01m{}\u001b[39;00m\u001b[38;5;124m: \u001b[39m\u001b[38;5;132;01m{}\u001b[39;00m\u001b[38;5;124m. \u001b[39m\u001b[38;5;124m\"\u001b[39m\n\u001b[1;32m     38\u001b[0m         \u001b[38;5;124m\"\u001b[39m\u001b[38;5;124mFrom version 0.12, the only valid positional argument \u001b[39m\u001b[38;5;124m\"\u001b[39m\n\u001b[0;32m   (...)\u001b[0m\n\u001b[1;32m     43\u001b[0m         \u001b[38;5;167;01mFutureWarning\u001b[39;00m\n\u001b[1;32m     44\u001b[0m     )\n\u001b[1;32m     45\u001b[0m kwargs\u001b[38;5;241m.\u001b[39mupdate({k: arg \u001b[38;5;28;01mfor\u001b[39;00m k, arg \u001b[38;5;129;01min\u001b[39;00m \u001b[38;5;28mzip\u001b[39m(sig\u001b[38;5;241m.\u001b[39mparameters, args)})\n\u001b[0;32m---> 46\u001b[0m \u001b[38;5;28;01mreturn\u001b[39;00m \u001b[43mf\u001b[49m\u001b[43m(\u001b[49m\u001b[38;5;241;43m*\u001b[39;49m\u001b[38;5;241;43m*\u001b[39;49m\u001b[43mkwargs\u001b[49m\u001b[43m)\u001b[49m\n",
      "File \u001b[0;32m~/.local/lib/python3.10/site-packages/seaborn/categorical.py:2238\u001b[0m, in \u001b[0;36mboxplot\u001b[0;34m(x, y, hue, data, order, hue_order, orient, color, palette, saturation, width, dodge, fliersize, linewidth, whis, ax, **kwargs)\u001b[0m\n\u001b[1;32m   2235\u001b[0m     ax \u001b[38;5;241m=\u001b[39m plt\u001b[38;5;241m.\u001b[39mgca()\n\u001b[1;32m   2236\u001b[0m kwargs\u001b[38;5;241m.\u001b[39mupdate(\u001b[38;5;28mdict\u001b[39m(whis\u001b[38;5;241m=\u001b[39mwhis))\n\u001b[0;32m-> 2238\u001b[0m \u001b[43mplotter\u001b[49m\u001b[38;5;241;43m.\u001b[39;49m\u001b[43mplot\u001b[49m\u001b[43m(\u001b[49m\u001b[43max\u001b[49m\u001b[43m,\u001b[49m\u001b[43m \u001b[49m\u001b[43mkwargs\u001b[49m\u001b[43m)\u001b[49m\n\u001b[1;32m   2239\u001b[0m \u001b[38;5;28;01mreturn\u001b[39;00m ax\n",
      "File \u001b[0;32m~/.local/lib/python3.10/site-packages/seaborn/categorical.py:509\u001b[0m, in \u001b[0;36m_BoxPlotter.plot\u001b[0;34m(self, ax, boxplot_kws)\u001b[0m\n\u001b[1;32m    507\u001b[0m \u001b[38;5;28;01mdef\u001b[39;00m \u001b[38;5;21mplot\u001b[39m(\u001b[38;5;28mself\u001b[39m, ax, boxplot_kws):\n\u001b[1;32m    508\u001b[0m \u001b[38;5;250m    \u001b[39m\u001b[38;5;124;03m\"\"\"Make the plot.\"\"\"\u001b[39;00m\n\u001b[0;32m--> 509\u001b[0m     \u001b[38;5;28;43mself\u001b[39;49m\u001b[38;5;241;43m.\u001b[39;49m\u001b[43mdraw_boxplot\u001b[49m\u001b[43m(\u001b[49m\u001b[43max\u001b[49m\u001b[43m,\u001b[49m\u001b[43m \u001b[49m\u001b[43mboxplot_kws\u001b[49m\u001b[43m)\u001b[49m\n\u001b[1;32m    510\u001b[0m     \u001b[38;5;28mself\u001b[39m\u001b[38;5;241m.\u001b[39mannotate_axes(ax)\n\u001b[1;32m    511\u001b[0m     \u001b[38;5;28;01mif\u001b[39;00m \u001b[38;5;28mself\u001b[39m\u001b[38;5;241m.\u001b[39morient \u001b[38;5;241m==\u001b[39m \u001b[38;5;124m\"\u001b[39m\u001b[38;5;124mh\u001b[39m\u001b[38;5;124m\"\u001b[39m:\n",
      "File \u001b[0;32m~/.local/lib/python3.10/site-packages/seaborn/categorical.py:441\u001b[0m, in \u001b[0;36m_BoxPlotter.draw_boxplot\u001b[0;34m(self, ax, kws)\u001b[0m\n\u001b[1;32m    438\u001b[0m \u001b[38;5;28;01mif\u001b[39;00m box_data\u001b[38;5;241m.\u001b[39msize \u001b[38;5;241m==\u001b[39m \u001b[38;5;241m0\u001b[39m:\n\u001b[1;32m    439\u001b[0m     \u001b[38;5;28;01mcontinue\u001b[39;00m\n\u001b[0;32m--> 441\u001b[0m artist_dict \u001b[38;5;241m=\u001b[39m \u001b[43max\u001b[49m\u001b[38;5;241;43m.\u001b[39;49m\u001b[43mboxplot\u001b[49m\u001b[43m(\u001b[49m\u001b[43mbox_data\u001b[49m\u001b[43m,\u001b[49m\n\u001b[1;32m    442\u001b[0m \u001b[43m                         \u001b[49m\u001b[43mvert\u001b[49m\u001b[38;5;241;43m=\u001b[39;49m\u001b[43mvert\u001b[49m\u001b[43m,\u001b[49m\n\u001b[1;32m    443\u001b[0m \u001b[43m                         \u001b[49m\u001b[43mpatch_artist\u001b[49m\u001b[38;5;241;43m=\u001b[39;49m\u001b[38;5;28;43;01mTrue\u001b[39;49;00m\u001b[43m,\u001b[49m\n\u001b[1;32m    444\u001b[0m \u001b[43m                         \u001b[49m\u001b[43mpositions\u001b[49m\u001b[38;5;241;43m=\u001b[39;49m\u001b[43m[\u001b[49m\u001b[43mi\u001b[49m\u001b[43m]\u001b[49m\u001b[43m,\u001b[49m\n\u001b[1;32m    445\u001b[0m \u001b[43m                         \u001b[49m\u001b[43mwidths\u001b[49m\u001b[38;5;241;43m=\u001b[39;49m\u001b[38;5;28;43mself\u001b[39;49m\u001b[38;5;241;43m.\u001b[39;49m\u001b[43mwidth\u001b[49m\u001b[43m,\u001b[49m\n\u001b[1;32m    446\u001b[0m \u001b[43m                         \u001b[49m\u001b[38;5;241;43m*\u001b[39;49m\u001b[38;5;241;43m*\u001b[39;49m\u001b[43mkws\u001b[49m\u001b[43m)\u001b[49m\n\u001b[1;32m    447\u001b[0m color \u001b[38;5;241m=\u001b[39m \u001b[38;5;28mself\u001b[39m\u001b[38;5;241m.\u001b[39mcolors[i]\n\u001b[1;32m    448\u001b[0m \u001b[38;5;28mself\u001b[39m\u001b[38;5;241m.\u001b[39mrestyle_boxplot(artist_dict, color, props)\n",
      "File \u001b[0;32m~/.local/lib/python3.10/site-packages/matplotlib/__init__.py:1465\u001b[0m, in \u001b[0;36m_preprocess_data.<locals>.inner\u001b[0;34m(ax, data, *args, **kwargs)\u001b[0m\n\u001b[1;32m   1462\u001b[0m \u001b[38;5;129m@functools\u001b[39m\u001b[38;5;241m.\u001b[39mwraps(func)\n\u001b[1;32m   1463\u001b[0m \u001b[38;5;28;01mdef\u001b[39;00m \u001b[38;5;21minner\u001b[39m(ax, \u001b[38;5;241m*\u001b[39margs, data\u001b[38;5;241m=\u001b[39m\u001b[38;5;28;01mNone\u001b[39;00m, \u001b[38;5;241m*\u001b[39m\u001b[38;5;241m*\u001b[39mkwargs):\n\u001b[1;32m   1464\u001b[0m     \u001b[38;5;28;01mif\u001b[39;00m data \u001b[38;5;129;01mis\u001b[39;00m \u001b[38;5;28;01mNone\u001b[39;00m:\n\u001b[0;32m-> 1465\u001b[0m         \u001b[38;5;28;01mreturn\u001b[39;00m \u001b[43mfunc\u001b[49m\u001b[43m(\u001b[49m\u001b[43max\u001b[49m\u001b[43m,\u001b[49m\u001b[43m \u001b[49m\u001b[38;5;241;43m*\u001b[39;49m\u001b[38;5;28;43mmap\u001b[39;49m\u001b[43m(\u001b[49m\u001b[43msanitize_sequence\u001b[49m\u001b[43m,\u001b[49m\u001b[43m \u001b[49m\u001b[43margs\u001b[49m\u001b[43m)\u001b[49m\u001b[43m,\u001b[49m\u001b[43m \u001b[49m\u001b[38;5;241;43m*\u001b[39;49m\u001b[38;5;241;43m*\u001b[39;49m\u001b[43mkwargs\u001b[49m\u001b[43m)\u001b[49m\n\u001b[1;32m   1467\u001b[0m     bound \u001b[38;5;241m=\u001b[39m new_sig\u001b[38;5;241m.\u001b[39mbind(ax, \u001b[38;5;241m*\u001b[39margs, \u001b[38;5;241m*\u001b[39m\u001b[38;5;241m*\u001b[39mkwargs)\n\u001b[1;32m   1468\u001b[0m     auto_label \u001b[38;5;241m=\u001b[39m (bound\u001b[38;5;241m.\u001b[39marguments\u001b[38;5;241m.\u001b[39mget(label_namer)\n\u001b[1;32m   1469\u001b[0m                   \u001b[38;5;129;01mor\u001b[39;00m bound\u001b[38;5;241m.\u001b[39mkwargs\u001b[38;5;241m.\u001b[39mget(label_namer))\n",
      "File \u001b[0;32m~/.local/lib/python3.10/site-packages/matplotlib/axes/_axes.py:3947\u001b[0m, in \u001b[0;36mAxes.boxplot\u001b[0;34m(self, x, notch, sym, vert, whis, positions, widths, patch_artist, bootstrap, usermedians, conf_intervals, meanline, showmeans, showcaps, showbox, showfliers, boxprops, labels, flierprops, medianprops, meanprops, capprops, whiskerprops, manage_ticks, autorange, zorder, capwidths)\u001b[0m\n\u001b[1;32m   3944\u001b[0m \u001b[38;5;28;01mif\u001b[39;00m bootstrap \u001b[38;5;129;01mis\u001b[39;00m \u001b[38;5;28;01mNone\u001b[39;00m:\n\u001b[1;32m   3945\u001b[0m     bootstrap \u001b[38;5;241m=\u001b[39m mpl\u001b[38;5;241m.\u001b[39mrcParams[\u001b[38;5;124m'\u001b[39m\u001b[38;5;124mboxplot.bootstrap\u001b[39m\u001b[38;5;124m'\u001b[39m]\n\u001b[0;32m-> 3947\u001b[0m bxpstats \u001b[38;5;241m=\u001b[39m \u001b[43mcbook\u001b[49m\u001b[38;5;241;43m.\u001b[39;49m\u001b[43mboxplot_stats\u001b[49m\u001b[43m(\u001b[49m\u001b[43mx\u001b[49m\u001b[43m,\u001b[49m\u001b[43m \u001b[49m\u001b[43mwhis\u001b[49m\u001b[38;5;241;43m=\u001b[39;49m\u001b[43mwhis\u001b[49m\u001b[43m,\u001b[49m\u001b[43m \u001b[49m\u001b[43mbootstrap\u001b[49m\u001b[38;5;241;43m=\u001b[39;49m\u001b[43mbootstrap\u001b[49m\u001b[43m,\u001b[49m\n\u001b[1;32m   3948\u001b[0m \u001b[43m                               \u001b[49m\u001b[43mlabels\u001b[49m\u001b[38;5;241;43m=\u001b[39;49m\u001b[43mlabels\u001b[49m\u001b[43m,\u001b[49m\u001b[43m \u001b[49m\u001b[43mautorange\u001b[49m\u001b[38;5;241;43m=\u001b[39;49m\u001b[43mautorange\u001b[49m\u001b[43m)\u001b[49m\n\u001b[1;32m   3949\u001b[0m \u001b[38;5;28;01mif\u001b[39;00m notch \u001b[38;5;129;01mis\u001b[39;00m \u001b[38;5;28;01mNone\u001b[39;00m:\n\u001b[1;32m   3950\u001b[0m     notch \u001b[38;5;241m=\u001b[39m mpl\u001b[38;5;241m.\u001b[39mrcParams[\u001b[38;5;124m'\u001b[39m\u001b[38;5;124mboxplot.notch\u001b[39m\u001b[38;5;124m'\u001b[39m]\n",
      "File \u001b[0;32m~/.local/lib/python3.10/site-packages/matplotlib/cbook.py:1245\u001b[0m, in \u001b[0;36mboxplot_stats\u001b[0;34m(X, whis, bootstrap, labels, autorange)\u001b[0m\n\u001b[1;32m   1242\u001b[0m stats[\u001b[38;5;124m'\u001b[39m\u001b[38;5;124mmean\u001b[39m\u001b[38;5;124m'\u001b[39m] \u001b[38;5;241m=\u001b[39m np\u001b[38;5;241m.\u001b[39mmean(x)\n\u001b[1;32m   1244\u001b[0m \u001b[38;5;66;03m# medians and quartiles\u001b[39;00m\n\u001b[0;32m-> 1245\u001b[0m q1, med, q3 \u001b[38;5;241m=\u001b[39m \u001b[43mnp\u001b[49m\u001b[38;5;241;43m.\u001b[39;49m\u001b[43mpercentile\u001b[49m\u001b[43m(\u001b[49m\u001b[43mx\u001b[49m\u001b[43m,\u001b[49m\u001b[43m \u001b[49m\u001b[43m[\u001b[49m\u001b[38;5;241;43m25\u001b[39;49m\u001b[43m,\u001b[49m\u001b[43m \u001b[49m\u001b[38;5;241;43m50\u001b[39;49m\u001b[43m,\u001b[49m\u001b[43m \u001b[49m\u001b[38;5;241;43m75\u001b[39;49m\u001b[43m]\u001b[49m\u001b[43m)\u001b[49m\n\u001b[1;32m   1247\u001b[0m \u001b[38;5;66;03m# interquartile range\u001b[39;00m\n\u001b[1;32m   1248\u001b[0m stats[\u001b[38;5;124m'\u001b[39m\u001b[38;5;124miqr\u001b[39m\u001b[38;5;124m'\u001b[39m] \u001b[38;5;241m=\u001b[39m q3 \u001b[38;5;241m-\u001b[39m q1\n",
      "File \u001b[0;32m<__array_function__ internals>:180\u001b[0m, in \u001b[0;36mpercentile\u001b[0;34m(*args, **kwargs)\u001b[0m\n",
      "File \u001b[0;32m~/.local/lib/python3.10/site-packages/numpy/lib/function_base.py:4166\u001b[0m, in \u001b[0;36mpercentile\u001b[0;34m(a, q, axis, out, overwrite_input, method, keepdims, interpolation)\u001b[0m\n\u001b[1;32m   4164\u001b[0m \u001b[38;5;28;01mif\u001b[39;00m \u001b[38;5;129;01mnot\u001b[39;00m _quantile_is_valid(q):\n\u001b[1;32m   4165\u001b[0m     \u001b[38;5;28;01mraise\u001b[39;00m \u001b[38;5;167;01mValueError\u001b[39;00m(\u001b[38;5;124m\"\u001b[39m\u001b[38;5;124mPercentiles must be in the range [0, 100]\u001b[39m\u001b[38;5;124m\"\u001b[39m)\n\u001b[0;32m-> 4166\u001b[0m \u001b[38;5;28;01mreturn\u001b[39;00m \u001b[43m_quantile_unchecked\u001b[49m\u001b[43m(\u001b[49m\n\u001b[1;32m   4167\u001b[0m \u001b[43m    \u001b[49m\u001b[43ma\u001b[49m\u001b[43m,\u001b[49m\u001b[43m \u001b[49m\u001b[43mq\u001b[49m\u001b[43m,\u001b[49m\u001b[43m \u001b[49m\u001b[43maxis\u001b[49m\u001b[43m,\u001b[49m\u001b[43m \u001b[49m\u001b[43mout\u001b[49m\u001b[43m,\u001b[49m\u001b[43m \u001b[49m\u001b[43moverwrite_input\u001b[49m\u001b[43m,\u001b[49m\u001b[43m \u001b[49m\u001b[43mmethod\u001b[49m\u001b[43m,\u001b[49m\u001b[43m \u001b[49m\u001b[43mkeepdims\u001b[49m\u001b[43m)\u001b[49m\n",
      "File \u001b[0;32m~/.local/lib/python3.10/site-packages/numpy/lib/function_base.py:4424\u001b[0m, in \u001b[0;36m_quantile_unchecked\u001b[0;34m(a, q, axis, out, overwrite_input, method, keepdims)\u001b[0m\n\u001b[1;32m   4416\u001b[0m \u001b[38;5;28;01mdef\u001b[39;00m \u001b[38;5;21m_quantile_unchecked\u001b[39m(a,\n\u001b[1;32m   4417\u001b[0m                         q,\n\u001b[1;32m   4418\u001b[0m                         axis\u001b[38;5;241m=\u001b[39m\u001b[38;5;28;01mNone\u001b[39;00m,\n\u001b[0;32m   (...)\u001b[0m\n\u001b[1;32m   4421\u001b[0m                         method\u001b[38;5;241m=\u001b[39m\u001b[38;5;124m\"\u001b[39m\u001b[38;5;124mlinear\u001b[39m\u001b[38;5;124m\"\u001b[39m,\n\u001b[1;32m   4422\u001b[0m                         keepdims\u001b[38;5;241m=\u001b[39m\u001b[38;5;28;01mFalse\u001b[39;00m):\n\u001b[1;32m   4423\u001b[0m \u001b[38;5;250m    \u001b[39m\u001b[38;5;124;03m\"\"\"Assumes that q is in [0, 1], and is an ndarray\"\"\"\u001b[39;00m\n\u001b[0;32m-> 4424\u001b[0m     r, k \u001b[38;5;241m=\u001b[39m \u001b[43m_ureduce\u001b[49m\u001b[43m(\u001b[49m\u001b[43ma\u001b[49m\u001b[43m,\u001b[49m\n\u001b[1;32m   4425\u001b[0m \u001b[43m                    \u001b[49m\u001b[43mfunc\u001b[49m\u001b[38;5;241;43m=\u001b[39;49m\u001b[43m_quantile_ureduce_func\u001b[49m\u001b[43m,\u001b[49m\n\u001b[1;32m   4426\u001b[0m \u001b[43m                    \u001b[49m\u001b[43mq\u001b[49m\u001b[38;5;241;43m=\u001b[39;49m\u001b[43mq\u001b[49m\u001b[43m,\u001b[49m\n\u001b[1;32m   4427\u001b[0m \u001b[43m                    \u001b[49m\u001b[43maxis\u001b[49m\u001b[38;5;241;43m=\u001b[39;49m\u001b[43maxis\u001b[49m\u001b[43m,\u001b[49m\n\u001b[1;32m   4428\u001b[0m \u001b[43m                    \u001b[49m\u001b[43mout\u001b[49m\u001b[38;5;241;43m=\u001b[39;49m\u001b[43mout\u001b[49m\u001b[43m,\u001b[49m\n\u001b[1;32m   4429\u001b[0m \u001b[43m                    \u001b[49m\u001b[43moverwrite_input\u001b[49m\u001b[38;5;241;43m=\u001b[39;49m\u001b[43moverwrite_input\u001b[49m\u001b[43m,\u001b[49m\n\u001b[1;32m   4430\u001b[0m \u001b[43m                    \u001b[49m\u001b[43mmethod\u001b[49m\u001b[38;5;241;43m=\u001b[39;49m\u001b[43mmethod\u001b[49m\u001b[43m)\u001b[49m\n\u001b[1;32m   4431\u001b[0m     \u001b[38;5;28;01mif\u001b[39;00m keepdims:\n\u001b[1;32m   4432\u001b[0m         \u001b[38;5;28;01mreturn\u001b[39;00m r\u001b[38;5;241m.\u001b[39mreshape(q\u001b[38;5;241m.\u001b[39mshape \u001b[38;5;241m+\u001b[39m k)\n",
      "File \u001b[0;32m~/.local/lib/python3.10/site-packages/numpy/lib/function_base.py:3725\u001b[0m, in \u001b[0;36m_ureduce\u001b[0;34m(a, func, **kwargs)\u001b[0m\n\u001b[1;32m   3722\u001b[0m \u001b[38;5;28;01melse\u001b[39;00m:\n\u001b[1;32m   3723\u001b[0m     keepdim \u001b[38;5;241m=\u001b[39m (\u001b[38;5;241m1\u001b[39m,) \u001b[38;5;241m*\u001b[39m a\u001b[38;5;241m.\u001b[39mndim\n\u001b[0;32m-> 3725\u001b[0m r \u001b[38;5;241m=\u001b[39m \u001b[43mfunc\u001b[49m\u001b[43m(\u001b[49m\u001b[43ma\u001b[49m\u001b[43m,\u001b[49m\u001b[43m \u001b[49m\u001b[38;5;241;43m*\u001b[39;49m\u001b[38;5;241;43m*\u001b[39;49m\u001b[43mkwargs\u001b[49m\u001b[43m)\u001b[49m\n\u001b[1;32m   3726\u001b[0m \u001b[38;5;28;01mreturn\u001b[39;00m r, keepdim\n",
      "File \u001b[0;32m~/.local/lib/python3.10/site-packages/numpy/lib/function_base.py:4593\u001b[0m, in \u001b[0;36m_quantile_ureduce_func\u001b[0;34m(a, q, axis, out, overwrite_input, method)\u001b[0m\n\u001b[1;32m   4591\u001b[0m     \u001b[38;5;28;01melse\u001b[39;00m:\n\u001b[1;32m   4592\u001b[0m         arr \u001b[38;5;241m=\u001b[39m a\u001b[38;5;241m.\u001b[39mcopy()\n\u001b[0;32m-> 4593\u001b[0m result \u001b[38;5;241m=\u001b[39m \u001b[43m_quantile\u001b[49m\u001b[43m(\u001b[49m\u001b[43marr\u001b[49m\u001b[43m,\u001b[49m\n\u001b[1;32m   4594\u001b[0m \u001b[43m                   \u001b[49m\u001b[43mquantiles\u001b[49m\u001b[38;5;241;43m=\u001b[39;49m\u001b[43mq\u001b[49m\u001b[43m,\u001b[49m\n\u001b[1;32m   4595\u001b[0m \u001b[43m                   \u001b[49m\u001b[43maxis\u001b[49m\u001b[38;5;241;43m=\u001b[39;49m\u001b[43maxis\u001b[49m\u001b[43m,\u001b[49m\n\u001b[1;32m   4596\u001b[0m \u001b[43m                   \u001b[49m\u001b[43mmethod\u001b[49m\u001b[38;5;241;43m=\u001b[39;49m\u001b[43mmethod\u001b[49m\u001b[43m,\u001b[49m\n\u001b[1;32m   4597\u001b[0m \u001b[43m                   \u001b[49m\u001b[43mout\u001b[49m\u001b[38;5;241;43m=\u001b[39;49m\u001b[43mout\u001b[49m\u001b[43m)\u001b[49m\n\u001b[1;32m   4598\u001b[0m \u001b[38;5;28;01mreturn\u001b[39;00m result\n",
      "File \u001b[0;32m~/.local/lib/python3.10/site-packages/numpy/lib/function_base.py:4710\u001b[0m, in \u001b[0;36m_quantile\u001b[0;34m(arr, quantiles, axis, method, out)\u001b[0m\n\u001b[1;32m   4708\u001b[0m     result_shape \u001b[38;5;241m=\u001b[39m virtual_indexes\u001b[38;5;241m.\u001b[39mshape \u001b[38;5;241m+\u001b[39m (\u001b[38;5;241m1\u001b[39m,) \u001b[38;5;241m*\u001b[39m (arr\u001b[38;5;241m.\u001b[39mndim \u001b[38;5;241m-\u001b[39m \u001b[38;5;241m1\u001b[39m)\n\u001b[1;32m   4709\u001b[0m     gamma \u001b[38;5;241m=\u001b[39m gamma\u001b[38;5;241m.\u001b[39mreshape(result_shape)\n\u001b[0;32m-> 4710\u001b[0m     result \u001b[38;5;241m=\u001b[39m \u001b[43m_lerp\u001b[49m\u001b[43m(\u001b[49m\u001b[43mprevious\u001b[49m\u001b[43m,\u001b[49m\n\u001b[1;32m   4711\u001b[0m \u001b[43m                   \u001b[49m\u001b[38;5;28;43mnext\u001b[39;49m\u001b[43m,\u001b[49m\n\u001b[1;32m   4712\u001b[0m \u001b[43m                   \u001b[49m\u001b[43mgamma\u001b[49m\u001b[43m,\u001b[49m\n\u001b[1;32m   4713\u001b[0m \u001b[43m                   \u001b[49m\u001b[43mout\u001b[49m\u001b[38;5;241;43m=\u001b[39;49m\u001b[43mout\u001b[49m\u001b[43m)\u001b[49m\n\u001b[1;32m   4714\u001b[0m \u001b[38;5;28;01mif\u001b[39;00m np\u001b[38;5;241m.\u001b[39many(slices_having_nans):\n\u001b[1;32m   4715\u001b[0m     \u001b[38;5;28;01mif\u001b[39;00m result\u001b[38;5;241m.\u001b[39mndim \u001b[38;5;241m==\u001b[39m \u001b[38;5;241m0\u001b[39m \u001b[38;5;129;01mand\u001b[39;00m out \u001b[38;5;129;01mis\u001b[39;00m \u001b[38;5;28;01mNone\u001b[39;00m:\n\u001b[1;32m   4716\u001b[0m         \u001b[38;5;66;03m# can't write to a scalar\u001b[39;00m\n",
      "File \u001b[0;32m~/.local/lib/python3.10/site-packages/numpy/lib/function_base.py:4527\u001b[0m, in \u001b[0;36m_lerp\u001b[0;34m(a, b, t, out)\u001b[0m\n\u001b[1;32m   4513\u001b[0m \u001b[38;5;28;01mdef\u001b[39;00m \u001b[38;5;21m_lerp\u001b[39m(a, b, t, out\u001b[38;5;241m=\u001b[39m\u001b[38;5;28;01mNone\u001b[39;00m):\n\u001b[1;32m   4514\u001b[0m \u001b[38;5;250m    \u001b[39m\u001b[38;5;124;03m\"\"\"\u001b[39;00m\n\u001b[1;32m   4515\u001b[0m \u001b[38;5;124;03m    Compute the linear interpolation weighted by gamma on each point of\u001b[39;00m\n\u001b[1;32m   4516\u001b[0m \u001b[38;5;124;03m    two same shape array.\u001b[39;00m\n\u001b[0;32m   (...)\u001b[0m\n\u001b[1;32m   4525\u001b[0m \u001b[38;5;124;03m        Output array.\u001b[39;00m\n\u001b[1;32m   4526\u001b[0m \u001b[38;5;124;03m    \"\"\"\u001b[39;00m\n\u001b[0;32m-> 4527\u001b[0m     diff_b_a \u001b[38;5;241m=\u001b[39m \u001b[43msubtract\u001b[49m\u001b[43m(\u001b[49m\u001b[43mb\u001b[49m\u001b[43m,\u001b[49m\u001b[43m \u001b[49m\u001b[43ma\u001b[49m\u001b[43m)\u001b[49m\n\u001b[1;32m   4528\u001b[0m     \u001b[38;5;66;03m# asanyarray is a stop-gap until gh-13105\u001b[39;00m\n\u001b[1;32m   4529\u001b[0m     lerp_interpolation \u001b[38;5;241m=\u001b[39m asanyarray(add(a, diff_b_a \u001b[38;5;241m*\u001b[39m t, out\u001b[38;5;241m=\u001b[39mout))\n",
      "\u001b[0;31mTypeError\u001b[0m: numpy boolean subtract, the `-` operator, is not supported, use the bitwise_xor, the `^` operator, or the logical_xor function instead."
     ]
    },
    {
     "data": {
      "image/png": "[encoded data removed]",
      "text/plain": [
       "<Figure size 2000x2000 with 36 Axes>"
      ]
     },
     "metadata": {},
     "output_type": "display_data"
    }
   ],
   "source": [
    "fig, axs = plt.subplots(6, 6, figsize = (20,20))\n",
    "\n",
    "for i, col_name in enumerate(df_train.columns):\n",
    "    row = i // 6\n",
    "    col = i % 6\n",
    "    sns.boxplot(data = df_train, y = col_name, ax = axs[row][col])"
   ]
  },
  {
   "cell_type": "markdown",
   "id": "dc09379c",
   "metadata": {},
   "source": [
    "## KNNImputer 사용\n",
    "- KNNImputer를 사용하여 결측치를 처리할 예정\n",
    "- KNNImputer를 사용하려면 그 전에 Scaled가 되어있어야 된다.\n",
    "- historical, customer_type, customer_job, business_sub, business"
   ]
  },
  {
   "cell_type": "code",
   "execution_count": 62,
   "id": "5993ec8b",
   "metadata": {},
   "outputs": [],
   "source": [
    "from sklearn.impute import KNNImputer"
   ]
  },
  {
   "cell_type": "code",
   "execution_count": 63,
   "id": "cbdcea30",
   "metadata": {},
   "outputs": [],
   "source": [
    "from sklearn.preprocessing import StandardScaler"
   ]
  },
  {
   "cell_type": "code",
   "execution_count": 64,
   "id": "32070b74",
   "metadata": {},
   "outputs": [],
   "source": [
    "imputer = KNNImputer(n_neighbors = 3)"
   ]
  },
  {
   "cell_type": "code",
   "execution_count": 65,
   "id": "63028cd3",
   "metadata": {},
   "outputs": [],
   "source": [
    "historical_index = df_train[df_train['historical_existing_cnt'].isnull()].index\n",
    "test_historical_index = df_test[df_test['historical_existing_cnt'].isnull()].index"
   ]
  },
  {
   "cell_type": "code",
   "execution_count": 66,
   "id": "26b131ea",
   "metadata": {},
   "outputs": [
    {
     "name": "stdout",
     "output_type": "stream",
     "text": [
      "45543\n",
      "43961\n",
      "18733\n",
      "53773\n",
      "40882\n",
      "\n",
      "3996\n",
      "1457\n",
      "1439\n",
      "3455\n",
      "2898\n"
     ]
    }
   ],
   "source": [
    "print(len(historical_index))\n",
    "print(len(customer_type_index))\n",
    "print(len(customer_job_index))\n",
    "print(len(business_sub_index))\n",
    "print(len(business_index))\n",
    "print()\n",
    "print(len(test_historical_index))\n",
    "print(len(test_customer_type_index))\n",
    "print(len(test_customer_job_index))\n",
    "print(len(test_business_sub_index))\n",
    "print(len(test_business_index))"
   ]
  },
  {
   "cell_type": "code",
   "execution_count": 67,
   "id": "af98f10c",
   "metadata": {},
   "outputs": [],
   "source": [
    "df_train['customer_type'][customer_type_index] = np.nan\n",
    "df_test['customer_type'][test_customer_type_index] = np.nan"
   ]
  },
  {
   "cell_type": "code",
   "execution_count": 68,
   "id": "66ce72f3",
   "metadata": {},
   "outputs": [],
   "source": [
    "df_train['customer_job'].iloc[customer_job_index] = np.nan\n",
    "df_test['customer_job'].iloc[test_customer_job_index] = np.nan"
   ]
  },
  {
   "cell_type": "code",
   "execution_count": 69,
   "id": "4ed6e36d",
   "metadata": {},
   "outputs": [],
   "source": [
    "df_train['business_subarea'][business_sub_index] = np.nan\n",
    "df_test['business_subarea'][test_business_sub_index] = np.nan"
   ]
  },
  {
   "cell_type": "code",
   "execution_count": 70,
   "id": "9f8091f6",
   "metadata": {},
   "outputs": [],
   "source": [
    "df_train['business_area'][business_index] = np.nan\n",
    "df_test['business_area'][test_business_index] = np.nan"
   ]
  },
  {
   "cell_type": "code",
   "execution_count": 71,
   "id": "02281a80",
   "metadata": {},
   "outputs": [],
   "source": [
    "scaler = StandardScaler()"
   ]
  },
  {
   "cell_type": "code",
   "execution_count": 72,
   "id": "7d6248ee",
   "metadata": {},
   "outputs": [],
   "source": [
    "# 'customer_idx', 'customer_position', 'expected_timeline',\n",
    "cols = ['customer_job', 'customer_type', 'business_area', 'business_subarea', 'historical_existing_cnt', 'business_area']"
   ]
  },
  {
   "cell_type": "code",
   "execution_count": 73,
   "id": "b343be3b",
   "metadata": {},
   "outputs": [
    {
     "data": {
      "text/html": [
       "<style>#sk-container-id-1 {color: black;background-color: white;}#sk-container-id-1 pre{padding: 0;}#sk-container-id-1 div.sk-toggleable {background-color: white;}#sk-container-id-1 label.sk-toggleable__label {cursor: pointer;display: block;width: 100%;margin-bottom: 0;padding: 0.3em;box-sizing: border-box;text-align: center;}#sk-container-id-1 label.sk-toggleable__label-arrow:before {content: \"▸\";float: left;margin-right: 0.25em;color: #696969;}#sk-container-id-1 label.sk-toggleable__label-arrow:hover:before {color: black;}#sk-container-id-1 div.sk-estimator:hover label.sk-toggleable__label-arrow:before {color: black;}#sk-container-id-1 div.sk-toggleable__content {max-height: 0;max-width: 0;overflow: hidden;text-align: left;background-color: #f0f8ff;}#sk-container-id-1 div.sk-toggleable__content pre {margin: 0.2em;color: black;border-radius: 0.25em;background-color: #f0f8ff;}#sk-container-id-1 input.sk-toggleable__control:checked~div.sk-toggleable__content {max-height: 200px;max-width: 100%;overflow: auto;}#sk-container-id-1 input.sk-toggleable__control:checked~label.sk-toggleable__label-arrow:before {content: \"▾\";}#sk-container-id-1 div.sk-estimator input.sk-toggleable__control:checked~label.sk-toggleable__label {background-color: #d4ebff;}#sk-container-id-1 div.sk-label input.sk-toggleable__control:checked~label.sk-toggleable__label {background-color: #d4ebff;}#sk-container-id-1 input.sk-hidden--visually {border: 0;clip: rect(1px 1px 1px 1px);clip: rect(1px, 1px, 1px, 1px);height: 1px;margin: -1px;overflow: hidden;padding: 0;position: absolute;width: 1px;}#sk-container-id-1 div.sk-estimator {font-family: monospace;background-color: #f0f8ff;border: 1px dotted black;border-radius: 0.25em;box-sizing: border-box;margin-bottom: 0.5em;}#sk-container-id-1 div.sk-estimator:hover {background-color: #d4ebff;}#sk-container-id-1 div.sk-parallel-item::after {content: \"\";width: 100%;border-bottom: 1px solid gray;flex-grow: 1;}#sk-container-id-1 div.sk-label:hover label.sk-toggleable__label {background-color: #d4ebff;}#sk-container-id-1 div.sk-serial::before {content: \"\";position: absolute;border-left: 1px solid gray;box-sizing: border-box;top: 0;bottom: 0;left: 50%;z-index: 0;}#sk-container-id-1 div.sk-serial {display: flex;flex-direction: column;align-items: center;background-color: white;padding-right: 0.2em;padding-left: 0.2em;position: relative;}#sk-container-id-1 div.sk-item {position: relative;z-index: 1;}#sk-container-id-1 div.sk-parallel {display: flex;align-items: stretch;justify-content: center;background-color: white;position: relative;}#sk-container-id-1 div.sk-item::before, #sk-container-id-1 div.sk-parallel-item::before {content: \"\";position: absolute;border-left: 1px solid gray;box-sizing: border-box;top: 0;bottom: 0;left: 50%;z-index: -1;}#sk-container-id-1 div.sk-parallel-item {display: flex;flex-direction: column;z-index: 1;position: relative;background-color: white;}#sk-container-id-1 div.sk-parallel-item:first-child::after {align-self: flex-end;width: 50%;}#sk-container-id-1 div.sk-parallel-item:last-child::after {align-self: flex-start;width: 50%;}#sk-container-id-1 div.sk-parallel-item:only-child::after {width: 0;}#sk-container-id-1 div.sk-dashed-wrapped {border: 1px dashed gray;margin: 0 0.4em 0.5em 0.4em;box-sizing: border-box;padding-bottom: 0.4em;background-color: white;}#sk-container-id-1 div.sk-label label {font-family: monospace;font-weight: bold;display: inline-block;line-height: 1.2em;}#sk-container-id-1 div.sk-label-container {text-align: center;}#sk-container-id-1 div.sk-container {/* jupyter's `normalize.less` sets `[hidden] { display: none; }` but bootstrap.min.css set `[hidden] { display: none !important; }` so we also need the `!important` here to be able to override the default hidden behavior on the sphinx rendered scikit-learn.org. See: https://github.com/scikit-learn/scikit-learn/issues/21755 */display: inline-block !important;position: relative;}#sk-container-id-1 div.sk-text-repr-fallback {display: none;}</style><div id=\"sk-container-id-1\" class=\"sk-top-container\"><div class=\"sk-text-repr-fallback\"><pre>StandardScaler()</pre><b>In a Jupyter environment, please rerun this cell to show the HTML representation or trust the notebook. <br />On GitHub, the HTML representation is unable to render, please try loading this page with nbviewer.org.</b></div><div class=\"sk-container\" hidden><div class=\"sk-item\"><div class=\"sk-estimator sk-toggleable\"><input class=\"sk-toggleable__control sk-hidden--visually\" id=\"sk-estimator-id-1\" type=\"checkbox\" checked><label for=\"sk-estimator-id-1\" class=\"sk-toggleable__label sk-toggleable__label-arrow\">StandardScaler</label><div class=\"sk-toggleable__content\"><pre>StandardScaler()</pre></div></div></div></div></div>"
      ],
      "text/plain": [
       "StandardScaler()"
      ]
     },
     "execution_count": 73,
     "metadata": {},
     "output_type": "execute_result"
    }
   ],
   "source": [
    "scaler.fit(df_train[cols])"
   ]
  },
  {
   "cell_type": "code",
   "execution_count": 74,
   "id": "6efb4bdd",
   "metadata": {},
   "outputs": [],
   "source": [
    "train_scaled = scaler.transform(df_train[cols])"
   ]
  },
  {
   "cell_type": "code",
   "execution_count": 75,
   "id": "18883bb4",
   "metadata": {
    "scrolled": false
   },
   "outputs": [],
   "source": [
    "train_scaled = pd.DataFrame(train_scaled, columns = cols)"
   ]
  },
  {
   "cell_type": "code",
   "execution_count": 76,
   "id": "81c4a456",
   "metadata": {},
   "outputs": [],
   "source": [
    "test_scaled = scaler.transform(df_test[cols])"
   ]
  },
  {
   "cell_type": "code",
   "execution_count": 77,
   "id": "04092445",
   "metadata": {},
   "outputs": [],
   "source": [
    "test_scaled = pd.DataFrame(df_test[cols], columns = cols)"
   ]
  },
  {
   "cell_type": "code",
   "execution_count": null,
   "id": "a0d25321",
   "metadata": {},
   "outputs": [],
   "source": [
    "data_filled = pd.DataFrame(imputer.fit_transform(df_train[cols]), columns = cols)\n",
    "test_data_filled = pd.DataFrame(imputer.transform(df_test[cols]), columns = cols)"
   ]
  },
  {
   "cell_type": "code",
   "execution_count": null,
   "id": "2f76a12c",
   "metadata": {},
   "outputs": [],
   "source": [
    "df_train['historical_existing_cnt'][historical_index] = data_filled['historical_existing_cnt'][historical_index].astype(int)\n",
    "df_test['historical_existing_cnt'][test_historical_index] = test_data_filled['historical_existing_cnt'][test_historical_index].astype(int)"
   ]
  },
  {
   "cell_type": "code",
   "execution_count": null,
   "id": "21058c1d",
   "metadata": {},
   "outputs": [],
   "source": [
    "df_train['customer_type'][customer_type_index] = data_filled['customer_type'][customer_type_index].astype(int)\n",
    "df_test['customer_type'][test_customer_type_index] = test_data_filled['customer_type'][test_customer_type_index].astype(int)"
   ]
  },
  {
   "cell_type": "code",
   "execution_count": null,
   "id": "21f691fb",
   "metadata": {},
   "outputs": [],
   "source": [
    "df_train['customer_job'][customer_job_index] = data_filled['customer_job'][customer_job_index].astype(int)\n",
    "df_test['customer_job'][test_customer_job_index] = test_data_filled['customer_job'][test_customer_job_index].astype(int)"
   ]
  },
  {
   "cell_type": "code",
   "execution_count": null,
   "id": "24b1e2ff",
   "metadata": {},
   "outputs": [],
   "source": [
    "df_train['business_subarea'][business_sub_index] = data_filled['business_subarea'][business_sub_index].astype(int)\n",
    "df_test['business_subarea'][test_business_sub_index] = test_data_filled['business_subarea'][test_business_sub_index].astype(int)"
   ]
  },
  {
   "cell_type": "code",
   "execution_count": null,
   "id": "ee1d79bb",
   "metadata": {},
   "outputs": [],
   "source": [
    "fig, axs = plt.subplots(3,2, figsize = (10,15))\n",
    "sns.histplot(df_train['historical_existing_cnt'], ax = axs[0][0])\n",
    "sns.histplot(df_test['historical_existing_cnt'], ax = axs[0][1])\n",
    "sns.histplot(df_train['customer_type'], ax = axs[1][0])\n",
    "sns.histplot(df_test['customer_type'], ax = axs[1][1])\n",
    "sns.histplot(df_train['customer_job'], ax = axs[2][0])\n",
    "sns.histplot(df_test['customer_job'], ax = axs[2][1])"
   ]
  },
  {
   "cell_type": "code",
   "execution_count": null,
   "id": "a41a21be",
   "metadata": {
    "scrolled": true
   },
   "outputs": [],
   "source": [
    "fig, axs = plt.subplots(4, 4, figsize = (15,15))\n",
    "print(df_train[label_columns].isnull().sum())\n",
    "for i,col_name in enumerate(label_columns):\n",
    "    row = i // 4\n",
    "    col = i % 4\n",
    "    sns.histplot(df_train[col_name], kde = False, ax = axs[row][col])"
   ]
  },
  {
   "cell_type": "markdown",
   "id": "9ced4e1f",
   "metadata": {},
   "source": [
    "## 결측치 회귀로 처리하기\n",
    "- com_reg_ver_win_rate 진행중"
   ]
  },
  {
   "cell_type": "code",
   "execution_count": 76,
   "id": "f3dbec27",
   "metadata": {},
   "outputs": [],
   "source": [
    "from sklearn.linear_model import LinearRegression"
   ]
  },
  {
   "cell_type": "code",
   "execution_count": 77,
   "id": "41d8e80f",
   "metadata": {
    "scrolled": true
   },
   "outputs": [
    {
     "data": {
      "text/plain": [
       "44731"
      ]
     },
     "execution_count": 77,
     "metadata": {},
     "output_type": "execute_result"
    }
   ],
   "source": [
    "df_train['com_reg_ver_win_rate'].isnull().sum()"
   ]
  },
  {
   "cell_type": "code",
   "execution_count": 78,
   "id": "42422b77",
   "metadata": {},
   "outputs": [],
   "source": [
    "from sklearn import linear_model"
   ]
  },
  {
   "cell_type": "code",
   "execution_count": 79,
   "id": "a804ff17",
   "metadata": {},
   "outputs": [],
   "source": [
    "#df_train['com_reg_ver_win_rate'] = np.log(df_train['com_reg_ver_win_rate'] + 1)"
   ]
  },
  {
   "cell_type": "code",
   "execution_count": 80,
   "id": "4c4c4910",
   "metadata": {
    "scrolled": true
   },
   "outputs": [
    {
     "data": {
      "text/plain": [
       "<Axes: ylabel='com_reg_ver_win_rate'>"
      ]
     },
     "execution_count": 80,
     "metadata": {},
     "output_type": "execute_result"
    },
    {
     "data": {
      "image/png": "[encoded data removed]",
      "text/plain": [
       "<Figure size 640x480 with 1 Axes>"
      ]
     },
     "metadata": {},
     "output_type": "display_data"
    }
   ],
   "source": [
    "sns.boxplot(y=df_train['com_reg_ver_win_rate'])"
   ]
  },
  {
   "cell_type": "code",
   "execution_count": 81,
   "id": "81f74941",
   "metadata": {},
   "outputs": [],
   "source": [
    "outlier, test_outlier = Q_index('com_reg_ver_win_rate')\n",
    "\n",
    "df_train['com_reg_ver_win_rate'][outlier] = df_train['com_reg_ver_win_rate'].median()\n",
    "df_test['com_reg_ver_win_rate'][test_outlier] = df_test['com_reg_ver_win_rate'].median()"
   ]
  },
  {
   "cell_type": "code",
   "execution_count": 82,
   "id": "78ae71e2",
   "metadata": {},
   "outputs": [
    {
     "data": {
      "text/plain": [
       "<Axes: ylabel='com_reg_ver_win_rate'>"
      ]
     },
     "execution_count": 82,
     "metadata": {},
     "output_type": "execute_result"
    },
    {
     "data": {
      "image/png": "[encoded data removed]",
      "text/plain": [
       "<Figure size 640x480 with 1 Axes>"
      ]
     },
     "metadata": {},
     "output_type": "display_data"
    }
   ],
   "source": [
    "sns.boxplot(y = df_train['com_reg_ver_win_rate'])\n",
    "#sns.boxplot(df_train['com_reg_ver_win_rate'].apply(lambda x : df_train['com_reg_ver_win_rate'].mean() if x > 0.3 else x))\n",
    "#df_train['com_reg_ver_win_rate'] = df_train['com_reg_ver_win_rate'].apply(lambda x : df_train['com_reg_ver_win_rate'].mean() if x > 0.3 else x)\n",
    "#df_test['com_reg_ver_win_rate'] = df_test['com_reg_ver_win_rate'].apply(lambda x : df_train['com_reg_ver_win_rate'].mean() if x > 0.3 else x)"
   ]
  },
  {
   "cell_type": "code",
   "execution_count": 83,
   "id": "51d7de32",
   "metadata": {},
   "outputs": [
    {
     "data": {
      "text/plain": [
       "<Axes: xlabel='com_reg_ver_win_rate', ylabel='Count'>"
      ]
     },
     "execution_count": 83,
     "metadata": {},
     "output_type": "execute_result"
    },
    {
     "data": {
      "image/png": "[encoded data removed]",
      "text/plain": [
       "<Figure size 640x480 with 1 Axes>"
      ]
     },
     "metadata": {},
     "output_type": "display_data"
    }
   ],
   "source": [
    "sns.histplot(df_train['com_reg_ver_win_rate'])"
   ]
  },
  {
   "cell_type": "code",
   "execution_count": 84,
   "id": "ffcd49d0",
   "metadata": {
    "scrolled": true
   },
   "outputs": [
    {
     "data": {
      "text/plain": [
       "count    14568.000000\n",
       "mean         0.049375\n",
       "std          0.031659\n",
       "min          0.003781\n",
       "25%          0.019705\n",
       "50%          0.048009\n",
       "75%          0.072273\n",
       "max          0.137201\n",
       "Name: com_reg_ver_win_rate, dtype: float64"
      ]
     },
     "execution_count": 84,
     "metadata": {},
     "output_type": "execute_result"
    }
   ],
   "source": [
    "df_train['com_reg_ver_win_rate'].describe()"
   ]
  },
  {
   "cell_type": "code",
   "execution_count": 85,
   "id": "a01495ed",
   "metadata": {},
   "outputs": [],
   "source": [
    "cols = ['business_unit', 'enterprise', 'ver_pro', 'ver_win_ratio_per_bu', 'lead_owner', 'product_subcategory',\n",
    "        'product_modelname', 'it_strategic_ver', 'id_strategic_ver', 'com_reg_ver_win_rate']"
   ]
  },
  {
   "cell_type": "code",
   "execution_count": 86,
   "id": "14b93f9b",
   "metadata": {},
   "outputs": [],
   "source": [
    "df_train[cols].isnull().sum()"
   ]
  },
  {
   "cell_type": "code",
   "execution_count": null,
   "id": "81f837cf",
   "metadata": {},
   "outputs": [],
   "source": [
    "from sklearn.experimental import enable_iterative_imputer\n",
    "from sklearn.impute import IterativeImputer\n",
    "\n",
    "imputer_mice = IterativeImputer()\n",
    "com_reg_ver_data = imputer_mice.fit_transform(df_train[cols])"
   ]
  },
  {
   "cell_type": "code",
   "execution_count": 87,
   "id": "91aa423d",
   "metadata": {},
   "outputs": [],
   "source": [
    "com_reg_ver_data = pd.DataFrame(com_reg_ver_data, columns = cols)"
   ]
  },
  {
   "cell_type": "code",
   "execution_count": 88,
   "id": "5dfdaeef",
   "metadata": {},
   "outputs": [],
   "source": [
    "sns.distplot(df_train['com_reg_ver_win_rate'], kde = False)"
   ]
  },
  {
   "cell_type": "code",
   "execution_count": null,
   "id": "d379abe4",
   "metadata": {},
   "outputs": [],
   "source": [
    "sns.distplot(com_reg_ver_data['com_reg_ver_win_rate'], kde = False)"
   ]
  },
  {
   "cell_type": "markdown",
   "id": "e7198902",
   "metadata": {},
   "source": [
    "###  ver_win_rate_x\n",
    "- 진행중"
   ]
  },
  {
   "cell_type": "code",
   "execution_count": 89,
   "id": "d8cfbb7b",
   "metadata": {},
   "outputs": [],
   "source": [
    "outlier, test_outlier = Q_index('ver_win_rate_x')\n",
    "\n",
    "df_train['ver_win_rate_x'][outlier] = df_train['ver_win_rate_x'].mean()\n",
    "df_test['ver_win_rate_x'][test_outlier] = df_test['ver_win_rate_x'].mean()"
   ]
  },
  {
   "cell_type": "code",
   "execution_count": 90,
   "id": "9d7b5916",
   "metadata": {},
   "outputs": [],
   "source": [
    "cols = ['business_unit', 'enterprise', 'ver_pro', 'ver_win_ratio_per_bu', 'lead_owner', 'product_subcategory',\n",
    "        'product_modelname', 'it_strategic_ver', 'id_strategic_ver']"
   ]
  },
  {
   "cell_type": "code",
   "execution_count": 91,
   "id": "9b2885f5",
   "metadata": {},
   "outputs": [],
   "source": [
    "lin_reg = linear_model.LinearRegression()\n",
    "\n",
    "X = df_train[df_train['ver_win_rate_x'] > -1][cols]\n",
    "y = df_train[df_train['ver_win_rate_x'] > -1]['ver_win_rate_x']"
   ]
  },
  {
   "cell_type": "code",
   "execution_count": 92,
   "id": "65eae5f5",
   "metadata": {},
   "outputs": [],
   "source": [
    "lin_reg_model = lin_reg.fit(X.fillna(0),y)"
   ]
  },
  {
   "cell_type": "code",
   "execution_count": 93,
   "id": "446d24e9",
   "metadata": {},
   "outputs": [],
   "source": [
    "y_pred = lin_reg_model.predict(df_train.fillna(0).loc[:,cols])\n",
    "df_train['ver_win_rate_x'].fillna(pd.Series(y_pred.flatten()), inplace = True)\n",
    "y_pred_1 = lin_reg_model.predict(df_test.fillna(0).loc[:,cols])\n",
    "df_test['ver_win_rate_x'].fillna(pd.Series(y_pred_1.flatten()), inplace = True)"
   ]
  },
  {
   "cell_type": "code",
   "execution_count": 94,
   "id": "c00070d6",
   "metadata": {},
   "outputs": [
    {
     "data": {
      "text/plain": [
       "<Axes: xlabel='ver_win_rate_x', ylabel='Count'>"
      ]
     },
     "execution_count": 94,
     "metadata": {},
     "output_type": "execute_result"
    },
    {
     "data": {
      "image/png": "[encoded data removed]",
      "text/plain": [
       "<Figure size 640x480 with 1 Axes>"
      ]
     },
     "metadata": {},
     "output_type": "display_data"
    }
   ],
   "source": [
    "sns.histplot(df_train['ver_win_rate_x'])"
   ]
  },
  {
   "cell_type": "code",
   "execution_count": null,
   "id": "0d024486",
   "metadata": {},
   "outputs": [],
   "source": []
  },
  {
   "cell_type": "code",
   "execution_count": 95,
   "id": "c3a8727a",
   "metadata": {},
   "outputs": [],
   "source": [
    "outlier, test_outlier = Q_index('ver_win_ratio_per_bu')\n",
    "\n",
    "df_train['ver_win_ratio_per_bu'][outlier] = df_train['ver_win_ratio_per_bu'].mean()\n",
    "df_test['ver_win_ratio_per_bu'][test_outlier] = df_test['ver_win_ratio_per_bu'].mean()"
   ]
  },
  {
   "cell_type": "code",
   "execution_count": 96,
   "id": "91c2e5d2",
   "metadata": {},
   "outputs": [],
   "source": [
    "cols = ['business_unit', 'com_reg_ver_win_rate', 'enterprise', \n",
    "        'id_strategic_ver', 'idit_strategic_ver', 'ver_pro', 'product_modelname']"
   ]
  },
  {
   "cell_type": "code",
   "execution_count": 97,
   "id": "5f6fbba7",
   "metadata": {},
   "outputs": [],
   "source": [
    "lr = linear_model.LinearRegression()\n",
    "\n",
    "X = df_train[df_train['ver_win_ratio_per_bu'] > -1][cols]\n",
    "y = df_train[df_train['ver_win_ratio_per_bu'] > -1]['ver_win_ratio_per_bu']"
   ]
  },
  {
   "cell_type": "code",
   "execution_count": 98,
   "id": "cef140d7",
   "metadata": {},
   "outputs": [],
   "source": [
    "lr = lr.fit(X.fillna(0),y)"
   ]
  },
  {
   "cell_type": "code",
   "execution_count": 99,
   "id": "f76c01bb",
   "metadata": {},
   "outputs": [],
   "source": [
    "y_pred = lr.predict(df_train.fillna(0).loc[:,cols])\n",
    "df_train['ver_win_ratio_per_bu'].fillna(pd.Series(y_pred.flatten()), inplace = True)\n",
    "y_pred_1 = lr.predict(df_test.fillna(0).loc[:,cols])\n",
    "df_test['ver_win_ratio_per_bu'].fillna(pd.Series(y_pred_1.flatten()), inplace = True)"
   ]
  },
  {
   "cell_type": "code",
   "execution_count": null,
   "id": "e4ed8f41",
   "metadata": {},
   "outputs": [],
   "source": []
  },
  {
   "cell_type": "markdown",
   "id": "d332358a",
   "metadata": {},
   "source": [
    "### 2-2. 학습, 검증 데이터 분리"
   ]
  },
  {
   "cell_type": "markdown",
   "id": "79ecfa9b",
   "metadata": {},
   "source": [
    "## 3. 모델 학습"
   ]
  },
  {
   "cell_type": "markdown",
   "id": "3caf257b",
   "metadata": {},
   "source": [
    "### 모델 정의 "
   ]
  },
  {
   "cell_type": "code",
   "execution_count": 218,
   "id": "ce90e6f3",
   "metadata": {},
   "outputs": [],
   "source": [
    "# from xgboost import XGBClassifier\n",
    "# from sklearn.model_selection import GridSearchCV"
   ]
  },
  {
   "cell_type": "code",
   "execution_count": 219,
   "id": "7b03d472",
   "metadata": {},
   "outputs": [],
   "source": [
    "# model = XGBClassifier(n_estimators = 100)"
   ]
  },
  {
   "cell_type": "code",
   "execution_count": 220,
   "id": "4b948e5d",
   "metadata": {},
   "outputs": [],
   "source": [
    "# params = {'max_depth' : [5,6,7,8,9,10],\n",
    "#           'min_child_weight' : [1,3],\n",
    "#           'colsample_bytree':[0.5,0.75],\n",
    "#           'subsample' : (0.5, 0.75, 1)}"
   ]
  },
  {
   "cell_type": "code",
   "execution_count": 221,
   "id": "ba83bfee",
   "metadata": {},
   "outputs": [],
   "source": [
    "# gridcv = GridSearchCV(model, param_grid = params, cv = 5)"
   ]
  },
  {
   "cell_type": "code",
   "execution_count": 222,
   "id": "7910dc8b",
   "metadata": {},
   "outputs": [],
   "source": [
    "# gridcv.fit(x_train, y_train, early_stopping_rounds = 30, eval_metric = 'auc', eval_set = [(x_val, y_val)])"
   ]
  },
  {
   "cell_type": "code",
   "execution_count": 223,
   "id": "dacc958f",
   "metadata": {},
   "outputs": [],
   "source": [
    "# print(gridcv.best_params_)"
   ]
  },
  {
   "cell_type": "code",
   "execution_count": 224,
   "id": "bab2e339",
   "metadata": {},
   "outputs": [],
   "source": [
    "# x_train, x_val, y_train, y_val = train_test_split(\n",
    "#     df_train.drop(\"is_converted\", axis=1).fillna(0),\n",
    "#     df_train[\"is_converted\"],\n",
    "#     test_size=0.2,\n",
    "#     shuffle=True,\n",
    "#     stratify = df_train['is_converted'],\n",
    "# )"
   ]
  },
  {
   "cell_type": "code",
   "execution_count": 225,
   "id": "5c962770",
   "metadata": {},
   "outputs": [],
   "source": [
    "# x_train.info()"
   ]
  },
  {
   "cell_type": "code",
   "execution_count": 226,
   "id": "b8e3ca60",
   "metadata": {},
   "outputs": [],
   "source": [
    "# model = XGBClassifier(n_estimators = 1000, learning_rate = 0.02, max_depth = 10, min_childe_weight = 1, colsample_bytree = 0.5, n_jobs = -1)"
   ]
  },
  {
   "cell_type": "code",
   "execution_count": 227,
   "id": "b0ce0c76",
   "metadata": {},
   "outputs": [
    {
     "name": "stdout",
     "output_type": "stream",
     "text": [
      "[0]\tvalidation_0-auc:0.91383\n",
      "[1]\tvalidation_0-auc:0.94705\n",
      "[2]\tvalidation_0-auc:0.95355\n",
      "[3]\tvalidation_0-auc:0.95795\n",
      "[4]\tvalidation_0-auc:0.96192\n",
      "[5]\tvalidation_0-auc:0.96405\n",
      "[6]\tvalidation_0-auc:0.96377\n",
      "[7]\tvalidation_0-auc:0.96457\n",
      "[8]\tvalidation_0-auc:0.96484\n",
      "[9]\tvalidation_0-auc:0.96540\n",
      "[10]\tvalidation_0-auc:0.96577\n",
      "[11]\tvalidation_0-auc:0.96741\n",
      "[12]\tvalidation_0-auc:0.96651\n",
      "[13]\tvalidation_0-auc:0.96760\n",
      "[14]\tvalidation_0-auc:0.96832\n",
      "[15]\tvalidation_0-auc:0.96801\n",
      "[16]\tvalidation_0-auc:0.96875\n",
      "[17]\tvalidation_0-auc:0.96922\n",
      "[18]\tvalidation_0-auc:0.96843\n",
      "[19]\tvalidation_0-auc:0.96849\n",
      "[20]\tvalidation_0-auc:0.96859\n",
      "[21]\tvalidation_0-auc:0.96944\n",
      "[22]\tvalidation_0-auc:0.96976\n",
      "[23]\tvalidation_0-auc:0.97000\n",
      "[24]\tvalidation_0-auc:0.97004\n",
      "[25]\tvalidation_0-auc:0.96988\n",
      "[26]\tvalidation_0-auc:0.96992\n",
      "[27]\tvalidation_0-auc:0.97019\n",
      "[28]\tvalidation_0-auc:0.97049\n",
      "[29]\tvalidation_0-auc:0.97065\n",
      "[30]\tvalidation_0-auc:0.97075\n",
      "[31]\tvalidation_0-auc:0.97122\n",
      "[32]\tvalidation_0-auc:0.97110\n",
      "[33]\tvalidation_0-auc:0.97110\n",
      "[34]\tvalidation_0-auc:0.97122\n",
      "[35]\tvalidation_0-auc:0.97148\n",
      "[36]\tvalidation_0-auc:0.97182\n",
      "[37]\tvalidation_0-auc:0.97179\n",
      "[38]\tvalidation_0-auc:0.97215\n",
      "[39]\tvalidation_0-auc:0.97219\n",
      "[40]\tvalidation_0-auc:0.97257\n",
      "[41]\tvalidation_0-auc:0.97274\n",
      "[42]\tvalidation_0-auc:0.97284\n",
      "[43]\tvalidation_0-auc:0.97298\n",
      "[44]\tvalidation_0-auc:0.97321\n",
      "[45]\tvalidation_0-auc:0.97328\n",
      "[46]\tvalidation_0-auc:0.97375\n",
      "[47]\tvalidation_0-auc:0.97368\n",
      "[48]\tvalidation_0-auc:0.97369\n",
      "[49]\tvalidation_0-auc:0.97396\n",
      "[50]\tvalidation_0-auc:0.97396\n",
      "[51]\tvalidation_0-auc:0.97400\n",
      "[52]\tvalidation_0-auc:0.97404\n",
      "[53]\tvalidation_0-auc:0.97395\n",
      "[54]\tvalidation_0-auc:0.97396\n",
      "[55]\tvalidation_0-auc:0.97416\n",
      "[56]\tvalidation_0-auc:0.97416\n",
      "[57]\tvalidation_0-auc:0.97434\n",
      "[58]\tvalidation_0-auc:0.97439\n",
      "[59]\tvalidation_0-auc:0.97435\n",
      "[60]\tvalidation_0-auc:0.97464\n",
      "[61]\tvalidation_0-auc:0.97463\n",
      "[62]\tvalidation_0-auc:0.97485\n",
      "[63]\tvalidation_0-auc:0.97482\n",
      "[64]\tvalidation_0-auc:0.97478\n",
      "[65]\tvalidation_0-auc:0.97493\n",
      "[66]\tvalidation_0-auc:0.97487\n",
      "[67]\tvalidation_0-auc:0.97497\n",
      "[68]\tvalidation_0-auc:0.97502\n",
      "[69]\tvalidation_0-auc:0.97503\n",
      "[70]\tvalidation_0-auc:0.97500\n",
      "[71]\tvalidation_0-auc:0.97516\n",
      "[72]\tvalidation_0-auc:0.97534\n",
      "[73]\tvalidation_0-auc:0.97532\n",
      "[74]\tvalidation_0-auc:0.97526\n",
      "[75]\tvalidation_0-auc:0.97568\n",
      "[76]\tvalidation_0-auc:0.97591\n",
      "[77]\tvalidation_0-auc:0.97586\n",
      "[78]\tvalidation_0-auc:0.97600\n",
      "[79]\tvalidation_0-auc:0.97611\n",
      "[80]\tvalidation_0-auc:0.97623\n",
      "[81]\tvalidation_0-auc:0.97644\n",
      "[82]\tvalidation_0-auc:0.97642\n",
      "[83]\tvalidation_0-auc:0.97649\n",
      "[84]\tvalidation_0-auc:0.97654\n",
      "[85]\tvalidation_0-auc:0.97662\n",
      "[86]\tvalidation_0-auc:0.97669\n",
      "[87]\tvalidation_0-auc:0.97663\n",
      "[88]\tvalidation_0-auc:0.97668\n",
      "[89]\tvalidation_0-auc:0.97676\n",
      "[90]\tvalidation_0-auc:0.97692\n",
      "[91]\tvalidation_0-auc:0.97707\n",
      "[92]\tvalidation_0-auc:0.97709\n",
      "[93]\tvalidation_0-auc:0.97707\n",
      "[94]\tvalidation_0-auc:0.97736\n",
      "[95]\tvalidation_0-auc:0.97736\n",
      "[96]\tvalidation_0-auc:0.97735\n",
      "[97]\tvalidation_0-auc:0.97750\n",
      "[98]\tvalidation_0-auc:0.97763\n",
      "[99]\tvalidation_0-auc:0.97784\n",
      "[100]\tvalidation_0-auc:0.97794\n",
      "[101]\tvalidation_0-auc:0.97802\n",
      "[102]\tvalidation_0-auc:0.97820\n",
      "[103]\tvalidation_0-auc:0.97828\n",
      "[104]\tvalidation_0-auc:0.97832\n",
      "[105]\tvalidation_0-auc:0.97834\n",
      "[106]\tvalidation_0-auc:0.97846\n",
      "[107]\tvalidation_0-auc:0.97853\n",
      "[108]\tvalidation_0-auc:0.97857\n",
      "[109]\tvalidation_0-auc:0.97861\n",
      "[110]\tvalidation_0-auc:0.97864\n",
      "[111]\tvalidation_0-auc:0.97873\n",
      "[112]\tvalidation_0-auc:0.97883\n",
      "[113]\tvalidation_0-auc:0.97893\n",
      "[114]\tvalidation_0-auc:0.97894\n",
      "[115]\tvalidation_0-auc:0.97893\n",
      "[116]\tvalidation_0-auc:0.97902\n",
      "[117]\tvalidation_0-auc:0.97904\n",
      "[118]\tvalidation_0-auc:0.97921\n",
      "[119]\tvalidation_0-auc:0.97921\n",
      "[120]\tvalidation_0-auc:0.97937\n",
      "[121]\tvalidation_0-auc:0.97936\n",
      "[122]\tvalidation_0-auc:0.97939\n",
      "[123]\tvalidation_0-auc:0.97941\n",
      "[124]\tvalidation_0-auc:0.97945\n",
      "[125]\tvalidation_0-auc:0.97946\n",
      "[126]\tvalidation_0-auc:0.97948\n",
      "[127]\tvalidation_0-auc:0.97957\n",
      "[128]\tvalidation_0-auc:0.97962\n",
      "[129]\tvalidation_0-auc:0.97962\n",
      "[130]\tvalidation_0-auc:0.97968\n",
      "[131]\tvalidation_0-auc:0.97973\n",
      "[132]\tvalidation_0-auc:0.97978\n",
      "[133]\tvalidation_0-auc:0.97983\n",
      "[134]\tvalidation_0-auc:0.97982\n",
      "[135]\tvalidation_0-auc:0.97997\n",
      "[136]\tvalidation_0-auc:0.98010\n",
      "[137]\tvalidation_0-auc:0.98019\n",
      "[138]\tvalidation_0-auc:0.98018\n",
      "[139]\tvalidation_0-auc:0.98027\n",
      "[140]\tvalidation_0-auc:0.98029\n",
      "[141]\tvalidation_0-auc:0.98025\n",
      "[142]\tvalidation_0-auc:0.98027\n",
      "[143]\tvalidation_0-auc:0.98031\n",
      "[144]\tvalidation_0-auc:0.98034\n",
      "[145]\tvalidation_0-auc:0.98039\n",
      "[146]\tvalidation_0-auc:0.98044\n",
      "[147]\tvalidation_0-auc:0.98050\n",
      "[148]\tvalidation_0-auc:0.98057\n",
      "[149]\tvalidation_0-auc:0.98065\n",
      "[150]\tvalidation_0-auc:0.98066\n",
      "[151]\tvalidation_0-auc:0.98072\n",
      "[152]\tvalidation_0-auc:0.98074\n",
      "[153]\tvalidation_0-auc:0.98078\n",
      "[154]\tvalidation_0-auc:0.98079\n",
      "[155]\tvalidation_0-auc:0.98078\n",
      "[156]\tvalidation_0-auc:0.98083\n",
      "[157]\tvalidation_0-auc:0.98087\n",
      "[158]\tvalidation_0-auc:0.98087\n",
      "[159]\tvalidation_0-auc:0.98091\n",
      "[160]\tvalidation_0-auc:0.98091\n",
      "[161]\tvalidation_0-auc:0.98099\n",
      "[162]\tvalidation_0-auc:0.98106\n",
      "[163]\tvalidation_0-auc:0.98107\n",
      "[164]\tvalidation_0-auc:0.98110\n",
      "[165]\tvalidation_0-auc:0.98113\n",
      "[166]\tvalidation_0-auc:0.98116\n",
      "[167]\tvalidation_0-auc:0.98117\n",
      "[168]\tvalidation_0-auc:0.98119\n",
      "[169]\tvalidation_0-auc:0.98117\n",
      "[170]\tvalidation_0-auc:0.98119\n",
      "[171]\tvalidation_0-auc:0.98120\n",
      "[172]\tvalidation_0-auc:0.98121\n",
      "[173]\tvalidation_0-auc:0.98122\n",
      "[174]\tvalidation_0-auc:0.98123\n",
      "[175]\tvalidation_0-auc:0.98124\n",
      "[176]\tvalidation_0-auc:0.98126\n",
      "[177]\tvalidation_0-auc:0.98126\n",
      "[178]\tvalidation_0-auc:0.98126\n",
      "[179]\tvalidation_0-auc:0.98137\n",
      "[180]\tvalidation_0-auc:0.98138\n",
      "[181]\tvalidation_0-auc:0.98136\n",
      "[182]\tvalidation_0-auc:0.98134\n",
      "[183]\tvalidation_0-auc:0.98135\n",
      "[184]\tvalidation_0-auc:0.98142\n",
      "[185]\tvalidation_0-auc:0.98146\n",
      "[186]\tvalidation_0-auc:0.98155\n",
      "[187]\tvalidation_0-auc:0.98158\n",
      "[188]\tvalidation_0-auc:0.98168\n",
      "[189]\tvalidation_0-auc:0.98165\n",
      "[190]\tvalidation_0-auc:0.98166\n",
      "[191]\tvalidation_0-auc:0.98173\n",
      "[192]\tvalidation_0-auc:0.98174\n",
      "[193]\tvalidation_0-auc:0.98173\n",
      "[194]\tvalidation_0-auc:0.98173\n",
      "[195]\tvalidation_0-auc:0.98174\n",
      "[196]\tvalidation_0-auc:0.98183\n",
      "[197]\tvalidation_0-auc:0.98185\n",
      "[198]\tvalidation_0-auc:0.98188\n",
      "[199]\tvalidation_0-auc:0.98189\n",
      "[200]\tvalidation_0-auc:0.98196\n",
      "[201]\tvalidation_0-auc:0.98199\n",
      "[202]\tvalidation_0-auc:0.98208\n",
      "[203]\tvalidation_0-auc:0.98209\n",
      "[204]\tvalidation_0-auc:0.98210\n",
      "[205]\tvalidation_0-auc:0.98216\n",
      "[206]\tvalidation_0-auc:0.98221\n",
      "[207]\tvalidation_0-auc:0.98222\n",
      "[208]\tvalidation_0-auc:0.98221\n",
      "[209]\tvalidation_0-auc:0.98224\n",
      "[210]\tvalidation_0-auc:0.98226\n",
      "[211]\tvalidation_0-auc:0.98224\n",
      "[212]\tvalidation_0-auc:0.98222\n",
      "[213]\tvalidation_0-auc:0.98222\n",
      "[214]\tvalidation_0-auc:0.98229\n",
      "[215]\tvalidation_0-auc:0.98229\n",
      "[216]\tvalidation_0-auc:0.98235\n",
      "[217]\tvalidation_0-auc:0.98235\n",
      "[218]\tvalidation_0-auc:0.98236\n",
      "[219]\tvalidation_0-auc:0.98238\n",
      "[220]\tvalidation_0-auc:0.98241\n",
      "[221]\tvalidation_0-auc:0.98241\n",
      "[222]\tvalidation_0-auc:0.98244\n",
      "[223]\tvalidation_0-auc:0.98252\n",
      "[224]\tvalidation_0-auc:0.98251\n",
      "[225]\tvalidation_0-auc:0.98250\n",
      "[226]\tvalidation_0-auc:0.98253\n",
      "[227]\tvalidation_0-auc:0.98255\n",
      "[228]\tvalidation_0-auc:0.98258\n",
      "[229]\tvalidation_0-auc:0.98259\n",
      "[230]\tvalidation_0-auc:0.98260\n",
      "[231]\tvalidation_0-auc:0.98261\n",
      "[232]\tvalidation_0-auc:0.98265\n",
      "[233]\tvalidation_0-auc:0.98269\n",
      "[234]\tvalidation_0-auc:0.98271\n",
      "[235]\tvalidation_0-auc:0.98270\n",
      "[236]\tvalidation_0-auc:0.98272\n",
      "[237]\tvalidation_0-auc:0.98273\n",
      "[238]\tvalidation_0-auc:0.98274\n",
      "[239]\tvalidation_0-auc:0.98272\n",
      "[240]\tvalidation_0-auc:0.98271\n",
      "[241]\tvalidation_0-auc:0.98277\n",
      "[242]\tvalidation_0-auc:0.98278\n",
      "[243]\tvalidation_0-auc:0.98278\n",
      "[244]\tvalidation_0-auc:0.98279\n",
      "[245]\tvalidation_0-auc:0.98282\n",
      "[246]\tvalidation_0-auc:0.98287\n",
      "[247]\tvalidation_0-auc:0.98286\n",
      "[248]\tvalidation_0-auc:0.98287\n",
      "[249]\tvalidation_0-auc:0.98287\n",
      "[250]\tvalidation_0-auc:0.98287\n",
      "[251]\tvalidation_0-auc:0.98288\n",
      "[252]\tvalidation_0-auc:0.98287\n",
      "[253]\tvalidation_0-auc:0.98284\n",
      "[254]\tvalidation_0-auc:0.98290\n",
      "[255]\tvalidation_0-auc:0.98292\n",
      "[256]\tvalidation_0-auc:0.98296\n",
      "[257]\tvalidation_0-auc:0.98297\n",
      "[258]\tvalidation_0-auc:0.98296\n",
      "[259]\tvalidation_0-auc:0.98297\n",
      "[260]\tvalidation_0-auc:0.98295\n",
      "[261]\tvalidation_0-auc:0.98296\n",
      "[262]\tvalidation_0-auc:0.98301\n",
      "[263]\tvalidation_0-auc:0.98300\n",
      "[264]\tvalidation_0-auc:0.98300\n",
      "[265]\tvalidation_0-auc:0.98300\n",
      "[266]\tvalidation_0-auc:0.98304\n",
      "[267]\tvalidation_0-auc:0.98308\n",
      "[268]\tvalidation_0-auc:0.98314\n",
      "[269]\tvalidation_0-auc:0.98316\n",
      "[270]\tvalidation_0-auc:0.98318\n",
      "[271]\tvalidation_0-auc:0.98320\n",
      "[272]\tvalidation_0-auc:0.98320\n",
      "[273]\tvalidation_0-auc:0.98322\n",
      "[274]\tvalidation_0-auc:0.98322\n",
      "[275]\tvalidation_0-auc:0.98321\n",
      "[276]\tvalidation_0-auc:0.98321\n",
      "[277]\tvalidation_0-auc:0.98321\n",
      "[278]\tvalidation_0-auc:0.98324\n",
      "[279]\tvalidation_0-auc:0.98324\n",
      "[280]\tvalidation_0-auc:0.98322\n",
      "[281]\tvalidation_0-auc:0.98324\n",
      "[282]\tvalidation_0-auc:0.98323\n",
      "[283]\tvalidation_0-auc:0.98324\n",
      "[284]\tvalidation_0-auc:0.98325\n",
      "[285]\tvalidation_0-auc:0.98324\n",
      "[286]\tvalidation_0-auc:0.98325\n",
      "[287]\tvalidation_0-auc:0.98329\n",
      "[288]\tvalidation_0-auc:0.98333\n",
      "[289]\tvalidation_0-auc:0.98334\n",
      "[290]\tvalidation_0-auc:0.98334\n",
      "[291]\tvalidation_0-auc:0.98337\n",
      "[292]\tvalidation_0-auc:0.98342\n",
      "[293]\tvalidation_0-auc:0.98348\n",
      "[294]\tvalidation_0-auc:0.98347\n",
      "[295]\tvalidation_0-auc:0.98347\n",
      "[296]\tvalidation_0-auc:0.98345\n",
      "[297]\tvalidation_0-auc:0.98345\n",
      "[298]\tvalidation_0-auc:0.98344\n",
      "[299]\tvalidation_0-auc:0.98344\n",
      "[300]\tvalidation_0-auc:0.98344\n",
      "[301]\tvalidation_0-auc:0.98344\n",
      "[302]\tvalidation_0-auc:0.98345\n",
      "[303]\tvalidation_0-auc:0.98346\n",
      "[304]\tvalidation_0-auc:0.98347\n",
      "[305]\tvalidation_0-auc:0.98349\n",
      "[306]\tvalidation_0-auc:0.98351\n",
      "[307]\tvalidation_0-auc:0.98351\n",
      "[308]\tvalidation_0-auc:0.98352\n",
      "[309]\tvalidation_0-auc:0.98353\n",
      "[310]\tvalidation_0-auc:0.98354\n",
      "[311]\tvalidation_0-auc:0.98354\n",
      "[312]\tvalidation_0-auc:0.98358\n",
      "[313]\tvalidation_0-auc:0.98358\n",
      "[314]\tvalidation_0-auc:0.98357\n",
      "[315]\tvalidation_0-auc:0.98356\n",
      "[316]\tvalidation_0-auc:0.98355\n",
      "[317]\tvalidation_0-auc:0.98354\n",
      "[318]\tvalidation_0-auc:0.98354\n",
      "[319]\tvalidation_0-auc:0.98357\n",
      "[320]\tvalidation_0-auc:0.98357\n",
      "[321]\tvalidation_0-auc:0.98357\n",
      "[322]\tvalidation_0-auc:0.98357\n",
      "[323]\tvalidation_0-auc:0.98362\n",
      "[324]\tvalidation_0-auc:0.98361\n",
      "[325]\tvalidation_0-auc:0.98360\n",
      "[326]\tvalidation_0-auc:0.98359\n",
      "[327]\tvalidation_0-auc:0.98359\n",
      "[328]\tvalidation_0-auc:0.98362\n",
      "[329]\tvalidation_0-auc:0.98364\n",
      "[330]\tvalidation_0-auc:0.98364\n",
      "[331]\tvalidation_0-auc:0.98364\n",
      "[332]\tvalidation_0-auc:0.98364\n",
      "[333]\tvalidation_0-auc:0.98365\n",
      "[334]\tvalidation_0-auc:0.98365\n",
      "[335]\tvalidation_0-auc:0.98364\n",
      "[336]\tvalidation_0-auc:0.98364\n",
      "[337]\tvalidation_0-auc:0.98365\n",
      "[338]\tvalidation_0-auc:0.98365\n",
      "[339]\tvalidation_0-auc:0.98365\n",
      "[340]\tvalidation_0-auc:0.98365\n",
      "[341]\tvalidation_0-auc:0.98364\n",
      "[342]\tvalidation_0-auc:0.98363\n",
      "[343]\tvalidation_0-auc:0.98363\n",
      "[344]\tvalidation_0-auc:0.98362\n",
      "[345]\tvalidation_0-auc:0.98361\n",
      "[346]\tvalidation_0-auc:0.98361\n",
      "[347]\tvalidation_0-auc:0.98362\n",
      "[348]\tvalidation_0-auc:0.98360\n",
      "[349]\tvalidation_0-auc:0.98360\n",
      "[350]\tvalidation_0-auc:0.98361\n",
      "[351]\tvalidation_0-auc:0.98360\n",
      "[352]\tvalidation_0-auc:0.98364\n",
      "[353]\tvalidation_0-auc:0.98364\n",
      "[354]\tvalidation_0-auc:0.98364\n",
      "[355]\tvalidation_0-auc:0.98367\n",
      "[356]\tvalidation_0-auc:0.98367\n",
      "[357]\tvalidation_0-auc:0.98368\n",
      "[358]\tvalidation_0-auc:0.98368\n",
      "[359]\tvalidation_0-auc:0.98367\n",
      "[360]\tvalidation_0-auc:0.98367\n",
      "[361]\tvalidation_0-auc:0.98367\n",
      "[362]\tvalidation_0-auc:0.98368\n",
      "[363]\tvalidation_0-auc:0.98372\n",
      "[364]\tvalidation_0-auc:0.98372\n",
      "[365]\tvalidation_0-auc:0.98373\n",
      "[366]\tvalidation_0-auc:0.98378\n",
      "[367]\tvalidation_0-auc:0.98376\n",
      "[368]\tvalidation_0-auc:0.98381\n",
      "[369]\tvalidation_0-auc:0.98381\n",
      "[370]\tvalidation_0-auc:0.98383\n",
      "[371]\tvalidation_0-auc:0.98385\n",
      "[372]\tvalidation_0-auc:0.98383\n",
      "[373]\tvalidation_0-auc:0.98381\n",
      "[374]\tvalidation_0-auc:0.98381\n",
      "[375]\tvalidation_0-auc:0.98383\n",
      "[376]\tvalidation_0-auc:0.98382\n",
      "[377]\tvalidation_0-auc:0.98382\n",
      "[378]\tvalidation_0-auc:0.98381\n",
      "[379]\tvalidation_0-auc:0.98382\n",
      "[380]\tvalidation_0-auc:0.98382\n",
      "[381]\tvalidation_0-auc:0.98382\n",
      "[382]\tvalidation_0-auc:0.98383\n",
      "[383]\tvalidation_0-auc:0.98383\n",
      "[384]\tvalidation_0-auc:0.98383\n",
      "[385]\tvalidation_0-auc:0.98383\n",
      "[386]\tvalidation_0-auc:0.98382\n",
      "[387]\tvalidation_0-auc:0.98383\n",
      "[388]\tvalidation_0-auc:0.98383\n",
      "[389]\tvalidation_0-auc:0.98383\n",
      "[390]\tvalidation_0-auc:0.98383\n",
      "[391]\tvalidation_0-auc:0.98383\n",
      "[392]\tvalidation_0-auc:0.98385\n",
      "[393]\tvalidation_0-auc:0.98387\n",
      "[394]\tvalidation_0-auc:0.98390\n",
      "[395]\tvalidation_0-auc:0.98389\n",
      "[396]\tvalidation_0-auc:0.98389\n",
      "[397]\tvalidation_0-auc:0.98390\n",
      "[398]\tvalidation_0-auc:0.98389\n",
      "[399]\tvalidation_0-auc:0.98389\n",
      "[400]\tvalidation_0-auc:0.98388\n",
      "[401]\tvalidation_0-auc:0.98389\n",
      "[402]\tvalidation_0-auc:0.98389\n",
      "[403]\tvalidation_0-auc:0.98388\n",
      "[404]\tvalidation_0-auc:0.98387\n",
      "[405]\tvalidation_0-auc:0.98386\n",
      "[406]\tvalidation_0-auc:0.98385\n",
      "[407]\tvalidation_0-auc:0.98384\n",
      "[408]\tvalidation_0-auc:0.98385\n",
      "[409]\tvalidation_0-auc:0.98385\n",
      "[410]\tvalidation_0-auc:0.98389\n",
      "[411]\tvalidation_0-auc:0.98388\n",
      "[412]\tvalidation_0-auc:0.98389\n",
      "[413]\tvalidation_0-auc:0.98389\n",
      "[414]\tvalidation_0-auc:0.98389\n",
      "[415]\tvalidation_0-auc:0.98388\n",
      "[416]\tvalidation_0-auc:0.98389\n",
      "[417]\tvalidation_0-auc:0.98390\n",
      "[418]\tvalidation_0-auc:0.98390\n",
      "[419]\tvalidation_0-auc:0.98388\n",
      "[420]\tvalidation_0-auc:0.98391\n",
      "[421]\tvalidation_0-auc:0.98390\n",
      "[422]\tvalidation_0-auc:0.98391\n",
      "[423]\tvalidation_0-auc:0.98391\n",
      "[424]\tvalidation_0-auc:0.98392\n",
      "[425]\tvalidation_0-auc:0.98390\n",
      "[426]\tvalidation_0-auc:0.98390\n",
      "[427]\tvalidation_0-auc:0.98391\n",
      "[428]\tvalidation_0-auc:0.98390\n",
      "[429]\tvalidation_0-auc:0.98390\n",
      "[430]\tvalidation_0-auc:0.98389\n",
      "[431]\tvalidation_0-auc:0.98389\n",
      "[432]\tvalidation_0-auc:0.98389\n",
      "[433]\tvalidation_0-auc:0.98389\n",
      "[434]\tvalidation_0-auc:0.98389\n",
      "[435]\tvalidation_0-auc:0.98390\n",
      "[436]\tvalidation_0-auc:0.98391\n",
      "[437]\tvalidation_0-auc:0.98390\n",
      "[438]\tvalidation_0-auc:0.98393\n",
      "[439]\tvalidation_0-auc:0.98392\n",
      "[440]\tvalidation_0-auc:0.98393\n",
      "[441]\tvalidation_0-auc:0.98392\n",
      "[442]\tvalidation_0-auc:0.98392\n",
      "[443]\tvalidation_0-auc:0.98391\n",
      "[444]\tvalidation_0-auc:0.98394\n",
      "[445]\tvalidation_0-auc:0.98394\n",
      "[446]\tvalidation_0-auc:0.98396\n",
      "[447]\tvalidation_0-auc:0.98400\n",
      "[448]\tvalidation_0-auc:0.98400\n",
      "[449]\tvalidation_0-auc:0.98400\n",
      "[450]\tvalidation_0-auc:0.98400\n",
      "[451]\tvalidation_0-auc:0.98400\n",
      "[452]\tvalidation_0-auc:0.98398\n",
      "[453]\tvalidation_0-auc:0.98399\n",
      "[454]\tvalidation_0-auc:0.98399\n",
      "[455]\tvalidation_0-auc:0.98400\n",
      "[456]\tvalidation_0-auc:0.98398\n",
      "[457]\tvalidation_0-auc:0.98401\n",
      "[458]\tvalidation_0-auc:0.98401\n",
      "[459]\tvalidation_0-auc:0.98402\n",
      "[460]\tvalidation_0-auc:0.98405\n",
      "[461]\tvalidation_0-auc:0.98404\n",
      "[462]\tvalidation_0-auc:0.98403\n",
      "[463]\tvalidation_0-auc:0.98403\n",
      "[464]\tvalidation_0-auc:0.98402\n",
      "[465]\tvalidation_0-auc:0.98403\n",
      "[466]\tvalidation_0-auc:0.98404\n",
      "[467]\tvalidation_0-auc:0.98403\n",
      "[468]\tvalidation_0-auc:0.98403\n",
      "[469]\tvalidation_0-auc:0.98402\n",
      "[470]\tvalidation_0-auc:0.98404\n",
      "[471]\tvalidation_0-auc:0.98403\n",
      "[472]\tvalidation_0-auc:0.98404\n",
      "[473]\tvalidation_0-auc:0.98404\n",
      "[474]\tvalidation_0-auc:0.98404\n",
      "[475]\tvalidation_0-auc:0.98404\n",
      "[476]\tvalidation_0-auc:0.98404\n",
      "[477]\tvalidation_0-auc:0.98403\n",
      "[478]\tvalidation_0-auc:0.98405\n",
      "[479]\tvalidation_0-auc:0.98409\n",
      "[480]\tvalidation_0-auc:0.98408\n",
      "[481]\tvalidation_0-auc:0.98410\n",
      "[482]\tvalidation_0-auc:0.98411\n",
      "[483]\tvalidation_0-auc:0.98411\n",
      "[484]\tvalidation_0-auc:0.98410\n",
      "[485]\tvalidation_0-auc:0.98410\n",
      "[486]\tvalidation_0-auc:0.98410\n",
      "[487]\tvalidation_0-auc:0.98413\n",
      "[488]\tvalidation_0-auc:0.98412\n",
      "[489]\tvalidation_0-auc:0.98411\n",
      "[490]\tvalidation_0-auc:0.98412\n",
      "[491]\tvalidation_0-auc:0.98415\n",
      "[492]\tvalidation_0-auc:0.98415\n",
      "[493]\tvalidation_0-auc:0.98416\n",
      "[494]\tvalidation_0-auc:0.98417\n",
      "[495]\tvalidation_0-auc:0.98416\n",
      "[496]\tvalidation_0-auc:0.98418\n",
      "[497]\tvalidation_0-auc:0.98417\n",
      "[498]\tvalidation_0-auc:0.98417\n",
      "[499]\tvalidation_0-auc:0.98418\n",
      "[500]\tvalidation_0-auc:0.98418\n",
      "[501]\tvalidation_0-auc:0.98418\n",
      "[502]\tvalidation_0-auc:0.98418\n",
      "[503]\tvalidation_0-auc:0.98421\n",
      "[504]\tvalidation_0-auc:0.98421\n",
      "[505]\tvalidation_0-auc:0.98422\n",
      "[506]\tvalidation_0-auc:0.98425\n",
      "[507]\tvalidation_0-auc:0.98424\n",
      "[508]\tvalidation_0-auc:0.98424\n",
      "[509]\tvalidation_0-auc:0.98424\n",
      "[510]\tvalidation_0-auc:0.98424\n",
      "[511]\tvalidation_0-auc:0.98425\n",
      "[512]\tvalidation_0-auc:0.98426\n",
      "[513]\tvalidation_0-auc:0.98426\n",
      "[514]\tvalidation_0-auc:0.98426\n",
      "[515]\tvalidation_0-auc:0.98425\n",
      "[516]\tvalidation_0-auc:0.98425\n",
      "[517]\tvalidation_0-auc:0.98426\n",
      "[518]\tvalidation_0-auc:0.98425\n",
      "[519]\tvalidation_0-auc:0.98423\n",
      "[520]\tvalidation_0-auc:0.98424\n",
      "[521]\tvalidation_0-auc:0.98424\n",
      "[522]\tvalidation_0-auc:0.98423\n",
      "[523]\tvalidation_0-auc:0.98423\n",
      "[524]\tvalidation_0-auc:0.98423\n",
      "[525]\tvalidation_0-auc:0.98425\n",
      "[526]\tvalidation_0-auc:0.98425\n",
      "[527]\tvalidation_0-auc:0.98426\n",
      "[528]\tvalidation_0-auc:0.98425\n",
      "[529]\tvalidation_0-auc:0.98424\n",
      "[530]\tvalidation_0-auc:0.98424\n",
      "[531]\tvalidation_0-auc:0.98427\n",
      "[532]\tvalidation_0-auc:0.98428\n",
      "[533]\tvalidation_0-auc:0.98428\n",
      "[534]\tvalidation_0-auc:0.98428\n",
      "[535]\tvalidation_0-auc:0.98429\n",
      "[536]\tvalidation_0-auc:0.98428\n",
      "[537]\tvalidation_0-auc:0.98429\n",
      "[538]\tvalidation_0-auc:0.98429\n",
      "[539]\tvalidation_0-auc:0.98428\n",
      "[540]\tvalidation_0-auc:0.98430\n",
      "[541]\tvalidation_0-auc:0.98430\n",
      "[542]\tvalidation_0-auc:0.98431\n",
      "[543]\tvalidation_0-auc:0.98431\n",
      "[544]\tvalidation_0-auc:0.98432\n",
      "[545]\tvalidation_0-auc:0.98434\n",
      "[546]\tvalidation_0-auc:0.98433\n",
      "[547]\tvalidation_0-auc:0.98435\n",
      "[548]\tvalidation_0-auc:0.98435\n",
      "[549]\tvalidation_0-auc:0.98434\n",
      "[550]\tvalidation_0-auc:0.98434\n",
      "[551]\tvalidation_0-auc:0.98434\n",
      "[552]\tvalidation_0-auc:0.98434\n",
      "[553]\tvalidation_0-auc:0.98434\n",
      "[554]\tvalidation_0-auc:0.98436\n",
      "[555]\tvalidation_0-auc:0.98437\n",
      "[556]\tvalidation_0-auc:0.98438\n",
      "[557]\tvalidation_0-auc:0.98439\n",
      "[558]\tvalidation_0-auc:0.98438\n",
      "[559]\tvalidation_0-auc:0.98437\n",
      "[560]\tvalidation_0-auc:0.98437\n",
      "[561]\tvalidation_0-auc:0.98437\n",
      "[562]\tvalidation_0-auc:0.98437\n",
      "[563]\tvalidation_0-auc:0.98436\n",
      "[564]\tvalidation_0-auc:0.98436\n",
      "[565]\tvalidation_0-auc:0.98436\n",
      "[566]\tvalidation_0-auc:0.98436\n",
      "[567]\tvalidation_0-auc:0.98435\n",
      "[568]\tvalidation_0-auc:0.98437\n",
      "[569]\tvalidation_0-auc:0.98437\n",
      "[570]\tvalidation_0-auc:0.98436\n",
      "[571]\tvalidation_0-auc:0.98438\n",
      "[572]\tvalidation_0-auc:0.98438\n",
      "[573]\tvalidation_0-auc:0.98438\n",
      "[574]\tvalidation_0-auc:0.98438\n",
      "[575]\tvalidation_0-auc:0.98438\n",
      "[576]\tvalidation_0-auc:0.98440\n",
      "[577]\tvalidation_0-auc:0.98440\n",
      "[578]\tvalidation_0-auc:0.98441\n",
      "[579]\tvalidation_0-auc:0.98442\n",
      "[580]\tvalidation_0-auc:0.98444\n",
      "[581]\tvalidation_0-auc:0.98444\n",
      "[582]\tvalidation_0-auc:0.98445\n",
      "[583]\tvalidation_0-auc:0.98445\n",
      "[584]\tvalidation_0-auc:0.98446\n",
      "[585]\tvalidation_0-auc:0.98447\n",
      "[586]\tvalidation_0-auc:0.98447\n",
      "[587]\tvalidation_0-auc:0.98446\n",
      "[588]\tvalidation_0-auc:0.98446\n",
      "[589]\tvalidation_0-auc:0.98447\n",
      "[590]\tvalidation_0-auc:0.98447\n",
      "[591]\tvalidation_0-auc:0.98448\n",
      "[592]\tvalidation_0-auc:0.98450\n",
      "[593]\tvalidation_0-auc:0.98449\n",
      "[594]\tvalidation_0-auc:0.98450\n",
      "[595]\tvalidation_0-auc:0.98449\n",
      "[596]\tvalidation_0-auc:0.98449\n",
      "[597]\tvalidation_0-auc:0.98449\n",
      "[598]\tvalidation_0-auc:0.98449\n",
      "[599]\tvalidation_0-auc:0.98449\n",
      "[600]\tvalidation_0-auc:0.98451\n",
      "[601]\tvalidation_0-auc:0.98451\n",
      "[602]\tvalidation_0-auc:0.98452\n",
      "[603]\tvalidation_0-auc:0.98453\n",
      "[604]\tvalidation_0-auc:0.98453\n",
      "[605]\tvalidation_0-auc:0.98455\n",
      "[606]\tvalidation_0-auc:0.98454\n",
      "[607]\tvalidation_0-auc:0.98456\n",
      "[608]\tvalidation_0-auc:0.98457\n",
      "[609]\tvalidation_0-auc:0.98458\n",
      "[610]\tvalidation_0-auc:0.98458\n",
      "[611]\tvalidation_0-auc:0.98458\n",
      "[612]\tvalidation_0-auc:0.98458\n",
      "[613]\tvalidation_0-auc:0.98458\n",
      "[614]\tvalidation_0-auc:0.98458\n",
      "[615]\tvalidation_0-auc:0.98458\n",
      "[616]\tvalidation_0-auc:0.98457\n",
      "[617]\tvalidation_0-auc:0.98457\n",
      "[618]\tvalidation_0-auc:0.98458\n",
      "[619]\tvalidation_0-auc:0.98459\n",
      "[620]\tvalidation_0-auc:0.98458\n",
      "[621]\tvalidation_0-auc:0.98458\n",
      "[622]\tvalidation_0-auc:0.98457\n",
      "[623]\tvalidation_0-auc:0.98456\n",
      "[624]\tvalidation_0-auc:0.98457\n",
      "[625]\tvalidation_0-auc:0.98457\n",
      "[626]\tvalidation_0-auc:0.98458\n",
      "[627]\tvalidation_0-auc:0.98458\n",
      "[628]\tvalidation_0-auc:0.98458\n",
      "[629]\tvalidation_0-auc:0.98458\n",
      "[630]\tvalidation_0-auc:0.98457\n",
      "[631]\tvalidation_0-auc:0.98456\n",
      "[632]\tvalidation_0-auc:0.98458\n",
      "[633]\tvalidation_0-auc:0.98459\n",
      "[634]\tvalidation_0-auc:0.98461\n",
      "[635]\tvalidation_0-auc:0.98461\n",
      "[636]\tvalidation_0-auc:0.98460\n",
      "[637]\tvalidation_0-auc:0.98461\n",
      "[638]\tvalidation_0-auc:0.98461\n",
      "[639]\tvalidation_0-auc:0.98460\n",
      "[640]\tvalidation_0-auc:0.98460\n",
      "[641]\tvalidation_0-auc:0.98459\n",
      "[642]\tvalidation_0-auc:0.98459\n",
      "[643]\tvalidation_0-auc:0.98458\n",
      "[644]\tvalidation_0-auc:0.98459\n",
      "[645]\tvalidation_0-auc:0.98458\n",
      "[646]\tvalidation_0-auc:0.98458\n",
      "[647]\tvalidation_0-auc:0.98458\n",
      "[648]\tvalidation_0-auc:0.98458\n",
      "[649]\tvalidation_0-auc:0.98458\n",
      "[650]\tvalidation_0-auc:0.98457\n",
      "[651]\tvalidation_0-auc:0.98457\n",
      "[652]\tvalidation_0-auc:0.98455\n",
      "[653]\tvalidation_0-auc:0.98456\n",
      "[654]\tvalidation_0-auc:0.98455\n",
      "[655]\tvalidation_0-auc:0.98455\n",
      "[656]\tvalidation_0-auc:0.98455\n",
      "[657]\tvalidation_0-auc:0.98456\n",
      "[658]\tvalidation_0-auc:0.98456\n",
      "[659]\tvalidation_0-auc:0.98455\n",
      "[660]\tvalidation_0-auc:0.98455\n",
      "[661]\tvalidation_0-auc:0.98456\n",
      "[662]\tvalidation_0-auc:0.98455\n",
      "[663]\tvalidation_0-auc:0.98456\n",
      "[664]\tvalidation_0-auc:0.98456\n",
      "[665]\tvalidation_0-auc:0.98456\n",
      "[666]\tvalidation_0-auc:0.98455\n",
      "[667]\tvalidation_0-auc:0.98456\n",
      "[668]\tvalidation_0-auc:0.98455\n",
      "[669]\tvalidation_0-auc:0.98455\n",
      "[670]\tvalidation_0-auc:0.98456\n",
      "[671]\tvalidation_0-auc:0.98455\n",
      "[672]\tvalidation_0-auc:0.98454\n",
      "[673]\tvalidation_0-auc:0.98455\n",
      "[674]\tvalidation_0-auc:0.98455\n",
      "[675]\tvalidation_0-auc:0.98454\n",
      "[676]\tvalidation_0-auc:0.98455\n",
      "[677]\tvalidation_0-auc:0.98455\n",
      "[678]\tvalidation_0-auc:0.98455\n",
      "[679]\tvalidation_0-auc:0.98456\n",
      "[680]\tvalidation_0-auc:0.98456\n",
      "[681]\tvalidation_0-auc:0.98456\n",
      "[682]\tvalidation_0-auc:0.98455\n",
      "[683]\tvalidation_0-auc:0.98455\n",
      "[684]\tvalidation_0-auc:0.98456\n",
      "[685]\tvalidation_0-auc:0.98455\n",
      "[686]\tvalidation_0-auc:0.98457\n",
      "[687]\tvalidation_0-auc:0.98457\n",
      "[688]\tvalidation_0-auc:0.98456\n",
      "[689]\tvalidation_0-auc:0.98457\n",
      "[690]\tvalidation_0-auc:0.98456\n",
      "[691]\tvalidation_0-auc:0.98455\n",
      "[692]\tvalidation_0-auc:0.98455\n",
      "[693]\tvalidation_0-auc:0.98456\n",
      "[694]\tvalidation_0-auc:0.98456\n",
      "[695]\tvalidation_0-auc:0.98456\n",
      "[696]\tvalidation_0-auc:0.98456\n",
      "[697]\tvalidation_0-auc:0.98457\n",
      "[698]\tvalidation_0-auc:0.98458\n",
      "[699]\tvalidation_0-auc:0.98457\n",
      "[700]\tvalidation_0-auc:0.98457\n",
      "[701]\tvalidation_0-auc:0.98459\n",
      "[702]\tvalidation_0-auc:0.98460\n",
      "[703]\tvalidation_0-auc:0.98460\n",
      "[704]\tvalidation_0-auc:0.98460\n",
      "[705]\tvalidation_0-auc:0.98459\n",
      "[706]\tvalidation_0-auc:0.98459\n",
      "[707]\tvalidation_0-auc:0.98459\n",
      "[708]\tvalidation_0-auc:0.98460\n",
      "[709]\tvalidation_0-auc:0.98459\n",
      "[710]\tvalidation_0-auc:0.98460\n",
      "[711]\tvalidation_0-auc:0.98460\n",
      "[712]\tvalidation_0-auc:0.98462\n",
      "[713]\tvalidation_0-auc:0.98463\n",
      "[714]\tvalidation_0-auc:0.98461\n",
      "[715]\tvalidation_0-auc:0.98460\n",
      "[716]\tvalidation_0-auc:0.98460\n",
      "[717]\tvalidation_0-auc:0.98459\n",
      "[718]\tvalidation_0-auc:0.98461\n",
      "[719]\tvalidation_0-auc:0.98460\n",
      "[720]\tvalidation_0-auc:0.98459\n",
      "[721]\tvalidation_0-auc:0.98459\n",
      "[722]\tvalidation_0-auc:0.98459\n",
      "[723]\tvalidation_0-auc:0.98459\n",
      "[724]\tvalidation_0-auc:0.98458\n",
      "[725]\tvalidation_0-auc:0.98460\n",
      "[726]\tvalidation_0-auc:0.98460\n",
      "[727]\tvalidation_0-auc:0.98460\n",
      "[728]\tvalidation_0-auc:0.98460\n",
      "[729]\tvalidation_0-auc:0.98461\n",
      "[730]\tvalidation_0-auc:0.98462\n",
      "[731]\tvalidation_0-auc:0.98463\n",
      "[732]\tvalidation_0-auc:0.98462\n",
      "[733]\tvalidation_0-auc:0.98463\n",
      "[734]\tvalidation_0-auc:0.98462\n",
      "[735]\tvalidation_0-auc:0.98463\n",
      "[736]\tvalidation_0-auc:0.98464\n",
      "[737]\tvalidation_0-auc:0.98464\n",
      "[738]\tvalidation_0-auc:0.98463\n",
      "[739]\tvalidation_0-auc:0.98463\n",
      "[740]\tvalidation_0-auc:0.98463\n",
      "[741]\tvalidation_0-auc:0.98462\n",
      "[742]\tvalidation_0-auc:0.98462\n",
      "[743]\tvalidation_0-auc:0.98462\n",
      "[744]\tvalidation_0-auc:0.98463\n",
      "[745]\tvalidation_0-auc:0.98462\n",
      "[746]\tvalidation_0-auc:0.98462\n",
      "[747]\tvalidation_0-auc:0.98462\n",
      "[748]\tvalidation_0-auc:0.98462\n",
      "[749]\tvalidation_0-auc:0.98463\n",
      "[750]\tvalidation_0-auc:0.98463\n",
      "[751]\tvalidation_0-auc:0.98462\n",
      "[752]\tvalidation_0-auc:0.98462\n",
      "[753]\tvalidation_0-auc:0.98463\n",
      "[754]\tvalidation_0-auc:0.98462\n",
      "[755]\tvalidation_0-auc:0.98461\n",
      "[756]\tvalidation_0-auc:0.98461\n",
      "[757]\tvalidation_0-auc:0.98461\n",
      "[758]\tvalidation_0-auc:0.98460\n",
      "[759]\tvalidation_0-auc:0.98459\n",
      "[760]\tvalidation_0-auc:0.98460\n",
      "[761]\tvalidation_0-auc:0.98459\n",
      "[762]\tvalidation_0-auc:0.98460\n",
      "[763]\tvalidation_0-auc:0.98460\n",
      "[764]\tvalidation_0-auc:0.98460\n",
      "[765]\tvalidation_0-auc:0.98462\n",
      "[766]\tvalidation_0-auc:0.98462\n",
      "[767]\tvalidation_0-auc:0.98462\n",
      "[768]\tvalidation_0-auc:0.98462\n",
      "[769]\tvalidation_0-auc:0.98462\n",
      "[770]\tvalidation_0-auc:0.98463\n",
      "[771]\tvalidation_0-auc:0.98463\n",
      "[772]\tvalidation_0-auc:0.98462\n",
      "[773]\tvalidation_0-auc:0.98461\n",
      "[774]\tvalidation_0-auc:0.98462\n",
      "[775]\tvalidation_0-auc:0.98463\n",
      "[776]\tvalidation_0-auc:0.98463\n",
      "[777]\tvalidation_0-auc:0.98463\n",
      "[778]\tvalidation_0-auc:0.98463\n",
      "[779]\tvalidation_0-auc:0.98463\n",
      "[780]\tvalidation_0-auc:0.98463\n",
      "[781]\tvalidation_0-auc:0.98463\n",
      "[782]\tvalidation_0-auc:0.98464\n",
      "[783]\tvalidation_0-auc:0.98463\n",
      "[784]\tvalidation_0-auc:0.98463\n",
      "[785]\tvalidation_0-auc:0.98462\n",
      "[786]\tvalidation_0-auc:0.98462\n",
      "[787]\tvalidation_0-auc:0.98462\n",
      "[788]\tvalidation_0-auc:0.98462\n",
      "[789]\tvalidation_0-auc:0.98462\n",
      "[790]\tvalidation_0-auc:0.98461\n",
      "[791]\tvalidation_0-auc:0.98461\n",
      "[792]\tvalidation_0-auc:0.98461\n",
      "[793]\tvalidation_0-auc:0.98460\n",
      "[794]\tvalidation_0-auc:0.98460\n",
      "[795]\tvalidation_0-auc:0.98460\n",
      "[796]\tvalidation_0-auc:0.98459\n",
      "[797]\tvalidation_0-auc:0.98459\n",
      "[798]\tvalidation_0-auc:0.98461\n",
      "[799]\tvalidation_0-auc:0.98460\n",
      "[800]\tvalidation_0-auc:0.98459\n",
      "[801]\tvalidation_0-auc:0.98459\n",
      "[802]\tvalidation_0-auc:0.98458\n",
      "[803]\tvalidation_0-auc:0.98459\n",
      "[804]\tvalidation_0-auc:0.98458\n",
      "[805]\tvalidation_0-auc:0.98458\n",
      "[806]\tvalidation_0-auc:0.98459\n",
      "[807]\tvalidation_0-auc:0.98459\n",
      "[808]\tvalidation_0-auc:0.98459\n",
      "[809]\tvalidation_0-auc:0.98460\n",
      "[810]\tvalidation_0-auc:0.98460\n",
      "[811]\tvalidation_0-auc:0.98461\n",
      "[812]\tvalidation_0-auc:0.98462\n",
      "[813]\tvalidation_0-auc:0.98462\n",
      "[814]\tvalidation_0-auc:0.98461\n",
      "[815]\tvalidation_0-auc:0.98462\n",
      "[816]\tvalidation_0-auc:0.98462\n",
      "[817]\tvalidation_0-auc:0.98462\n",
      "[818]\tvalidation_0-auc:0.98461\n",
      "[819]\tvalidation_0-auc:0.98461\n",
      "[820]\tvalidation_0-auc:0.98461\n",
      "[821]\tvalidation_0-auc:0.98461\n",
      "[822]\tvalidation_0-auc:0.98460\n",
      "[823]\tvalidation_0-auc:0.98460\n",
      "[824]\tvalidation_0-auc:0.98461\n",
      "[825]\tvalidation_0-auc:0.98461\n",
      "[826]\tvalidation_0-auc:0.98460\n",
      "[827]\tvalidation_0-auc:0.98461\n",
      "[828]\tvalidation_0-auc:0.98460\n",
      "[829]\tvalidation_0-auc:0.98461\n",
      "[830]\tvalidation_0-auc:0.98461\n",
      "[831]\tvalidation_0-auc:0.98461\n",
      "[832]\tvalidation_0-auc:0.98461\n",
      "[833]\tvalidation_0-auc:0.98461\n",
      "[834]\tvalidation_0-auc:0.98461\n",
      "[835]\tvalidation_0-auc:0.98462\n",
      "[836]\tvalidation_0-auc:0.98460\n",
      "[837]\tvalidation_0-auc:0.98460\n",
      "[838]\tvalidation_0-auc:0.98460\n",
      "[839]\tvalidation_0-auc:0.98461\n",
      "[840]\tvalidation_0-auc:0.98460\n",
      "[841]\tvalidation_0-auc:0.98460\n",
      "[842]\tvalidation_0-auc:0.98459\n",
      "[843]\tvalidation_0-auc:0.98459\n",
      "[844]\tvalidation_0-auc:0.98459\n",
      "[845]\tvalidation_0-auc:0.98458\n",
      "[846]\tvalidation_0-auc:0.98459\n",
      "[847]\tvalidation_0-auc:0.98460\n",
      "[848]\tvalidation_0-auc:0.98461\n",
      "[849]\tvalidation_0-auc:0.98461\n",
      "[850]\tvalidation_0-auc:0.98460\n",
      "[851]\tvalidation_0-auc:0.98460\n",
      "[852]\tvalidation_0-auc:0.98461\n",
      "[853]\tvalidation_0-auc:0.98461\n",
      "[854]\tvalidation_0-auc:0.98461\n",
      "[855]\tvalidation_0-auc:0.98462\n",
      "[856]\tvalidation_0-auc:0.98463\n",
      "[857]\tvalidation_0-auc:0.98464\n",
      "[858]\tvalidation_0-auc:0.98465\n",
      "[859]\tvalidation_0-auc:0.98466\n",
      "[860]\tvalidation_0-auc:0.98466\n",
      "[861]\tvalidation_0-auc:0.98466\n",
      "[862]\tvalidation_0-auc:0.98465\n",
      "[863]\tvalidation_0-auc:0.98465\n",
      "[864]\tvalidation_0-auc:0.98465\n",
      "[865]\tvalidation_0-auc:0.98464\n",
      "[866]\tvalidation_0-auc:0.98463\n",
      "[867]\tvalidation_0-auc:0.98463\n",
      "[868]\tvalidation_0-auc:0.98463\n",
      "[869]\tvalidation_0-auc:0.98462\n",
      "[870]\tvalidation_0-auc:0.98462\n",
      "[871]\tvalidation_0-auc:0.98462\n",
      "[872]\tvalidation_0-auc:0.98462\n",
      "[873]\tvalidation_0-auc:0.98462\n",
      "[874]\tvalidation_0-auc:0.98463\n",
      "[875]\tvalidation_0-auc:0.98464\n",
      "[876]\tvalidation_0-auc:0.98465\n",
      "[877]\tvalidation_0-auc:0.98467\n",
      "[878]\tvalidation_0-auc:0.98467\n",
      "[879]\tvalidation_0-auc:0.98467\n",
      "[880]\tvalidation_0-auc:0.98467\n",
      "[881]\tvalidation_0-auc:0.98467\n",
      "[882]\tvalidation_0-auc:0.98470\n",
      "[883]\tvalidation_0-auc:0.98469\n",
      "[884]\tvalidation_0-auc:0.98469\n",
      "[885]\tvalidation_0-auc:0.98469\n",
      "[886]\tvalidation_0-auc:0.98469\n",
      "[887]\tvalidation_0-auc:0.98470\n",
      "[888]\tvalidation_0-auc:0.98471\n",
      "[889]\tvalidation_0-auc:0.98471\n",
      "[890]\tvalidation_0-auc:0.98471\n",
      "[891]\tvalidation_0-auc:0.98470\n",
      "[892]\tvalidation_0-auc:0.98471\n",
      "[893]\tvalidation_0-auc:0.98471\n",
      "[894]\tvalidation_0-auc:0.98471\n",
      "[895]\tvalidation_0-auc:0.98470\n",
      "[896]\tvalidation_0-auc:0.98470\n",
      "[897]\tvalidation_0-auc:0.98469\n",
      "[898]\tvalidation_0-auc:0.98468\n",
      "[899]\tvalidation_0-auc:0.98468\n",
      "[900]\tvalidation_0-auc:0.98468\n",
      "[901]\tvalidation_0-auc:0.98467\n",
      "[902]\tvalidation_0-auc:0.98467\n",
      "[903]\tvalidation_0-auc:0.98467\n",
      "[904]\tvalidation_0-auc:0.98468\n",
      "[905]\tvalidation_0-auc:0.98468\n",
      "[906]\tvalidation_0-auc:0.98468\n",
      "[907]\tvalidation_0-auc:0.98470\n",
      "[908]\tvalidation_0-auc:0.98470\n",
      "[909]\tvalidation_0-auc:0.98470\n",
      "[910]\tvalidation_0-auc:0.98470\n",
      "[911]\tvalidation_0-auc:0.98471\n",
      "[912]\tvalidation_0-auc:0.98471\n",
      "[913]\tvalidation_0-auc:0.98470\n",
      "[914]\tvalidation_0-auc:0.98470\n",
      "[915]\tvalidation_0-auc:0.98469\n",
      "[916]\tvalidation_0-auc:0.98469\n",
      "[917]\tvalidation_0-auc:0.98470\n",
      "[918]\tvalidation_0-auc:0.98469\n",
      "[919]\tvalidation_0-auc:0.98469\n",
      "[920]\tvalidation_0-auc:0.98471\n",
      "[921]\tvalidation_0-auc:0.98470\n",
      "[922]\tvalidation_0-auc:0.98471\n",
      "[923]\tvalidation_0-auc:0.98470\n",
      "[924]\tvalidation_0-auc:0.98470\n",
      "[925]\tvalidation_0-auc:0.98470\n",
      "[926]\tvalidation_0-auc:0.98470\n",
      "[927]\tvalidation_0-auc:0.98470\n",
      "[928]\tvalidation_0-auc:0.98469\n",
      "[929]\tvalidation_0-auc:0.98469\n",
      "[930]\tvalidation_0-auc:0.98468\n",
      "[931]\tvalidation_0-auc:0.98469\n",
      "[932]\tvalidation_0-auc:0.98469\n",
      "[933]\tvalidation_0-auc:0.98470\n",
      "[934]\tvalidation_0-auc:0.98470\n",
      "[935]\tvalidation_0-auc:0.98469\n",
      "[936]\tvalidation_0-auc:0.98469\n",
      "[937]\tvalidation_0-auc:0.98469\n",
      "[938]\tvalidation_0-auc:0.98469\n",
      "[939]\tvalidation_0-auc:0.98469\n",
      "[940]\tvalidation_0-auc:0.98469\n",
      "[941]\tvalidation_0-auc:0.98469\n",
      "[942]\tvalidation_0-auc:0.98469\n",
      "[943]\tvalidation_0-auc:0.98469\n",
      "[944]\tvalidation_0-auc:0.98470\n",
      "[945]\tvalidation_0-auc:0.98469\n",
      "[946]\tvalidation_0-auc:0.98469\n",
      "[947]\tvalidation_0-auc:0.98469\n",
      "[948]\tvalidation_0-auc:0.98469\n",
      "[949]\tvalidation_0-auc:0.98471\n",
      "[950]\tvalidation_0-auc:0.98471\n",
      "[951]\tvalidation_0-auc:0.98471\n",
      "[952]\tvalidation_0-auc:0.98471\n",
      "[953]\tvalidation_0-auc:0.98470\n",
      "[954]\tvalidation_0-auc:0.98471\n",
      "[955]\tvalidation_0-auc:0.98471\n",
      "[956]\tvalidation_0-auc:0.98470\n",
      "[957]\tvalidation_0-auc:0.98470\n",
      "[958]\tvalidation_0-auc:0.98472\n",
      "[959]\tvalidation_0-auc:0.98472\n",
      "[960]\tvalidation_0-auc:0.98471\n",
      "[961]\tvalidation_0-auc:0.98471\n",
      "[962]\tvalidation_0-auc:0.98472\n",
      "[963]\tvalidation_0-auc:0.98473\n",
      "[964]\tvalidation_0-auc:0.98472\n",
      "[965]\tvalidation_0-auc:0.98473\n",
      "[966]\tvalidation_0-auc:0.98473\n",
      "[967]\tvalidation_0-auc:0.98473\n",
      "[968]\tvalidation_0-auc:0.98472\n",
      "[969]\tvalidation_0-auc:0.98473\n",
      "[970]\tvalidation_0-auc:0.98474\n",
      "[971]\tvalidation_0-auc:0.98472\n",
      "[972]\tvalidation_0-auc:0.98472\n",
      "[973]\tvalidation_0-auc:0.98472\n",
      "[974]\tvalidation_0-auc:0.98472\n",
      "[975]\tvalidation_0-auc:0.98471\n",
      "[976]\tvalidation_0-auc:0.98472\n",
      "[977]\tvalidation_0-auc:0.98473\n",
      "[978]\tvalidation_0-auc:0.98473\n",
      "[979]\tvalidation_0-auc:0.98472\n",
      "[980]\tvalidation_0-auc:0.98471\n",
      "[981]\tvalidation_0-auc:0.98471\n",
      "[982]\tvalidation_0-auc:0.98471\n",
      "[983]\tvalidation_0-auc:0.98472\n",
      "[984]\tvalidation_0-auc:0.98471\n",
      "[985]\tvalidation_0-auc:0.98471\n",
      "[986]\tvalidation_0-auc:0.98472\n",
      "[987]\tvalidation_0-auc:0.98472\n",
      "[988]\tvalidation_0-auc:0.98471\n",
      "[989]\tvalidation_0-auc:0.98473\n",
      "[990]\tvalidation_0-auc:0.98473\n",
      "[991]\tvalidation_0-auc:0.98474\n",
      "[992]\tvalidation_0-auc:0.98474\n",
      "[993]\tvalidation_0-auc:0.98474\n",
      "[994]\tvalidation_0-auc:0.98473\n",
      "[995]\tvalidation_0-auc:0.98473\n",
      "[996]\tvalidation_0-auc:0.98472\n",
      "[997]\tvalidation_0-auc:0.98472\n",
      "[998]\tvalidation_0-auc:0.98471\n",
      "[999]\tvalidation_0-auc:0.98471\n"
     ]
    },
    {
     "data": {
      "text/html": [
       "<style>#sk-container-id-3 {color: black;background-color: white;}#sk-container-id-3 pre{padding: 0;}#sk-container-id-3 div.sk-toggleable {background-color: white;}#sk-container-id-3 label.sk-toggleable__label {cursor: pointer;display: block;width: 100%;margin-bottom: 0;padding: 0.3em;box-sizing: border-box;text-align: center;}#sk-container-id-3 label.sk-toggleable__label-arrow:before {content: \"▸\";float: left;margin-right: 0.25em;color: #696969;}#sk-container-id-3 label.sk-toggleable__label-arrow:hover:before {color: black;}#sk-container-id-3 div.sk-estimator:hover label.sk-toggleable__label-arrow:before {color: black;}#sk-container-id-3 div.sk-toggleable__content {max-height: 0;max-width: 0;overflow: hidden;text-align: left;background-color: #f0f8ff;}#sk-container-id-3 div.sk-toggleable__content pre {margin: 0.2em;color: black;border-radius: 0.25em;background-color: #f0f8ff;}#sk-container-id-3 input.sk-toggleable__control:checked~div.sk-toggleable__content {max-height: 200px;max-width: 100%;overflow: auto;}#sk-container-id-3 input.sk-toggleable__control:checked~label.sk-toggleable__label-arrow:before {content: \"▾\";}#sk-container-id-3 div.sk-estimator input.sk-toggleable__control:checked~label.sk-toggleable__label {background-color: #d4ebff;}#sk-container-id-3 div.sk-label input.sk-toggleable__control:checked~label.sk-toggleable__label {background-color: #d4ebff;}#sk-container-id-3 input.sk-hidden--visually {border: 0;clip: rect(1px 1px 1px 1px);clip: rect(1px, 1px, 1px, 1px);height: 1px;margin: -1px;overflow: hidden;padding: 0;position: absolute;width: 1px;}#sk-container-id-3 div.sk-estimator {font-family: monospace;background-color: #f0f8ff;border: 1px dotted black;border-radius: 0.25em;box-sizing: border-box;margin-bottom: 0.5em;}#sk-container-id-3 div.sk-estimator:hover {background-color: #d4ebff;}#sk-container-id-3 div.sk-parallel-item::after {content: \"\";width: 100%;border-bottom: 1px solid gray;flex-grow: 1;}#sk-container-id-3 div.sk-label:hover label.sk-toggleable__label {background-color: #d4ebff;}#sk-container-id-3 div.sk-serial::before {content: \"\";position: absolute;border-left: 1px solid gray;box-sizing: border-box;top: 0;bottom: 0;left: 50%;z-index: 0;}#sk-container-id-3 div.sk-serial {display: flex;flex-direction: column;align-items: center;background-color: white;padding-right: 0.2em;padding-left: 0.2em;position: relative;}#sk-container-id-3 div.sk-item {position: relative;z-index: 1;}#sk-container-id-3 div.sk-parallel {display: flex;align-items: stretch;justify-content: center;background-color: white;position: relative;}#sk-container-id-3 div.sk-item::before, #sk-container-id-3 div.sk-parallel-item::before {content: \"\";position: absolute;border-left: 1px solid gray;box-sizing: border-box;top: 0;bottom: 0;left: 50%;z-index: -1;}#sk-container-id-3 div.sk-parallel-item {display: flex;flex-direction: column;z-index: 1;position: relative;background-color: white;}#sk-container-id-3 div.sk-parallel-item:first-child::after {align-self: flex-end;width: 50%;}#sk-container-id-3 div.sk-parallel-item:last-child::after {align-self: flex-start;width: 50%;}#sk-container-id-3 div.sk-parallel-item:only-child::after {width: 0;}#sk-container-id-3 div.sk-dashed-wrapped {border: 1px dashed gray;margin: 0 0.4em 0.5em 0.4em;box-sizing: border-box;padding-bottom: 0.4em;background-color: white;}#sk-container-id-3 div.sk-label label {font-family: monospace;font-weight: bold;display: inline-block;line-height: 1.2em;}#sk-container-id-3 div.sk-label-container {text-align: center;}#sk-container-id-3 div.sk-container {/* jupyter's `normalize.less` sets `[hidden] { display: none; }` but bootstrap.min.css set `[hidden] { display: none !important; }` so we also need the `!important` here to be able to override the default hidden behavior on the sphinx rendered scikit-learn.org. See: https://github.com/scikit-learn/scikit-learn/issues/21755 */display: inline-block !important;position: relative;}#sk-container-id-3 div.sk-text-repr-fallback {display: none;}</style><div id=\"sk-container-id-3\" class=\"sk-top-container\"><div class=\"sk-text-repr-fallback\"><pre>XGBClassifier(base_score=None, booster=None, callbacks=None,\n",
       "              colsample_bylevel=None, colsample_bynode=None,\n",
       "              colsample_bytree=0.5, device=None, early_stopping_rounds=None,\n",
       "              enable_categorical=False, eval_metric=None, feature_types=None,\n",
       "              gamma=None, grow_policy=None, importance_type=None,\n",
       "              interaction_constraints=None, learning_rate=0.02, max_bin=None,\n",
       "              max_cat_threshold=None, max_cat_to_onehot=None,\n",
       "              max_delta_step=None, max_depth=10, max_leaves=None,\n",
       "              min_child_weight=None, min_childe_weight=1, missing=nan,\n",
       "              monotone_constraints=None, multi_strategy=None, n_estimators=1000,\n",
       "              n_jobs=-1, num_parallel_tree=None, ...)</pre><b>In a Jupyter environment, please rerun this cell to show the HTML representation or trust the notebook. <br />On GitHub, the HTML representation is unable to render, please try loading this page with nbviewer.org.</b></div><div class=\"sk-container\" hidden><div class=\"sk-item\"><div class=\"sk-estimator sk-toggleable\"><input class=\"sk-toggleable__control sk-hidden--visually\" id=\"sk-estimator-id-3\" type=\"checkbox\" checked><label for=\"sk-estimator-id-3\" class=\"sk-toggleable__label sk-toggleable__label-arrow\">XGBClassifier</label><div class=\"sk-toggleable__content\"><pre>XGBClassifier(base_score=None, booster=None, callbacks=None,\n",
       "              colsample_bylevel=None, colsample_bynode=None,\n",
       "              colsample_bytree=0.5, device=None, early_stopping_rounds=None,\n",
       "              enable_categorical=False, eval_metric=None, feature_types=None,\n",
       "              gamma=None, grow_policy=None, importance_type=None,\n",
       "              interaction_constraints=None, learning_rate=0.02, max_bin=None,\n",
       "              max_cat_threshold=None, max_cat_to_onehot=None,\n",
       "              max_delta_step=None, max_depth=10, max_leaves=None,\n",
       "              min_child_weight=None, min_childe_weight=1, missing=nan,\n",
       "              monotone_constraints=None, multi_strategy=None, n_estimators=1000,\n",
       "              n_jobs=-1, num_parallel_tree=None, ...)</pre></div></div></div></div></div>"
      ],
      "text/plain": [
       "XGBClassifier(base_score=None, booster=None, callbacks=None,\n",
       "              colsample_bylevel=None, colsample_bynode=None,\n",
       "              colsample_bytree=0.5, device=None, early_stopping_rounds=None,\n",
       "              enable_categorical=False, eval_metric=None, feature_types=None,\n",
       "              gamma=None, grow_policy=None, importance_type=None,\n",
       "              interaction_constraints=None, learning_rate=0.02, max_bin=None,\n",
       "              max_cat_threshold=None, max_cat_to_onehot=None,\n",
       "              max_delta_step=None, max_depth=10, max_leaves=None,\n",
       "              min_child_weight=None, min_childe_weight=1, missing=nan,\n",
       "              monotone_constraints=None, multi_strategy=None, n_estimators=1000,\n",
       "              n_jobs=-1, num_parallel_tree=None, ...)"
      ]
     },
     "execution_count": 227,
     "metadata": {},
     "output_type": "execute_result"
    }
   ],
   "source": [
    "# model.fit(x_train,y_train, early_stopping_rounds=200, eval_metric='auc', eval_set=[(x_val, y_val)])"
   ]
  },
  {
   "cell_type": "markdown",
   "id": "cacd5ed8",
   "metadata": {},
   "source": [
    "### 모델 학습"
   ]
  },
  {
   "cell_type": "code",
   "execution_count": 228,
   "id": "766d1980",
   "metadata": {},
   "outputs": [
    {
     "data": {
      "text/html": [
       "<style>#sk-container-id-4 {color: black;background-color: white;}#sk-container-id-4 pre{padding: 0;}#sk-container-id-4 div.sk-toggleable {background-color: white;}#sk-container-id-4 label.sk-toggleable__label {cursor: pointer;display: block;width: 100%;margin-bottom: 0;padding: 0.3em;box-sizing: border-box;text-align: center;}#sk-container-id-4 label.sk-toggleable__label-arrow:before {content: \"▸\";float: left;margin-right: 0.25em;color: #696969;}#sk-container-id-4 label.sk-toggleable__label-arrow:hover:before {color: black;}#sk-container-id-4 div.sk-estimator:hover label.sk-toggleable__label-arrow:before {color: black;}#sk-container-id-4 div.sk-toggleable__content {max-height: 0;max-width: 0;overflow: hidden;text-align: left;background-color: #f0f8ff;}#sk-container-id-4 div.sk-toggleable__content pre {margin: 0.2em;color: black;border-radius: 0.25em;background-color: #f0f8ff;}#sk-container-id-4 input.sk-toggleable__control:checked~div.sk-toggleable__content {max-height: 200px;max-width: 100%;overflow: auto;}#sk-container-id-4 input.sk-toggleable__control:checked~label.sk-toggleable__label-arrow:before {content: \"▾\";}#sk-container-id-4 div.sk-estimator input.sk-toggleable__control:checked~label.sk-toggleable__label {background-color: #d4ebff;}#sk-container-id-4 div.sk-label input.sk-toggleable__control:checked~label.sk-toggleable__label {background-color: #d4ebff;}#sk-container-id-4 input.sk-hidden--visually {border: 0;clip: rect(1px 1px 1px 1px);clip: rect(1px, 1px, 1px, 1px);height: 1px;margin: -1px;overflow: hidden;padding: 0;position: absolute;width: 1px;}#sk-container-id-4 div.sk-estimator {font-family: monospace;background-color: #f0f8ff;border: 1px dotted black;border-radius: 0.25em;box-sizing: border-box;margin-bottom: 0.5em;}#sk-container-id-4 div.sk-estimator:hover {background-color: #d4ebff;}#sk-container-id-4 div.sk-parallel-item::after {content: \"\";width: 100%;border-bottom: 1px solid gray;flex-grow: 1;}#sk-container-id-4 div.sk-label:hover label.sk-toggleable__label {background-color: #d4ebff;}#sk-container-id-4 div.sk-serial::before {content: \"\";position: absolute;border-left: 1px solid gray;box-sizing: border-box;top: 0;bottom: 0;left: 50%;z-index: 0;}#sk-container-id-4 div.sk-serial {display: flex;flex-direction: column;align-items: center;background-color: white;padding-right: 0.2em;padding-left: 0.2em;position: relative;}#sk-container-id-4 div.sk-item {position: relative;z-index: 1;}#sk-container-id-4 div.sk-parallel {display: flex;align-items: stretch;justify-content: center;background-color: white;position: relative;}#sk-container-id-4 div.sk-item::before, #sk-container-id-4 div.sk-parallel-item::before {content: \"\";position: absolute;border-left: 1px solid gray;box-sizing: border-box;top: 0;bottom: 0;left: 50%;z-index: -1;}#sk-container-id-4 div.sk-parallel-item {display: flex;flex-direction: column;z-index: 1;position: relative;background-color: white;}#sk-container-id-4 div.sk-parallel-item:first-child::after {align-self: flex-end;width: 50%;}#sk-container-id-4 div.sk-parallel-item:last-child::after {align-self: flex-start;width: 50%;}#sk-container-id-4 div.sk-parallel-item:only-child::after {width: 0;}#sk-container-id-4 div.sk-dashed-wrapped {border: 1px dashed gray;margin: 0 0.4em 0.5em 0.4em;box-sizing: border-box;padding-bottom: 0.4em;background-color: white;}#sk-container-id-4 div.sk-label label {font-family: monospace;font-weight: bold;display: inline-block;line-height: 1.2em;}#sk-container-id-4 div.sk-label-container {text-align: center;}#sk-container-id-4 div.sk-container {/* jupyter's `normalize.less` sets `[hidden] { display: none; }` but bootstrap.min.css set `[hidden] { display: none !important; }` so we also need the `!important` here to be able to override the default hidden behavior on the sphinx rendered scikit-learn.org. See: https://github.com/scikit-learn/scikit-learn/issues/21755 */display: inline-block !important;position: relative;}#sk-container-id-4 div.sk-text-repr-fallback {display: none;}</style><div id=\"sk-container-id-4\" class=\"sk-top-container\"><div class=\"sk-text-repr-fallback\"><pre>XGBClassifier(base_score=None, booster=None, callbacks=None,\n",
       "              colsample_bylevel=None, colsample_bynode=None,\n",
       "              colsample_bytree=0.5, device=None, early_stopping_rounds=None,\n",
       "              enable_categorical=False, eval_metric=None, feature_types=None,\n",
       "              gamma=None, grow_policy=None, importance_type=None,\n",
       "              interaction_constraints=None, learning_rate=0.02, max_bin=None,\n",
       "              max_cat_threshold=None, max_cat_to_onehot=None,\n",
       "              max_delta_step=None, max_depth=10, max_leaves=None,\n",
       "              min_child_weight=None, min_childe_weight=1, missing=nan,\n",
       "              monotone_constraints=None, multi_strategy=None, n_estimators=1000,\n",
       "              n_jobs=-1, num_parallel_tree=None, ...)</pre><b>In a Jupyter environment, please rerun this cell to show the HTML representation or trust the notebook. <br />On GitHub, the HTML representation is unable to render, please try loading this page with nbviewer.org.</b></div><div class=\"sk-container\" hidden><div class=\"sk-item\"><div class=\"sk-estimator sk-toggleable\"><input class=\"sk-toggleable__control sk-hidden--visually\" id=\"sk-estimator-id-4\" type=\"checkbox\" checked><label for=\"sk-estimator-id-4\" class=\"sk-toggleable__label sk-toggleable__label-arrow\">XGBClassifier</label><div class=\"sk-toggleable__content\"><pre>XGBClassifier(base_score=None, booster=None, callbacks=None,\n",
       "              colsample_bylevel=None, colsample_bynode=None,\n",
       "              colsample_bytree=0.5, device=None, early_stopping_rounds=None,\n",
       "              enable_categorical=False, eval_metric=None, feature_types=None,\n",
       "              gamma=None, grow_policy=None, importance_type=None,\n",
       "              interaction_constraints=None, learning_rate=0.02, max_bin=None,\n",
       "              max_cat_threshold=None, max_cat_to_onehot=None,\n",
       "              max_delta_step=None, max_depth=10, max_leaves=None,\n",
       "              min_child_weight=None, min_childe_weight=1, missing=nan,\n",
       "              monotone_constraints=None, multi_strategy=None, n_estimators=1000,\n",
       "              n_jobs=-1, num_parallel_tree=None, ...)</pre></div></div></div></div></div>"
      ],
      "text/plain": [
       "XGBClassifier(base_score=None, booster=None, callbacks=None,\n",
       "              colsample_bylevel=None, colsample_bynode=None,\n",
       "              colsample_bytree=0.5, device=None, early_stopping_rounds=None,\n",
       "              enable_categorical=False, eval_metric=None, feature_types=None,\n",
       "              gamma=None, grow_policy=None, importance_type=None,\n",
       "              interaction_constraints=None, learning_rate=0.02, max_bin=None,\n",
       "              max_cat_threshold=None, max_cat_to_onehot=None,\n",
       "              max_delta_step=None, max_depth=10, max_leaves=None,\n",
       "              min_child_weight=None, min_childe_weight=1, missing=nan,\n",
       "              monotone_constraints=None, multi_strategy=None, n_estimators=1000,\n",
       "              n_jobs=-1, num_parallel_tree=None, ...)"
      ]
     },
     "execution_count": 228,
     "metadata": {},
     "output_type": "execute_result"
    }
   ],
   "source": [
    "# model.fit(x_train, y_train)"
   ]
  },
  {
   "cell_type": "code",
   "execution_count": 229,
   "id": "b13677e5",
   "metadata": {},
   "outputs": [
    {
     "name": "stdout",
     "output_type": "stream",
     "text": [
      "오차행렬:\n",
      " [[  719   251]\n",
      " [   45 10845]]\n",
      "\n",
      "정확도: 0.9750\n",
      "정밀도: 0.9411\n",
      "재현율: 0.7412\n",
      "F1: 0.8293\n"
     ]
    }
   ],
   "source": [
    "# pred = model.predict(x_val)\n",
    "# get_clf_eval(y_val, pred)"
   ]
  },
  {
   "cell_type": "code",
   "execution_count": 230,
   "id": "4ec1c1ca",
   "metadata": {},
   "outputs": [],
   "source": [
    "# pred = model.predict(df_test.drop(['is_converted', 'id'], axis = 1).fillna(0))"
   ]
  },
  {
   "cell_type": "code",
   "execution_count": 251,
   "id": "930fbe92",
   "metadata": {},
   "outputs": [
    {
     "name": "stdout",
     "output_type": "stream",
     "text": [
      "[0]\n"
     ]
    }
   ],
   "source": [
    "# print(sum(pred))"
   ]
  },
  {
   "cell_type": "markdown",
   "id": "4aa72043",
   "metadata": {},
   "source": [
    "## 딥러닝"
   ]
  },
  {
   "cell_type": "code",
   "execution_count": null,
   "id": "2744bc9e",
   "metadata": {},
   "outputs": [],
   "source": [
    "import tensorflow as tf\n",
    "from tensorflow import keras\n",
    "from tensorflow.keras import layers"
   ]
  },
  {
   "cell_type": "code",
   "execution_count": 113,
   "id": "c6bcca33",
   "metadata": {},
   "outputs": [
    {
     "name": "stdout",
     "output_type": "stream",
     "text": [
      "(59299,) (5271,)\n"
     ]
    }
   ],
   "source": [
    "train_labels = df_train['is_converted']\n",
    "test_labels = df_test['is_converted']\n",
    "print(train_labels.shape, test_labels.shape)"
   ]
  },
  {
   "cell_type": "code",
   "execution_count": 114,
   "id": "be036960",
   "metadata": {},
   "outputs": [
    {
     "data": {
      "text/html": [
       "<div>\n",
       "<style scoped>\n",
       "    .dataframe tbody tr th:only-of-type {\n",
       "        vertical-align: middle;\n",
       "    }\n",
       "\n",
       "    .dataframe tbody tr th {\n",
       "        vertical-align: top;\n",
       "    }\n",
       "\n",
       "    .dataframe thead th {\n",
       "        text-align: right;\n",
       "    }\n",
       "</style>\n",
       "<table border=\"1\" class=\"dataframe\">\n",
       "  <thead>\n",
       "    <tr style=\"text-align: right;\">\n",
       "      <th></th>\n",
       "      <th>count</th>\n",
       "      <th>mean</th>\n",
       "      <th>std</th>\n",
       "      <th>min</th>\n",
       "      <th>25%</th>\n",
       "      <th>50%</th>\n",
       "      <th>75%</th>\n",
       "      <th>max</th>\n",
       "    </tr>\n",
       "  </thead>\n",
       "  <tbody>\n",
       "    <tr>\n",
       "      <th>bant_submit</th>\n",
       "      <td>59299.0</td>\n",
       "      <td>0.634593</td>\n",
       "      <td>0.286066</td>\n",
       "      <td>0.000000</td>\n",
       "      <td>0.500000</td>\n",
       "      <td>0.500000</td>\n",
       "      <td>1.000000</td>\n",
       "      <td>1.000000</td>\n",
       "    </tr>\n",
       "    <tr>\n",
       "      <th>customer_country</th>\n",
       "      <td>59299.0</td>\n",
       "      <td>83.366650</td>\n",
       "      <td>47.607821</td>\n",
       "      <td>0.000000</td>\n",
       "      <td>43.000000</td>\n",
       "      <td>77.000000</td>\n",
       "      <td>124.000000</td>\n",
       "      <td>172.000000</td>\n",
       "    </tr>\n",
       "    <tr>\n",
       "      <th>business_unit</th>\n",
       "      <td>59299.0</td>\n",
       "      <td>1.320494</td>\n",
       "      <td>1.172829</td>\n",
       "      <td>0.000000</td>\n",
       "      <td>0.000000</td>\n",
       "      <td>2.000000</td>\n",
       "      <td>2.000000</td>\n",
       "      <td>4.000000</td>\n",
       "    </tr>\n",
       "    <tr>\n",
       "      <th>com_reg_ver_win_rate</th>\n",
       "      <td>59299.0</td>\n",
       "      <td>0.037293</td>\n",
       "      <td>0.024062</td>\n",
       "      <td>0.003725</td>\n",
       "      <td>0.015994</td>\n",
       "      <td>0.034134</td>\n",
       "      <td>0.055940</td>\n",
       "      <td>0.143031</td>\n",
       "    </tr>\n",
       "    <tr>\n",
       "      <th>customer_idx</th>\n",
       "      <td>59299.0</td>\n",
       "      <td>27114.556333</td>\n",
       "      <td>14653.911888</td>\n",
       "      <td>2.000000</td>\n",
       "      <td>14913.000000</td>\n",
       "      <td>26774.000000</td>\n",
       "      <td>40368.500000</td>\n",
       "      <td>47466.000000</td>\n",
       "    </tr>\n",
       "    <tr>\n",
       "      <th>customer_type</th>\n",
       "      <td>59299.0</td>\n",
       "      <td>10.997302</td>\n",
       "      <td>5.516791</td>\n",
       "      <td>0.000000</td>\n",
       "      <td>9.000000</td>\n",
       "      <td>9.000000</td>\n",
       "      <td>14.000000</td>\n",
       "      <td>27.000000</td>\n",
       "    </tr>\n",
       "    <tr>\n",
       "      <th>enterprise</th>\n",
       "      <td>59299.0</td>\n",
       "      <td>0.362839</td>\n",
       "      <td>0.480823</td>\n",
       "      <td>0.000000</td>\n",
       "      <td>0.000000</td>\n",
       "      <td>0.000000</td>\n",
       "      <td>1.000000</td>\n",
       "      <td>1.000000</td>\n",
       "    </tr>\n",
       "    <tr>\n",
       "      <th>historical_existing_cnt</th>\n",
       "      <td>59299.0</td>\n",
       "      <td>5.566027</td>\n",
       "      <td>7.296847</td>\n",
       "      <td>0.000000</td>\n",
       "      <td>0.000000</td>\n",
       "      <td>2.000000</td>\n",
       "      <td>9.000000</td>\n",
       "      <td>46.000000</td>\n",
       "    </tr>\n",
       "    <tr>\n",
       "      <th>id_strategic_ver</th>\n",
       "      <td>59299.0</td>\n",
       "      <td>0.431087</td>\n",
       "      <td>0.495232</td>\n",
       "      <td>0.000000</td>\n",
       "      <td>0.000000</td>\n",
       "      <td>0.000000</td>\n",
       "      <td>1.000000</td>\n",
       "      <td>1.000000</td>\n",
       "    </tr>\n",
       "    <tr>\n",
       "      <th>it_strategic_ver</th>\n",
       "      <td>59299.0</td>\n",
       "      <td>0.146107</td>\n",
       "      <td>0.353216</td>\n",
       "      <td>0.000000</td>\n",
       "      <td>0.000000</td>\n",
       "      <td>0.000000</td>\n",
       "      <td>0.000000</td>\n",
       "      <td>1.000000</td>\n",
       "    </tr>\n",
       "    <tr>\n",
       "      <th>idit_strategic_ver</th>\n",
       "      <td>59299.0</td>\n",
       "      <td>0.577194</td>\n",
       "      <td>0.494009</td>\n",
       "      <td>0.000000</td>\n",
       "      <td>0.000000</td>\n",
       "      <td>1.000000</td>\n",
       "      <td>1.000000</td>\n",
       "      <td>1.000000</td>\n",
       "    </tr>\n",
       "    <tr>\n",
       "      <th>customer_job</th>\n",
       "      <td>59299.0</td>\n",
       "      <td>233.520852</td>\n",
       "      <td>130.555883</td>\n",
       "      <td>0.000000</td>\n",
       "      <td>147.000000</td>\n",
       "      <td>236.000000</td>\n",
       "      <td>335.000000</td>\n",
       "      <td>556.000000</td>\n",
       "    </tr>\n",
       "    <tr>\n",
       "      <th>lead_desc_length</th>\n",
       "      <td>59299.0</td>\n",
       "      <td>79.271590</td>\n",
       "      <td>132.551067</td>\n",
       "      <td>1.000000</td>\n",
       "      <td>7.000000</td>\n",
       "      <td>29.000000</td>\n",
       "      <td>92.000000</td>\n",
       "      <td>1264.000000</td>\n",
       "    </tr>\n",
       "    <tr>\n",
       "      <th>inquiry_type</th>\n",
       "      <td>59299.0</td>\n",
       "      <td>36.279381</td>\n",
       "      <td>6.250802</td>\n",
       "      <td>0.000000</td>\n",
       "      <td>34.000000</td>\n",
       "      <td>34.000000</td>\n",
       "      <td>34.000000</td>\n",
       "      <td>62.000000</td>\n",
       "    </tr>\n",
       "    <tr>\n",
       "      <th>product_category</th>\n",
       "      <td>59299.0</td>\n",
       "      <td>62.624260</td>\n",
       "      <td>25.549681</td>\n",
       "      <td>0.000000</td>\n",
       "      <td>42.000000</td>\n",
       "      <td>61.000000</td>\n",
       "      <td>88.000000</td>\n",
       "      <td>88.000000</td>\n",
       "    </tr>\n",
       "    <tr>\n",
       "      <th>product_subcategory</th>\n",
       "      <td>59299.0</td>\n",
       "      <td>278.560718</td>\n",
       "      <td>71.150628</td>\n",
       "      <td>0.000000</td>\n",
       "      <td>305.000000</td>\n",
       "      <td>305.000000</td>\n",
       "      <td>305.000000</td>\n",
       "      <td>305.000000</td>\n",
       "    </tr>\n",
       "    <tr>\n",
       "      <th>product_modelname</th>\n",
       "      <td>59299.0</td>\n",
       "      <td>335.467647</td>\n",
       "      <td>78.188200</td>\n",
       "      <td>0.000000</td>\n",
       "      <td>364.000000</td>\n",
       "      <td>364.000000</td>\n",
       "      <td>364.000000</td>\n",
       "      <td>364.000000</td>\n",
       "    </tr>\n",
       "    <tr>\n",
       "      <th>customer_position</th>\n",
       "      <td>59299.0</td>\n",
       "      <td>58.606874</td>\n",
       "      <td>24.665250</td>\n",
       "      <td>0.000000</td>\n",
       "      <td>36.000000</td>\n",
       "      <td>74.000000</td>\n",
       "      <td>74.000000</td>\n",
       "      <td>117.000000</td>\n",
       "    </tr>\n",
       "    <tr>\n",
       "      <th>response_corporate</th>\n",
       "      <td>59299.0</td>\n",
       "      <td>29.919526</td>\n",
       "      <td>13.416593</td>\n",
       "      <td>0.000000</td>\n",
       "      <td>21.000000</td>\n",
       "      <td>30.000000</td>\n",
       "      <td>43.000000</td>\n",
       "      <td>52.000000</td>\n",
       "    </tr>\n",
       "    <tr>\n",
       "      <th>expected_timeline</th>\n",
       "      <td>59299.0</td>\n",
       "      <td>308.341338</td>\n",
       "      <td>147.680788</td>\n",
       "      <td>0.000000</td>\n",
       "      <td>229.000000</td>\n",
       "      <td>433.000000</td>\n",
       "      <td>433.000000</td>\n",
       "      <td>433.000000</td>\n",
       "    </tr>\n",
       "    <tr>\n",
       "      <th>ver_cus</th>\n",
       "      <td>59299.0</td>\n",
       "      <td>0.041603</td>\n",
       "      <td>0.199681</td>\n",
       "      <td>0.000000</td>\n",
       "      <td>0.000000</td>\n",
       "      <td>0.000000</td>\n",
       "      <td>0.000000</td>\n",
       "      <td>1.000000</td>\n",
       "    </tr>\n",
       "    <tr>\n",
       "      <th>ver_pro</th>\n",
       "      <td>59299.0</td>\n",
       "      <td>0.050810</td>\n",
       "      <td>0.219612</td>\n",
       "      <td>0.000000</td>\n",
       "      <td>0.000000</td>\n",
       "      <td>0.000000</td>\n",
       "      <td>0.000000</td>\n",
       "      <td>1.000000</td>\n",
       "    </tr>\n",
       "    <tr>\n",
       "      <th>ver_win_rate_x</th>\n",
       "      <td>59299.0</td>\n",
       "      <td>0.000720</td>\n",
       "      <td>0.000248</td>\n",
       "      <td>0.000002</td>\n",
       "      <td>0.000572</td>\n",
       "      <td>0.000735</td>\n",
       "      <td>0.000829</td>\n",
       "      <td>0.001183</td>\n",
       "    </tr>\n",
       "    <tr>\n",
       "      <th>ver_win_ratio_per_bu</th>\n",
       "      <td>59299.0</td>\n",
       "      <td>0.040678</td>\n",
       "      <td>0.015888</td>\n",
       "      <td>0.011583</td>\n",
       "      <td>0.022888</td>\n",
       "      <td>0.044721</td>\n",
       "      <td>0.053482</td>\n",
       "      <td>0.079412</td>\n",
       "    </tr>\n",
       "    <tr>\n",
       "      <th>business_area</th>\n",
       "      <td>59299.0</td>\n",
       "      <td>9.777602</td>\n",
       "      <td>3.936383</td>\n",
       "      <td>0.000000</td>\n",
       "      <td>9.000000</td>\n",
       "      <td>12.000000</td>\n",
       "      <td>12.000000</td>\n",
       "      <td>12.000000</td>\n",
       "    </tr>\n",
       "    <tr>\n",
       "      <th>business_subarea</th>\n",
       "      <td>59299.0</td>\n",
       "      <td>50.266176</td>\n",
       "      <td>17.736450</td>\n",
       "      <td>0.000000</td>\n",
       "      <td>39.000000</td>\n",
       "      <td>53.000000</td>\n",
       "      <td>62.000000</td>\n",
       "      <td>85.000000</td>\n",
       "    </tr>\n",
       "    <tr>\n",
       "      <th>lead_owner</th>\n",
       "      <td>59299.0</td>\n",
       "      <td>262.563888</td>\n",
       "      <td>231.605681</td>\n",
       "      <td>0.000000</td>\n",
       "      <td>97.000000</td>\n",
       "      <td>175.000000</td>\n",
       "      <td>374.000000</td>\n",
       "      <td>1114.000000</td>\n",
       "    </tr>\n",
       "  </tbody>\n",
       "</table>\n",
       "</div>"
      ],
      "text/plain": [
       "                           count          mean           std       min  \\\n",
       "bant_submit              59299.0      0.634593      0.286066  0.000000   \n",
       "customer_country         59299.0     83.366650     47.607821  0.000000   \n",
       "business_unit            59299.0      1.320494      1.172829  0.000000   \n",
       "com_reg_ver_win_rate     59299.0      0.037293      0.024062  0.003725   \n",
       "customer_idx             59299.0  27114.556333  14653.911888  2.000000   \n",
       "customer_type            59299.0     10.997302      5.516791  0.000000   \n",
       "enterprise               59299.0      0.362839      0.480823  0.000000   \n",
       "historical_existing_cnt  59299.0      5.566027      7.296847  0.000000   \n",
       "id_strategic_ver         59299.0      0.431087      0.495232  0.000000   \n",
       "it_strategic_ver         59299.0      0.146107      0.353216  0.000000   \n",
       "idit_strategic_ver       59299.0      0.577194      0.494009  0.000000   \n",
       "customer_job             59299.0    233.520852    130.555883  0.000000   \n",
       "lead_desc_length         59299.0     79.271590    132.551067  1.000000   \n",
       "inquiry_type             59299.0     36.279381      6.250802  0.000000   \n",
       "product_category         59299.0     62.624260     25.549681  0.000000   \n",
       "product_subcategory      59299.0    278.560718     71.150628  0.000000   \n",
       "product_modelname        59299.0    335.467647     78.188200  0.000000   \n",
       "customer_position        59299.0     58.606874     24.665250  0.000000   \n",
       "response_corporate       59299.0     29.919526     13.416593  0.000000   \n",
       "expected_timeline        59299.0    308.341338    147.680788  0.000000   \n",
       "ver_cus                  59299.0      0.041603      0.199681  0.000000   \n",
       "ver_pro                  59299.0      0.050810      0.219612  0.000000   \n",
       "ver_win_rate_x           59299.0      0.000720      0.000248  0.000002   \n",
       "ver_win_ratio_per_bu     59299.0      0.040678      0.015888  0.011583   \n",
       "business_area            59299.0      9.777602      3.936383  0.000000   \n",
       "business_subarea         59299.0     50.266176     17.736450  0.000000   \n",
       "lead_owner               59299.0    262.563888    231.605681  0.000000   \n",
       "\n",
       "                                  25%           50%           75%  \\\n",
       "bant_submit                  0.500000      0.500000      1.000000   \n",
       "customer_country            43.000000     77.000000    124.000000   \n",
       "business_unit                0.000000      2.000000      2.000000   \n",
       "com_reg_ver_win_rate         0.015994      0.034134      0.055940   \n",
       "customer_idx             14913.000000  26774.000000  40368.500000   \n",
       "customer_type                9.000000      9.000000     14.000000   \n",
       "enterprise                   0.000000      0.000000      1.000000   \n",
       "historical_existing_cnt      0.000000      2.000000      9.000000   \n",
       "id_strategic_ver             0.000000      0.000000      1.000000   \n",
       "it_strategic_ver             0.000000      0.000000      0.000000   \n",
       "idit_strategic_ver           0.000000      1.000000      1.000000   \n",
       "customer_job               147.000000    236.000000    335.000000   \n",
       "lead_desc_length             7.000000     29.000000     92.000000   \n",
       "inquiry_type                34.000000     34.000000     34.000000   \n",
       "product_category            42.000000     61.000000     88.000000   \n",
       "product_subcategory        305.000000    305.000000    305.000000   \n",
       "product_modelname          364.000000    364.000000    364.000000   \n",
       "customer_position           36.000000     74.000000     74.000000   \n",
       "response_corporate          21.000000     30.000000     43.000000   \n",
       "expected_timeline          229.000000    433.000000    433.000000   \n",
       "ver_cus                      0.000000      0.000000      0.000000   \n",
       "ver_pro                      0.000000      0.000000      0.000000   \n",
       "ver_win_rate_x               0.000572      0.000735      0.000829   \n",
       "ver_win_ratio_per_bu         0.022888      0.044721      0.053482   \n",
       "business_area                9.000000     12.000000     12.000000   \n",
       "business_subarea            39.000000     53.000000     62.000000   \n",
       "lead_owner                  97.000000    175.000000    374.000000   \n",
       "\n",
       "                                  max  \n",
       "bant_submit                  1.000000  \n",
       "customer_country           172.000000  \n",
       "business_unit                4.000000  \n",
       "com_reg_ver_win_rate         0.143031  \n",
       "customer_idx             47466.000000  \n",
       "customer_type               27.000000  \n",
       "enterprise                   1.000000  \n",
       "historical_existing_cnt     46.000000  \n",
       "id_strategic_ver             1.000000  \n",
       "it_strategic_ver             1.000000  \n",
       "idit_strategic_ver           1.000000  \n",
       "customer_job               556.000000  \n",
       "lead_desc_length          1264.000000  \n",
       "inquiry_type                62.000000  \n",
       "product_category            88.000000  \n",
       "product_subcategory        305.000000  \n",
       "product_modelname          364.000000  \n",
       "customer_position          117.000000  \n",
       "response_corporate          52.000000  \n",
       "expected_timeline          433.000000  \n",
       "ver_cus                      1.000000  \n",
       "ver_pro                      1.000000  \n",
       "ver_win_rate_x               0.001183  \n",
       "ver_win_ratio_per_bu         0.079412  \n",
       "business_area               12.000000  \n",
       "business_subarea            85.000000  \n",
       "lead_owner                1114.000000  "
      ]
     },
     "execution_count": 114,
     "metadata": {},
     "output_type": "execute_result"
    }
   ],
   "source": [
    "train_stats = df_train.describe()\n",
    "train_stats = train_stats.transpose()\n",
    "train_stats"
   ]
  },
  {
   "cell_type": "code",
   "execution_count": 115,
   "id": "23f0920d",
   "metadata": {},
   "outputs": [],
   "source": [
    "def norm(x) :\n",
    "    return (x - train_stats['mean']) / train_stats['std']"
   ]
  },
  {
   "cell_type": "code",
   "execution_count": 116,
   "id": "27c9e205",
   "metadata": {},
   "outputs": [],
   "source": [
    "x_train, x_val, y_train, y_val = train_test_split(\n",
    "    df_train.drop(\"is_converted\", axis=1).fillna(0),\n",
    "    df_train[\"is_converted\"],\n",
    "    test_size=0.2,\n",
    "    shuffle=True,\n",
    "    stratify = df_train['is_converted'],\n",
    ")"
   ]
  },
  {
   "cell_type": "code",
   "execution_count": 117,
   "id": "760b0336",
   "metadata": {},
   "outputs": [],
   "source": [
    "normed_train_data = norm(x_train)\n",
    "normed_val_data = norm(x_val)\n",
    "normed_test_data = norm(df_test.drop(['is_converted','id'],axis = 1))"
   ]
  },
  {
   "cell_type": "code",
   "execution_count": 118,
   "id": "7f103e36",
   "metadata": {},
   "outputs": [],
   "source": [
    "# from sklearn.preprocessing import StandardScaler\n",
    "# ss = StandardScaler()\n",
    "# ss.fit(x_train)\n",
    "# from sklearn.preprocessing import MinMaxScaler\n",
    "# ss = MinMaxScaler()\n",
    "# ss.fit(x_train)"
   ]
  },
  {
   "cell_type": "code",
   "execution_count": 119,
   "id": "e813af5f",
   "metadata": {},
   "outputs": [],
   "source": [
    "# normed_train_data = ss.transform(x_train)\n",
    "# normed_val_data = ss.transform(x_val)\n",
    "# normed_test_data = ss.transform(df_test.drop(['is_converted','id'],axis = 1))"
   ]
  },
  {
   "cell_type": "code",
   "execution_count": 120,
   "id": "f39551c1",
   "metadata": {},
   "outputs": [],
   "source": [
    "# print(normed_train_data.shape, normed_val_data.shape, normed_test_data.shape)"
   ]
  },
  {
   "cell_type": "code",
   "execution_count": 268,
   "id": "d253b125",
   "metadata": {},
   "outputs": [],
   "source": [
    "def build_model() :\n",
    "    model = keras.Sequential([\n",
    "        layers.BatchNormalization(input_shape = [len(x_train.keys())]),\n",
    "        layers.Dense(128, activation = 'relu'),\n",
    "        layers.BatchNormalization(),\n",
    "        layers.Dropout(rate = 0.3),\n",
    "        layers.Dense(256, activation = 'relu' ),\n",
    "        layers.BatchNormalization(),\n",
    "        layers.Dropout(rate = 0.3),\n",
    "        layers.Dense(128, activation = 'tanh' ),\n",
    "        layers.BatchNormalization(),\n",
    "        layers.Dropout(rate = 0.3),\n",
    "        layers.Dense(1, activation = 'sigmoid')\n",
    "    ])\n",
    "    \n",
    "    optimizer = tf.keras.optimizers.SGD(learning_rate = 0.02)\n",
    "    model.compile(optimizer = optimizer, loss = 'binary_crossentropy', metrics = ['binary_accuracy'])\n",
    "    return model"
   ]
  },
  {
   "cell_type": "code",
   "execution_count": 269,
   "id": "39bb617a",
   "metadata": {},
   "outputs": [],
   "source": [
    "model = build_model()"
   ]
  },
  {
   "cell_type": "code",
   "execution_count": 270,
   "id": "7c6dd694",
   "metadata": {
    "scrolled": false
   },
   "outputs": [
    {
     "name": "stdout",
     "output_type": "stream",
     "text": [
      "Model: \"sequential_8\"\n",
      "_________________________________________________________________\n",
      " Layer (type)                Output Shape              Param #   \n",
      "=================================================================\n",
      " batch_normalization_28 (Bat  (None, 27)               108       \n",
      " chNormalization)                                                \n",
      "                                                                 \n",
      " dense_28 (Dense)            (None, 128)               3584      \n",
      "                                                                 \n",
      " batch_normalization_29 (Bat  (None, 128)              512       \n",
      " chNormalization)                                                \n",
      "                                                                 \n",
      " dropout_20 (Dropout)        (None, 128)               0         \n",
      "                                                                 \n",
      " dense_29 (Dense)            (None, 256)               33024     \n",
      "                                                                 \n",
      " batch_normalization_30 (Bat  (None, 256)              1024      \n",
      " chNormalization)                                                \n",
      "                                                                 \n",
      " dropout_21 (Dropout)        (None, 256)               0         \n",
      "                                                                 \n",
      " dense_30 (Dense)            (None, 128)               32896     \n",
      "                                                                 \n",
      " batch_normalization_31 (Bat  (None, 128)              512       \n",
      " chNormalization)                                                \n",
      "                                                                 \n",
      " dropout_22 (Dropout)        (None, 128)               0         \n",
      "                                                                 \n",
      " dense_31 (Dense)            (None, 1)                 129       \n",
      "                                                                 \n",
      "=================================================================\n",
      "Total params: 71,789\n",
      "Trainable params: 70,711\n",
      "Non-trainable params: 1,078\n",
      "_________________________________________________________________\n"
     ]
    }
   ],
   "source": [
    "model.summary()"
   ]
  },
  {
   "cell_type": "code",
   "execution_count": 271,
   "id": "48a3d2ea",
   "metadata": {},
   "outputs": [],
   "source": [
    "class PrintDot(keras.callbacks.Callback):\n",
    "    def on_epoch_end(self, epoch, logs):\n",
    "        if epoch % 100 == 0: print('')\n",
    "        print('.', end = '')\n",
    "        \n",
    "early_stopping = keras.callbacks.EarlyStopping(\n",
    "    patience=5,\n",
    "    min_delta=0.001,\n",
    "    restore_best_weights=True,\n",
    ")\n",
    "\n",
    "EPOCHS =  800"
   ]
  },
  {
   "cell_type": "code",
   "execution_count": 272,
   "id": "fd0c9f73",
   "metadata": {},
   "outputs": [
    {
     "name": "stdout",
     "output_type": "stream",
     "text": [
      "\n",
      "....................................................................................................\n",
      "....................................................................................................\n",
      "....................................................................................................\n",
      "....................................................................................................\n",
      "....................................................................................................\n",
      "....................................................................................................\n",
      "....................................................................................................\n",
      "...................................................................................................."
     ]
    }
   ],
   "source": [
    "history = model.fit(normed_train_data, y_train, \n",
    "                    epochs = EPOCHS, \n",
    "                    validation_split = 0.2, \n",
    "                    verbose = 0,\n",
    "                    batch_size = 512,\n",
    "                    callbacks = [PrintDot()])"
   ]
  },
  {
   "cell_type": "code",
   "execution_count": 273,
   "id": "a2013c0b",
   "metadata": {},
   "outputs": [
    {
     "data": {
      "text/html": [
       "<div>\n",
       "<style scoped>\n",
       "    .dataframe tbody tr th:only-of-type {\n",
       "        vertical-align: middle;\n",
       "    }\n",
       "\n",
       "    .dataframe tbody tr th {\n",
       "        vertical-align: top;\n",
       "    }\n",
       "\n",
       "    .dataframe thead th {\n",
       "        text-align: right;\n",
       "    }\n",
       "</style>\n",
       "<table border=\"1\" class=\"dataframe\">\n",
       "  <thead>\n",
       "    <tr style=\"text-align: right;\">\n",
       "      <th></th>\n",
       "      <th>loss</th>\n",
       "      <th>binary_accuracy</th>\n",
       "      <th>val_loss</th>\n",
       "      <th>val_binary_accuracy</th>\n",
       "      <th>epoch</th>\n",
       "    </tr>\n",
       "  </thead>\n",
       "  <tbody>\n",
       "    <tr>\n",
       "      <th>790</th>\n",
       "      <td>0.281634</td>\n",
       "      <td>0.917973</td>\n",
       "      <td>0.282611</td>\n",
       "      <td>0.919161</td>\n",
       "      <td>790</td>\n",
       "    </tr>\n",
       "    <tr>\n",
       "      <th>791</th>\n",
       "      <td>0.281104</td>\n",
       "      <td>0.917973</td>\n",
       "      <td>0.282805</td>\n",
       "      <td>0.919161</td>\n",
       "      <td>791</td>\n",
       "    </tr>\n",
       "    <tr>\n",
       "      <th>792</th>\n",
       "      <td>0.280747</td>\n",
       "      <td>0.917973</td>\n",
       "      <td>0.282921</td>\n",
       "      <td>0.919161</td>\n",
       "      <td>792</td>\n",
       "    </tr>\n",
       "    <tr>\n",
       "      <th>793</th>\n",
       "      <td>0.281213</td>\n",
       "      <td>0.917973</td>\n",
       "      <td>0.282924</td>\n",
       "      <td>0.919161</td>\n",
       "      <td>793</td>\n",
       "    </tr>\n",
       "    <tr>\n",
       "      <th>794</th>\n",
       "      <td>0.281614</td>\n",
       "      <td>0.917973</td>\n",
       "      <td>0.282819</td>\n",
       "      <td>0.919161</td>\n",
       "      <td>794</td>\n",
       "    </tr>\n",
       "    <tr>\n",
       "      <th>795</th>\n",
       "      <td>0.281407</td>\n",
       "      <td>0.917973</td>\n",
       "      <td>0.282809</td>\n",
       "      <td>0.919161</td>\n",
       "      <td>795</td>\n",
       "    </tr>\n",
       "    <tr>\n",
       "      <th>796</th>\n",
       "      <td>0.280751</td>\n",
       "      <td>0.917973</td>\n",
       "      <td>0.282926</td>\n",
       "      <td>0.919161</td>\n",
       "      <td>796</td>\n",
       "    </tr>\n",
       "    <tr>\n",
       "      <th>797</th>\n",
       "      <td>0.281222</td>\n",
       "      <td>0.917973</td>\n",
       "      <td>0.282915</td>\n",
       "      <td>0.919161</td>\n",
       "      <td>797</td>\n",
       "    </tr>\n",
       "    <tr>\n",
       "      <th>798</th>\n",
       "      <td>0.281475</td>\n",
       "      <td>0.917973</td>\n",
       "      <td>0.282826</td>\n",
       "      <td>0.919161</td>\n",
       "      <td>798</td>\n",
       "    </tr>\n",
       "    <tr>\n",
       "      <th>799</th>\n",
       "      <td>0.281324</td>\n",
       "      <td>0.917973</td>\n",
       "      <td>0.282862</td>\n",
       "      <td>0.919161</td>\n",
       "      <td>799</td>\n",
       "    </tr>\n",
       "  </tbody>\n",
       "</table>\n",
       "</div>"
      ],
      "text/plain": [
       "         loss  binary_accuracy  val_loss  val_binary_accuracy  epoch\n",
       "790  0.281634         0.917973  0.282611             0.919161    790\n",
       "791  0.281104         0.917973  0.282805             0.919161    791\n",
       "792  0.280747         0.917973  0.282921             0.919161    792\n",
       "793  0.281213         0.917973  0.282924             0.919161    793\n",
       "794  0.281614         0.917973  0.282819             0.919161    794\n",
       "795  0.281407         0.917973  0.282809             0.919161    795\n",
       "796  0.280751         0.917973  0.282926             0.919161    796\n",
       "797  0.281222         0.917973  0.282915             0.919161    797\n",
       "798  0.281475         0.917973  0.282826             0.919161    798\n",
       "799  0.281324         0.917973  0.282862             0.919161    799"
      ]
     },
     "execution_count": 273,
     "metadata": {},
     "output_type": "execute_result"
    }
   ],
   "source": [
    "hist = pd.DataFrame(history.history)\n",
    "hist['epoch'] = history.epoch\n",
    "hist.tail(10)"
   ]
  },
  {
   "cell_type": "code",
   "execution_count": 274,
   "id": "18c6b7f1",
   "metadata": {},
   "outputs": [
    {
     "data": {
      "text/plain": [
       "<Axes: title={'center': 'Accuracy'}>"
      ]
     },
     "execution_count": 274,
     "metadata": {},
     "output_type": "execute_result"
    },
    {
     "data": {
      "image/png": "[encoded data removed]",
      "text/plain": [
       "<Figure size 640x480 with 1 Axes>"
      ]
     },
     "metadata": {},
     "output_type": "display_data"
    },
    {
     "data": {
      "image/png": "[encoded data removed]",
      "text/plain": [
       "<Figure size 640x480 with 1 Axes>"
      ]
     },
     "metadata": {},
     "output_type": "display_data"
    }
   ],
   "source": [
    "hist.loc[:, ['loss', 'val_loss']].plot(title = 'Cross-entropy')\n",
    "hist.loc[:, ['binary_accuracy', 'val_binary_accuracy']].plot(title = 'Accuracy')"
   ]
  },
  {
   "cell_type": "code",
   "execution_count": 275,
   "id": "b6a7b279",
   "metadata": {},
   "outputs": [
    {
     "data": {
      "image/png": "[encoded data removed]",
      "text/plain": [
       "<Figure size 640x480 with 1 Axes>"
      ]
     },
     "metadata": {},
     "output_type": "display_data"
    }
   ],
   "source": [
    "history_dict = history.history\n",
    "loss = history_dict['loss']\n",
    "val_loss = history_dict['val_loss']\n",
    "\n",
    "epochs = range(1, len(loss)+1)\n",
    "\n",
    "plt.plot(epochs, loss, 'go', label='Training loss') #go : green dot\n",
    "plt.plot(epochs, val_loss, 'g', label='Validation loss') #g : green \n",
    "\n",
    "plt.title('Training & Validation Loss')\n",
    "plt.xlabel('Epochs')\n",
    "plt.ylabel('Loss')\n",
    "plt.legend()\n",
    "\n",
    "plt.show()"
   ]
  },
  {
   "cell_type": "code",
   "execution_count": 276,
   "id": "6e3e1256",
   "metadata": {},
   "outputs": [
    {
     "data": {
      "image/png": "[encoded data removed]",
      "text/plain": [
       "<Figure size 640x480 with 1 Axes>"
      ]
     },
     "metadata": {},
     "output_type": "display_data"
    }
   ],
   "source": [
    "plt.clf() #그래프 초기화하기\n",
    "acc = history_dict['binary_accuracy']\n",
    "val_acc = history_dict['val_binary_accuracy']\n",
    "\n",
    "plt.plot(epochs, acc, 'go', label='Training acc') #go : green dot\n",
    "plt.plot(epochs, val_acc, 'g', label='Validation acc') #g : green line\n",
    "plt.title('Training & Validation accuracy')\n",
    "plt.xlabel('Epochs')\n",
    "plt.ylabel('Accuracy')\n",
    "plt.legend()\n",
    "\n",
    "plt.show()"
   ]
  },
  {
   "cell_type": "code",
   "execution_count": 277,
   "id": "bfc8bdc2",
   "metadata": {},
   "outputs": [
    {
     "name": "stdout",
     "output_type": "stream",
     "text": [
      "371/371 - 0s - loss: 0.2857 - binary_accuracy: 0.9182 - 417ms/epoch - 1ms/step\n"
     ]
    },
    {
     "data": {
      "text/plain": [
       "[0.2857297658920288, 0.9182124733924866]"
      ]
     },
     "execution_count": 277,
     "metadata": {},
     "output_type": "execute_result"
    }
   ],
   "source": [
    "model.evaluate(normed_val_data, y_val,verbose=2)"
   ]
  },
  {
   "cell_type": "markdown",
   "id": "6bf2de5f",
   "metadata": {},
   "source": [
    "### 모델 성능 보기"
   ]
  },
  {
   "cell_type": "code",
   "execution_count": 278,
   "id": "c8871444",
   "metadata": {},
   "outputs": [],
   "source": [
    "def get_clf_eval(y_test, y_pred=None):\n",
    "    confusion = confusion_matrix(y_test, y_pred, labels=[True, False])\n",
    "    accuracy = accuracy_score(y_test, y_pred)\n",
    "    precision = precision_score(y_test, y_pred, labels=[True, False])\n",
    "    recall = recall_score(y_test, y_pred)\n",
    "    F1 = f1_score(y_test, y_pred, labels=[True, False])\n",
    "\n",
    "    print(\"오차행렬:\\n\", confusion)\n",
    "    print(\"\\n정확도: {:.4f}\".format(accuracy))\n",
    "    print(\"정밀도: {:.4f}\".format(precision))\n",
    "    print(\"재현율: {:.4f}\".format(recall))\n",
    "    print(\"F1: {:.4f}\".format(F1))"
   ]
  },
  {
   "cell_type": "code",
   "execution_count": 279,
   "id": "56a86373",
   "metadata": {
    "scrolled": true
   },
   "outputs": [
    {
     "name": "stdout",
     "output_type": "stream",
     "text": [
      "371/371 [==============================] - 0s 1ms/step\n",
      "오차행렬:\n",
      " [[    0   970]\n",
      " [    0 10890]]\n",
      "\n",
      "정확도: 0.9182\n",
      "정밀도: 0.0000\n",
      "재현율: 0.0000\n",
      "F1: 0.0000\n"
     ]
    }
   ],
   "source": [
    "pred = model.predict(normed_val_data)\n",
    "\n",
    "pred = (pred > 0.5).astype(int)\n",
    "get_clf_eval(y_val, pred)"
   ]
  },
  {
   "cell_type": "code",
   "execution_count": 280,
   "id": "43daa73c",
   "metadata": {},
   "outputs": [],
   "source": [
    "# # 예측에 필요한 데이터 분리\n",
    "x_test = df_test.drop([\"is_converted\", \"id\"], axis=1)"
   ]
  },
  {
   "cell_type": "markdown",
   "id": "7adf8300",
   "metadata": {},
   "source": [
    "## 4. 제출하기"
   ]
  },
  {
   "cell_type": "markdown",
   "id": "9d0b6e17",
   "metadata": {},
   "source": [
    "### 테스트 데이터 예측"
   ]
  },
  {
   "cell_type": "code",
   "execution_count": 281,
   "id": "d13f7a6e",
   "metadata": {
    "scrolled": true
   },
   "outputs": [
    {
     "name": "stdout",
     "output_type": "stream",
     "text": [
      "165/165 [==============================] - 0s 1ms/step\n",
      "False    5271\n",
      "Name: count, dtype: int64\n"
     ]
    }
   ],
   "source": [
    "test_pred = model.predict(normed_test_data)\n",
    "test_pred = (test_pred > 0.5).astype(bool)\n",
    "# sum(test_pred) # True로 예측된 개수\n",
    "print(pd.DataFrame(test_pred).value_counts())"
   ]
  },
  {
   "cell_type": "code",
   "execution_count": 282,
   "id": "5c613eb0",
   "metadata": {},
   "outputs": [
    {
     "data": {
      "text/plain": [
       "is_converted\n",
       "False    4973\n",
       "True      298\n",
       "Name: count, dtype: int64"
      ]
     },
     "execution_count": 282,
     "metadata": {},
     "output_type": "execute_result"
    }
   ],
   "source": [
    "df_test['is_converted'].value_counts()"
   ]
  },
  {
   "cell_type": "code",
   "execution_count": 283,
   "id": "e31743f3",
   "metadata": {
    "scrolled": true
   },
   "outputs": [
    {
     "name": "stdout",
     "output_type": "stream",
     "text": [
      "298\n"
     ]
    }
   ],
   "source": [
    "print(sum(df_test['is_converted']))"
   ]
  },
  {
   "cell_type": "markdown",
   "id": "47f18e6a",
   "metadata": {},
   "source": [
    "### 제출 파일 작성"
   ]
  },
  {
   "cell_type": "code",
   "execution_count": 250,
   "id": "3128a458",
   "metadata": {},
   "outputs": [],
   "source": [
    "# # 제출 데이터 읽어오기 (df_test는 전처리된 데이터가 저장됨)\n",
    "# df_sub = pd.read_csv(\"submission.csv\")\n",
    "# df_sub[\"is_converted\"] = test_pred\n",
    "\n",
    "# # 제출 파일 저장\n",
    "# df_sub.to_csv(\"submission.csv\", index=False)"
   ]
  },
  {
   "cell_type": "markdown",
   "id": "ec7867ce",
   "metadata": {},
   "source": [
    "**우측 상단의 제출 버튼을 클릭해 결과를 확인하세요**"
   ]
  }
 ],
 "metadata": {
  "kernelspec": {
   "display_name": "Python 3 (ipykernel)",
   "language": "python",
   "name": "python3"
  },
  "language_info": {
   "codemirror_mode": {
    "name": "ipython",
    "version": 3
   },
   "file_extension": ".py",
   "mimetype": "text/x-python",
   "name": "python",
   "nbconvert_exporter": "python",
   "pygments_lexer": "ipython3",
   "version": "3.10.13"
  }
 },
 "nbformat": 4,
 "nbformat_minor": 5
}
